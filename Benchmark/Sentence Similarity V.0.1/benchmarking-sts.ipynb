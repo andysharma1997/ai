{
 "cells": [
  {
   "cell_type": "markdown",
   "metadata": {},
   "source": [
    "# Importing necessary packages"
   ]
  },
  {
   "cell_type": "code",
   "execution_count": 4,
   "metadata": {},
   "outputs": [],
   "source": [
    "import pandas as pd\n",
    "import os\n",
    "import numpy as np\n",
    "import requests\n",
    "import json\n",
    "from sklearn.preprocessing import MinMaxScaler\n",
    "from scipy import stats\n",
    "from scipy.stats import pearsonr\n",
    "fileDir = os.path.dirname(os.path.realpath('__file__'))"
   ]
  },
  {
   "cell_type": "markdown",
   "metadata": {},
   "source": [
    "# Reading the data set"
   ]
  },
  {
   "cell_type": "code",
   "execution_count": 5,
   "metadata": {},
   "outputs": [],
   "source": [
    "data = open(os.path.join(fileDir, 'sts-dev.csv'))\n",
    "d1 = data.readlines()"
   ]
  },
  {
   "cell_type": "code",
   "execution_count": 6,
   "metadata": {},
   "outputs": [],
   "source": [
    "data = open(os.path.join(fileDir, 'sts-test.csv'))\n",
    "d2 = data.readlines()"
   ]
  },
  {
   "cell_type": "code",
   "execution_count": 7,
   "metadata": {},
   "outputs": [
    {
     "data": {
      "text/plain": [
       "8628"
      ]
     },
     "execution_count": 7,
     "metadata": {},
     "output_type": "execute_result"
    }
   ],
   "source": [
    "data = open(os.path.join(fileDir, 'sts-train.csv'))\n",
    "d3 = data.readlines()\n",
    "len(d1) + len(d2) + len(d3)"
   ]
  },
  {
   "cell_type": "code",
   "execution_count": 8,
   "metadata": {},
   "outputs": [],
   "source": [
    "data = d1 + d2 + d3"
   ]
  },
  {
   "cell_type": "markdown",
   "metadata": {},
   "source": [
    "# Separating Sentence 1, Sentence 2 and Score"
   ]
  },
  {
   "cell_type": "code",
   "execution_count": 9,
   "metadata": {},
   "outputs": [],
   "source": [
    "df = []\n",
    "for i in range(len(data)):\n",
    "    df.append(data[i].split('\\t'))\n",
    "score = []\n",
    "sentence1 = []\n",
    "sentence2 = []\n",
    "for j in range(len(df)):\n",
    "    score.append(df[j][4])\n",
    "    sentence1.append(df[j][5])\n",
    "    b = df[j][6]\n",
    "    sentence2.append(b.rstrip(\"\\n\"))"
   ]
  },
  {
   "cell_type": "markdown",
   "metadata": {},
   "source": [
    "# Creating DataFrame with columns Sentence1, Sentence2, Score"
   ]
  },
  {
   "cell_type": "code",
   "execution_count": 10,
   "metadata": {},
   "outputs": [],
   "source": [
    "dict = list(zip(sentence1, sentence2, score))\n",
    "df = pd.DataFrame(dict, columns = ['Sentence1', 'Sentence2', 'Score'])"
   ]
  },
  {
   "cell_type": "code",
   "execution_count": 13,
   "metadata": {},
   "outputs": [
    {
     "data": {
      "text/html": [
       "<div>\n",
       "<style scoped>\n",
       "    .dataframe tbody tr th:only-of-type {\n",
       "        vertical-align: middle;\n",
       "    }\n",
       "\n",
       "    .dataframe tbody tr th {\n",
       "        vertical-align: top;\n",
       "    }\n",
       "\n",
       "    .dataframe thead th {\n",
       "        text-align: right;\n",
       "    }\n",
       "</style>\n",
       "<table border=\"1\" class=\"dataframe\">\n",
       "  <thead>\n",
       "    <tr style=\"text-align: right;\">\n",
       "      <th></th>\n",
       "      <th>Sentence1</th>\n",
       "      <th>Sentence2</th>\n",
       "      <th>Score</th>\n",
       "    </tr>\n",
       "  </thead>\n",
       "  <tbody>\n",
       "    <tr>\n",
       "      <th>0</th>\n",
       "      <td>A man with a hard hat is dancing.</td>\n",
       "      <td>A man wearing a hard hat is dancing.</td>\n",
       "      <td>5.000</td>\n",
       "    </tr>\n",
       "    <tr>\n",
       "      <th>1</th>\n",
       "      <td>A young child is riding a horse.</td>\n",
       "      <td>A child is riding a horse.</td>\n",
       "      <td>4.750</td>\n",
       "    </tr>\n",
       "    <tr>\n",
       "      <th>2</th>\n",
       "      <td>A man is feeding a mouse to a snake.</td>\n",
       "      <td>The man is feeding a mouse to the snake.</td>\n",
       "      <td>5.000</td>\n",
       "    </tr>\n",
       "    <tr>\n",
       "      <th>3</th>\n",
       "      <td>A woman is playing the guitar.</td>\n",
       "      <td>A man is playing guitar.</td>\n",
       "      <td>2.400</td>\n",
       "    </tr>\n",
       "    <tr>\n",
       "      <th>4</th>\n",
       "      <td>A woman is playing the flute.</td>\n",
       "      <td>A man is playing a flute.</td>\n",
       "      <td>2.750</td>\n",
       "    </tr>\n",
       "  </tbody>\n",
       "</table>\n",
       "</div>"
      ],
      "text/plain": [
       "                              Sentence1  \\\n",
       "0     A man with a hard hat is dancing.   \n",
       "1      A young child is riding a horse.   \n",
       "2  A man is feeding a mouse to a snake.   \n",
       "3        A woman is playing the guitar.   \n",
       "4         A woman is playing the flute.   \n",
       "\n",
       "                                  Sentence2  Score  \n",
       "0      A man wearing a hard hat is dancing.  5.000  \n",
       "1                A child is riding a horse.  4.750  \n",
       "2  The man is feeding a mouse to the snake.  5.000  \n",
       "3                  A man is playing guitar.  2.400  \n",
       "4                 A man is playing a flute.  2.750  "
      ]
     },
     "execution_count": 13,
     "metadata": {},
     "output_type": "execute_result"
    }
   ],
   "source": [
    "df.head()"
   ]
  },
  {
   "cell_type": "markdown",
   "metadata": {},
   "source": [
    "#  Calling web service using POST method with this request\n",
    "### Model's\n",
    "* USE (Universal Sentence Encoder)\n",
    "* BERT (Bidirectional Encoder Representations from Transformers)"
   ]
  },
  {
   "cell_type": "code",
   "execution_count": 252,
   "metadata": {
    "scrolled": true
   },
   "outputs": [
    {
     "name": "stdout",
     "output_type": "stream",
     "text": [
      "http://192.168.0.9:5010/sentence_similarity?model=USE\n",
      "http://192.168.0.9:5010/sentence_similarity?model=BERT\n"
     ]
    }
   ],
   "source": [
    "BERT_SimilarityScore = []\n",
    "USE_SimilarityScore = []\n",
    "use = []\n",
    "bert = []\n",
    "\n",
    "model = [\"USE\", \"BERT\"]\n",
    "for y in model:\n",
    "    url = 'http://192.168.0.9:5010/sentence_similarity?model='+y\n",
    "    print(url)\n",
    "    for i in range(len(df)):\n",
    "        a = df.Sentence1[i].strip(\",\")\n",
    "        b = df.Sentence2[i].strip(\",\")\n",
    "        d = { \"sentence1\":\"\\'\"+str([df.Sentence1[i].replace(\",\", \"\")])+\"\\'\", \"sentence2\":\"\\'\"+str([df.Sentence2[i].replace(\",\", \"\")])+\"\\'\"}\n",
    "        r = requests.post(url, data=d)\n",
    "        if y == \"USE\":\n",
    "            use.append(r.json())\n",
    "        else:\n",
    "            bert.append(r.json())\n",
    "for u in range(len(use)):\n",
    "    USE_SimilarityScore.append(float(use[u][0][0][\"similarityScore\"]))\n",
    "    \n",
    "for k in range(len(use)):\n",
    "    BERT_SimilarityScore.append(float(bert[k][0][0][\"smilarity_score\"]))"
   ]
  },
  {
   "cell_type": "markdown",
   "metadata": {},
   "source": [
    "## Adding 2 new columns to the dataframe (USE_SimilarityScore & BERT_SimilarityScore) and also rescaling the Score column between 0 to 1 "
   ]
  },
  {
   "cell_type": "code",
   "execution_count": 253,
   "metadata": {},
   "outputs": [],
   "source": [
    "dic = list(zip(sentence1, sentence2, score, USE_SimilarityScore, BERT_SimilarityScore))\n",
    "df = pd.DataFrame(dic, columns = ['Sentence1', 'Sentence2', 'Score', 'USE_SimilarityScore', 'BERT_SimilarityScore'])\n",
    "\n",
    "scaler = MinMaxScaler()\n",
    "df['Score'] = scaler.fit_transform(df['Score'].values.reshape(-1,1))"
   ]
  },
  {
   "cell_type": "code",
   "execution_count": 254,
   "metadata": {
    "scrolled": true
   },
   "outputs": [
    {
     "data": {
      "text/html": [
       "<div>\n",
       "<style scoped>\n",
       "    .dataframe tbody tr th:only-of-type {\n",
       "        vertical-align: middle;\n",
       "    }\n",
       "\n",
       "    .dataframe tbody tr th {\n",
       "        vertical-align: top;\n",
       "    }\n",
       "\n",
       "    .dataframe thead th {\n",
       "        text-align: right;\n",
       "    }\n",
       "</style>\n",
       "<table border=\"1\" class=\"dataframe\">\n",
       "  <thead>\n",
       "    <tr style=\"text-align: right;\">\n",
       "      <th></th>\n",
       "      <th>Sentence1</th>\n",
       "      <th>Sentence2</th>\n",
       "      <th>Score</th>\n",
       "      <th>USE_SimilarityScore</th>\n",
       "      <th>BERT_SimilarityScore</th>\n",
       "    </tr>\n",
       "  </thead>\n",
       "  <tbody>\n",
       "    <tr>\n",
       "      <th>0</th>\n",
       "      <td>A man with a hard hat is dancing.</td>\n",
       "      <td>A man wearing a hard hat is dancing.</td>\n",
       "      <td>1.00</td>\n",
       "      <td>0.992501</td>\n",
       "      <td>0.996232</td>\n",
       "    </tr>\n",
       "    <tr>\n",
       "      <th>1</th>\n",
       "      <td>A young child is riding a horse.</td>\n",
       "      <td>A child is riding a horse.</td>\n",
       "      <td>0.95</td>\n",
       "      <td>0.989279</td>\n",
       "      <td>0.993364</td>\n",
       "    </tr>\n",
       "    <tr>\n",
       "      <th>2</th>\n",
       "      <td>A man is feeding a mouse to a snake.</td>\n",
       "      <td>The man is feeding a mouse to the snake.</td>\n",
       "      <td>1.00</td>\n",
       "      <td>0.976037</td>\n",
       "      <td>0.988224</td>\n",
       "    </tr>\n",
       "    <tr>\n",
       "      <th>3</th>\n",
       "      <td>A woman is playing the guitar.</td>\n",
       "      <td>A man is playing guitar.</td>\n",
       "      <td>0.48</td>\n",
       "      <td>0.733619</td>\n",
       "      <td>0.989176</td>\n",
       "    </tr>\n",
       "    <tr>\n",
       "      <th>4</th>\n",
       "      <td>A woman is playing the flute.</td>\n",
       "      <td>A man is playing a flute.</td>\n",
       "      <td>0.55</td>\n",
       "      <td>0.805151</td>\n",
       "      <td>0.992878</td>\n",
       "    </tr>\n",
       "  </tbody>\n",
       "</table>\n",
       "</div>"
      ],
      "text/plain": [
       "                              Sentence1  \\\n",
       "0     A man with a hard hat is dancing.   \n",
       "1      A young child is riding a horse.   \n",
       "2  A man is feeding a mouse to a snake.   \n",
       "3        A woman is playing the guitar.   \n",
       "4         A woman is playing the flute.   \n",
       "\n",
       "                                  Sentence2  Score  USE_SimilarityScore  \\\n",
       "0      A man wearing a hard hat is dancing.   1.00             0.992501   \n",
       "1                A child is riding a horse.   0.95             0.989279   \n",
       "2  The man is feeding a mouse to the snake.   1.00             0.976037   \n",
       "3                  A man is playing guitar.   0.48             0.733619   \n",
       "4                 A man is playing a flute.   0.55             0.805151   \n",
       "\n",
       "   BERT_SimilarityScore  \n",
       "0              0.996232  \n",
       "1              0.993364  \n",
       "2              0.988224  \n",
       "3              0.989176  \n",
       "4              0.992878  "
      ]
     },
     "execution_count": 254,
     "metadata": {},
     "output_type": "execute_result"
    }
   ],
   "source": [
    "df.head()"
   ]
  },
  {
   "cell_type": "code",
   "execution_count": 255,
   "metadata": {},
   "outputs": [],
   "source": [
    "# import matplotlib.pyplot as plt\n",
    "# # Plot\n",
    "# x = df[\"Score\"]\n",
    "# y = df[\"USE_SimilarityScore\"]\n",
    "# plt.scatter(x, y, alpha=0.5)\n",
    "# plt.title('Scatter plot pythonspot.com')\n",
    "# plt.xlabel('Human Generated Score')\n",
    "# plt.ylabel('USE Similarity Score')\n",
    "# plt.show()\n"
   ]
  },
  {
   "cell_type": "markdown",
   "metadata": {},
   "source": [
    "# Computing the Pearson correlation between USE semantic similarity scores and human judgement Score."
   ]
  },
  {
   "cell_type": "code",
   "execution_count": 256,
   "metadata": {},
   "outputs": [
    {
     "name": "stdout",
     "output_type": "stream",
     "text": [
      "Pearson Correlation Coefficient:  0.75241732107532 and a P-value of: 0.0\n"
     ]
    }
   ],
   "source": [
    "pearson_coef, p_value = stats.pearsonr(df[\"Score\"], df[\"USE_SimilarityScore\"]) \n",
    "print(\"Pearson Correlation Coefficient: \", pearson_coef, \"and a P-value of:\", p_value)"
   ]
  },
  {
   "cell_type": "markdown",
   "metadata": {},
   "source": [
    "# Computing the Pearson correlation between BERT semantic similarity scores and human judgement Score."
   ]
  },
  {
   "cell_type": "code",
   "execution_count": 257,
   "metadata": {},
   "outputs": [
    {
     "name": "stdout",
     "output_type": "stream",
     "text": [
      "Pearson Correlation Coefficient:  0.3887031289745391 and a P-value of: 3.34307788298359e-309\n"
     ]
    }
   ],
   "source": [
    "pearson_coef, p_value = pearsonr(df[\"Score\"], df[\"BERT_SimilarityScore\"])\n",
    "print(\"Pearson Correlation Coefficient: \", pearson_coef, \"and a P-value of:\", p_value)"
   ]
  },
  {
   "cell_type": "code",
   "execution_count": 258,
   "metadata": {},
   "outputs": [
    {
     "data": {
      "text/html": [
       "<div>\n",
       "<style scoped>\n",
       "    .dataframe tbody tr th:only-of-type {\n",
       "        vertical-align: middle;\n",
       "    }\n",
       "\n",
       "    .dataframe tbody tr th {\n",
       "        vertical-align: top;\n",
       "    }\n",
       "\n",
       "    .dataframe thead th {\n",
       "        text-align: right;\n",
       "    }\n",
       "</style>\n",
       "<table border=\"1\" class=\"dataframe\">\n",
       "  <thead>\n",
       "    <tr style=\"text-align: right;\">\n",
       "      <th></th>\n",
       "      <th>Score</th>\n",
       "      <th>USE_SimilarityScore</th>\n",
       "      <th>BERT_SimilarityScore</th>\n",
       "    </tr>\n",
       "  </thead>\n",
       "  <tbody>\n",
       "    <tr>\n",
       "      <th>Score</th>\n",
       "      <td>1.000000</td>\n",
       "      <td>0.752417</td>\n",
       "      <td>0.388703</td>\n",
       "    </tr>\n",
       "    <tr>\n",
       "      <th>USE_SimilarityScore</th>\n",
       "      <td>0.752417</td>\n",
       "      <td>1.000000</td>\n",
       "      <td>0.344512</td>\n",
       "    </tr>\n",
       "    <tr>\n",
       "      <th>BERT_SimilarityScore</th>\n",
       "      <td>0.388703</td>\n",
       "      <td>0.344512</td>\n",
       "      <td>1.000000</td>\n",
       "    </tr>\n",
       "  </tbody>\n",
       "</table>\n",
       "</div>"
      ],
      "text/plain": [
       "                         Score  USE_SimilarityScore  BERT_SimilarityScore\n",
       "Score                 1.000000             0.752417              0.388703\n",
       "USE_SimilarityScore   0.752417             1.000000              0.344512\n",
       "BERT_SimilarityScore  0.388703             0.344512              1.000000"
      ]
     },
     "execution_count": 258,
     "metadata": {},
     "output_type": "execute_result"
    }
   ],
   "source": [
    "df.corr()"
   ]
  }
 ],
 "metadata": {
  "kernelspec": {
   "display_name": "venv",
   "language": "python",
   "name": "venv"
  },
  "language_info": {
   "codemirror_mode": {
    "name": "ipython",
    "version": 3
   },
   "file_extension": ".py",
   "mimetype": "text/x-python",
   "name": "python",
   "nbconvert_exporter": "python",
   "pygments_lexer": "ipython3",
   "version": "3.6.8"
  }
 },
 "nbformat": 4,
 "nbformat_minor": 2
}
