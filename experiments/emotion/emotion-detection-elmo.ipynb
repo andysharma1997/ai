{
 "cells": [
  {
   "cell_type": "markdown",
   "metadata": {
    "colab_type": "text",
    "id": "view-in-github"
   },
   "source": [
    "<a href=\"https://colab.research.google.com/gist/absin1/b90f9eba8c0dec5d0e2391253df768ee/copy-of-transfer-learning-semantic-similarity-with-tf-hub-universal-encoder.ipynb\" target=\"_parent\"><img src=\"https://colab.research.google.com/assets/colab-badge.svg\" alt=\"Open In Colab\"/></a>"
   ]
  },
  {
   "cell_type": "markdown",
   "metadata": {
    "colab_type": "text",
    "id": "co7MV6sX7Xto"
   },
   "source": [
    "# [Keras + Universal Sentence Encoder = Transfer Learning for text data](https://www.dlology.com/blog/keras-meets-universal-sentence-encoder-transfer-learning-for-text-data/) Tutorial\n",
    "## Universal Sentence Encoder"
   ]
  },
  {
   "cell_type": "markdown",
   "metadata": {
    "colab_type": "text",
    "id": "eAVQGidpL8v5"
   },
   "source": [
    "This notebook illustrates how to access the Universal Sentence Encoder and use it for sentence similarity and sentence classification tasks.\n",
    "\n",
    "The Universal Sentence Encoder makes getting sentence level embeddings as easy as it has historically been to lookup the embeddings for individual words. The sentence embeddings can then be trivially used to compute sentence level meaning similarity as well as to enable better performance on downstream classification tasks using less supervised training data.\n"
   ]
  },
  {
   "cell_type": "markdown",
   "metadata": {
    "colab_type": "text",
    "id": "pOTzp8O36CyQ"
   },
   "source": [
    "# Getting Started\n",
    "\n",
    "This section sets up the environment for access to the Universal Sentence Encoder on TF Hub and provides examples of applying the encoder to words, sentences, and paragraphs."
   ]
  },
  {
   "cell_type": "code",
   "execution_count": 2,
   "metadata": {
    "colab": {
     "base_uri": "https://localhost:8080/",
     "height": 221
    },
    "colab_type": "code",
    "id": "lVjNK8shFKOC",
    "outputId": "68ee523a-0710-4180-e9f2-9551c3644fce"
   },
   "outputs": [],
   "source": [
    "# # Install the latest Tensorflow version.\n",
    "# !pip3 install --quiet \"tensorflow>=1.7\"\n",
    "# # Install TF-Hub.\n",
    "# !pip3 install --quiet tensorflow-hub\n",
    "# !pip3 install seaborn"
   ]
  },
  {
   "cell_type": "markdown",
   "metadata": {
    "colab_type": "text",
    "id": "63Pd3nJnTl-i"
   },
   "source": [
    "More detailed information about installing Tensorflow can be found at [https://www.tensorflow.org/install/](https://www.tensorflow.org/install/)."
   ]
  },
  {
   "cell_type": "code",
   "execution_count": 3,
   "metadata": {
    "colab": {
     "base_uri": "https://localhost:8080/",
     "height": 34
    },
    "colab_type": "code",
    "id": "MSeY-MUQo2Ha",
    "outputId": "22061b32-6fab-4286-fd44-467ec32c0ea8"
   },
   "outputs": [
    {
     "name": "stderr",
     "output_type": "stream",
     "text": [
      "/home/chirag/venv/lib/python3.6/site-packages/tensorflow/python/framework/dtypes.py:516: FutureWarning: Passing (type, 1) or '1type' as a synonym of type is deprecated; in a future version of numpy, it will be understood as (type, (1,)) / '(1,)type'.\n",
      "  _np_qint8 = np.dtype([(\"qint8\", np.int8, 1)])\n",
      "/home/chirag/venv/lib/python3.6/site-packages/tensorflow/python/framework/dtypes.py:517: FutureWarning: Passing (type, 1) or '1type' as a synonym of type is deprecated; in a future version of numpy, it will be understood as (type, (1,)) / '(1,)type'.\n",
      "  _np_quint8 = np.dtype([(\"quint8\", np.uint8, 1)])\n",
      "/home/chirag/venv/lib/python3.6/site-packages/tensorflow/python/framework/dtypes.py:518: FutureWarning: Passing (type, 1) or '1type' as a synonym of type is deprecated; in a future version of numpy, it will be understood as (type, (1,)) / '(1,)type'.\n",
      "  _np_qint16 = np.dtype([(\"qint16\", np.int16, 1)])\n",
      "/home/chirag/venv/lib/python3.6/site-packages/tensorflow/python/framework/dtypes.py:519: FutureWarning: Passing (type, 1) or '1type' as a synonym of type is deprecated; in a future version of numpy, it will be understood as (type, (1,)) / '(1,)type'.\n",
      "  _np_quint16 = np.dtype([(\"quint16\", np.uint16, 1)])\n",
      "/home/chirag/venv/lib/python3.6/site-packages/tensorflow/python/framework/dtypes.py:520: FutureWarning: Passing (type, 1) or '1type' as a synonym of type is deprecated; in a future version of numpy, it will be understood as (type, (1,)) / '(1,)type'.\n",
      "  _np_qint32 = np.dtype([(\"qint32\", np.int32, 1)])\n",
      "/home/chirag/venv/lib/python3.6/site-packages/tensorflow/python/framework/dtypes.py:525: FutureWarning: Passing (type, 1) or '1type' as a synonym of type is deprecated; in a future version of numpy, it will be understood as (type, (1,)) / '(1,)type'.\n",
      "  np_resource = np.dtype([(\"resource\", np.ubyte, 1)])\n",
      "/home/chirag/venv/lib/python3.6/site-packages/tensorboard/compat/tensorflow_stub/dtypes.py:541: FutureWarning: Passing (type, 1) or '1type' as a synonym of type is deprecated; in a future version of numpy, it will be understood as (type, (1,)) / '(1,)type'.\n",
      "  _np_qint8 = np.dtype([(\"qint8\", np.int8, 1)])\n",
      "/home/chirag/venv/lib/python3.6/site-packages/tensorboard/compat/tensorflow_stub/dtypes.py:542: FutureWarning: Passing (type, 1) or '1type' as a synonym of type is deprecated; in a future version of numpy, it will be understood as (type, (1,)) / '(1,)type'.\n",
      "  _np_quint8 = np.dtype([(\"quint8\", np.uint8, 1)])\n",
      "/home/chirag/venv/lib/python3.6/site-packages/tensorboard/compat/tensorflow_stub/dtypes.py:543: FutureWarning: Passing (type, 1) or '1type' as a synonym of type is deprecated; in a future version of numpy, it will be understood as (type, (1,)) / '(1,)type'.\n",
      "  _np_qint16 = np.dtype([(\"qint16\", np.int16, 1)])\n",
      "/home/chirag/venv/lib/python3.6/site-packages/tensorboard/compat/tensorflow_stub/dtypes.py:544: FutureWarning: Passing (type, 1) or '1type' as a synonym of type is deprecated; in a future version of numpy, it will be understood as (type, (1,)) / '(1,)type'.\n",
      "  _np_quint16 = np.dtype([(\"quint16\", np.uint16, 1)])\n",
      "/home/chirag/venv/lib/python3.6/site-packages/tensorboard/compat/tensorflow_stub/dtypes.py:545: FutureWarning: Passing (type, 1) or '1type' as a synonym of type is deprecated; in a future version of numpy, it will be understood as (type, (1,)) / '(1,)type'.\n",
      "  _np_qint32 = np.dtype([(\"qint32\", np.int32, 1)])\n",
      "/home/chirag/venv/lib/python3.6/site-packages/tensorboard/compat/tensorflow_stub/dtypes.py:550: FutureWarning: Passing (type, 1) or '1type' as a synonym of type is deprecated; in a future version of numpy, it will be understood as (type, (1,)) / '(1,)type'.\n",
      "  np_resource = np.dtype([(\"resource\", np.ubyte, 1)])\n",
      "Using TensorFlow backend.\n"
     ]
    }
   ],
   "source": [
    "import tensorflow as tf\n",
    "import tensorflow_hub as hub\n",
    "import matplotlib.pyplot as plt\n",
    "import numpy as np\n",
    "import os\n",
    "import pandas as pd\n",
    "import re\n",
    "import seaborn as sns\n",
    "import keras.layers as layers\n",
    "from keras.models import Model\n",
    "from keras import backend as K\n",
    "np.random.seed(10)"
   ]
  },
  {
   "cell_type": "code",
   "execution_count": 5,
   "metadata": {
    "colab": {
     "base_uri": "https://localhost:8080/",
     "height": 241
    },
    "colab_type": "code",
    "id": "Q8F4LNGFqOiq",
    "outputId": "1b670b96-6d94-4f2a-c935-730e7e79d0db"
   },
   "outputs": [],
   "source": [
    "# Import the Universal Sentence Encoder's TF Hub module\n",
    "embed = hub.Module(\"https://tfhub.dev/google/elmo/2\", trainable=True)"
   ]
  },
  {
   "cell_type": "code",
   "execution_count": 6,
   "metadata": {
    "colab": {
     "base_uri": "https://localhost:8080/",
     "height": 34
    },
    "colab_type": "code",
    "id": "O2cYc2WEkSGP",
    "outputId": "653fe78a-2288-40a7-da49-2f1cf0d8f2a3"
   },
   "outputs": [
    {
     "data": {
      "text/plain": [
       "1024"
      ]
     },
     "execution_count": 6,
     "metadata": {},
     "output_type": "execute_result"
    }
   ],
   "source": [
    "embed_size = embed.get_output_info_dict()['default'].get_shape()[1].value\n",
    "embed_size"
   ]
  },
  {
   "cell_type": "code",
   "execution_count": 7,
   "metadata": {
    "colab": {
     "base_uri": "https://localhost:8080/",
     "height": 258
    },
    "colab_type": "code",
    "id": "MElqkcDiDKsp",
    "outputId": "4e40f6e5-8532-4f0d-83ed-04670cb5936d"
   },
   "outputs": [
    {
     "data": {
      "text/html": [
       "<div>\n",
       "<style scoped>\n",
       "    .dataframe tbody tr th:only-of-type {\n",
       "        vertical-align: middle;\n",
       "    }\n",
       "\n",
       "    .dataframe tbody tr th {\n",
       "        vertical-align: top;\n",
       "    }\n",
       "\n",
       "    .dataframe thead th {\n",
       "        text-align: right;\n",
       "    }\n",
       "</style>\n",
       "<table border=\"1\" class=\"dataframe\">\n",
       "  <thead>\n",
       "    <tr style=\"text-align: right;\">\n",
       "      <th></th>\n",
       "      <th>label</th>\n",
       "      <th>text</th>\n",
       "    </tr>\n",
       "  </thead>\n",
       "  <tbody>\n",
       "    <tr>\n",
       "      <th>26915</th>\n",
       "      <td>worry</td>\n",
       "      <td>yup our coke blades b annnd now i only need th...</td>\n",
       "    </tr>\n",
       "    <tr>\n",
       "      <th>37746</th>\n",
       "      <td>happiness</td>\n",
       "      <td>having a cup of tea i have a cold so it's tast...</td>\n",
       "    </tr>\n",
       "    <tr>\n",
       "      <th>15211</th>\n",
       "      <td>worry</td>\n",
       "      <td>sucks about your cat... hope you guys feel better</td>\n",
       "    </tr>\n",
       "    <tr>\n",
       "      <th>8556</th>\n",
       "      <td>surprise</td>\n",
       "      <td>wow their is no pancake mix</td>\n",
       "    </tr>\n",
       "    <tr>\n",
       "      <th>28397</th>\n",
       "      <td>neutral</td>\n",
       "      <td>hey there what's up?</td>\n",
       "    </tr>\n",
       "  </tbody>\n",
       "</table>\n",
       "</div>"
      ],
      "text/plain": [
       "           label                                               text\n",
       "26915      worry  yup our coke blades b annnd now i only need th...\n",
       "37746  happiness  having a cup of tea i have a cold so it's tast...\n",
       "15211      worry  sucks about your cat... hope you guys feel better\n",
       "8556    surprise                        wow their is no pancake mix\n",
       "28397    neutral                               hey there what's up?"
      ]
     },
     "execution_count": 7,
     "metadata": {},
     "output_type": "execute_result"
    }
   ],
   "source": [
    "import psycopg2\n",
    "import pandas.io.sql as sqlio\n",
    "import numpy as np\n",
    "\n",
    "def get_dataframe_sql():\n",
    "    df = None\n",
    "    sql = \"select emotion as label, text_ as text from dataset_emotion_only\"\n",
    "    con = None\n",
    "    try:\n",
    "        con = psycopg2.connect(\"host='35.200.234.61' dbname='sales' user='postgres' password='cx6ac54nmgGtLD1y'\")\n",
    "        df = sqlio.read_sql_query(sql, con)\n",
    "    except psycopg2.DatabaseError as e:\n",
    "        if con:\n",
    "            con.rollback()\n",
    "        print(e)\n",
    "        sys.exit(1)\n",
    "    finally:\n",
    "        if con:\n",
    "            con.close()\n",
    "    df = df.sample(frac=1.0)\n",
    "    df.label = df.label.astype('category')\n",
    "    return df\n",
    "  \n",
    "df = get_dataframe_sql()\n",
    "msk = np.random.rand(len(df)) < 0.8\n",
    "df_train = df[msk]\n",
    "df_test = df[~msk]\n",
    "df_train.head()"
   ]
  },
  {
   "cell_type": "code",
   "execution_count": 38,
   "metadata": {},
   "outputs": [
    {
     "name": "stdout",
     "output_type": "stream",
     "text": [
      "sadness ===== the storm is here and the electricity is gone\n"
     ]
    }
   ],
   "source": [
    "i = 19\n",
    "print(df.label[i],\"=====\", df.text[i])"
   ]
  },
  {
   "cell_type": "code",
   "execution_count": 8,
   "metadata": {
    "colab": {
     "base_uri": "https://localhost:8080/",
     "height": 34
    },
    "colab_type": "code",
    "id": "3HAtd4X5DayF",
    "outputId": "036ef7da-6034-4d2e-de61-88352c9d4a5f"
   },
   "outputs": [
    {
     "data": {
      "text/plain": [
       "14"
      ]
     },
     "execution_count": 8,
     "metadata": {},
     "output_type": "execute_result"
    }
   ],
   "source": [
    "category_counts = len(df_train.label.cat.categories)\n",
    "category_counts"
   ]
  },
  {
   "cell_type": "markdown",
   "metadata": {
    "colab_type": "text",
    "id": "Sf9A4Xl6J7c6"
   },
   "source": [
    "## Wrap embed module in a Lambda layer\n",
    "Explicitly cast the input as a string"
   ]
  },
  {
   "cell_type": "code",
   "execution_count": 9,
   "metadata": {
    "colab": {},
    "colab_type": "code",
    "id": "PRD3fWgJjOrP"
   },
   "outputs": [],
   "source": [
    "def UniversalEmbedding(x):\n",
    "    return embed(tf.squeeze(tf.cast(x, tf.string)), signature=\"default\", as_dict=True)[\"default\"]"
   ]
  },
  {
   "cell_type": "code",
   "execution_count": 10,
   "metadata": {
    "colab": {
     "base_uri": "https://localhost:8080/",
     "height": 272
    },
    "colab_type": "code",
    "id": "t3fllZkVjXKV",
    "outputId": "528eb185-4454-4ba3-91d2-bd6c5733858e"
   },
   "outputs": [
    {
     "name": "stderr",
     "output_type": "stream",
     "text": [
      "WARNING: Logging before flag parsing goes to stderr.\n",
      "W0808 16:42:10.100880 140369533839168 deprecation_wrapper.py:119] From /home/chirag/venv/lib/python3.6/site-packages/keras/backend/tensorflow_backend.py:74: The name tf.get_default_graph is deprecated. Please use tf.compat.v1.get_default_graph instead.\n",
      "\n",
      "W0808 16:42:10.101478 140369533839168 deprecation_wrapper.py:119] From /home/chirag/venv/lib/python3.6/site-packages/keras/backend/tensorflow_backend.py:517: The name tf.placeholder is deprecated. Please use tf.compat.v1.placeholder instead.\n",
      "\n",
      "W0808 16:42:10.311702 140369533839168 deprecation_wrapper.py:119] From /home/chirag/venv/lib/python3.6/site-packages/keras/backend/tensorflow_backend.py:4138: The name tf.random_uniform is deprecated. Please use tf.random.uniform instead.\n",
      "\n",
      "W0808 16:42:10.330946 140369533839168 deprecation_wrapper.py:119] From /home/chirag/venv/lib/python3.6/site-packages/keras/optimizers.py:790: The name tf.train.Optimizer is deprecated. Please use tf.compat.v1.train.Optimizer instead.\n",
      "\n",
      "W0808 16:42:10.402293 140369533839168 deprecation_wrapper.py:119] From /home/chirag/venv/lib/python3.6/site-packages/keras/backend/tensorflow_backend.py:3376: The name tf.log is deprecated. Please use tf.math.log instead.\n",
      "\n",
      "W0808 16:42:10.405407 140369533839168 deprecation.py:323] From /home/chirag/venv/lib/python3.6/site-packages/tensorflow/python/ops/nn_impl.py:180: add_dispatch_support.<locals>.wrapper (from tensorflow.python.ops.array_ops) is deprecated and will be removed in a future version.\n",
      "Instructions for updating:\n",
      "Use tf.where in 2.0, which has the same broadcast rule as np.where\n"
     ]
    },
    {
     "name": "stdout",
     "output_type": "stream",
     "text": [
      "_________________________________________________________________\n",
      "Layer (type)                 Output Shape              Param #   \n",
      "=================================================================\n",
      "input_1 (InputLayer)         (None, 1)                 0         \n",
      "_________________________________________________________________\n",
      "lambda_1 (Lambda)            (None, 1024)              0         \n",
      "_________________________________________________________________\n",
      "dense_1 (Dense)              (None, 256)               262400    \n",
      "_________________________________________________________________\n",
      "dense_2 (Dense)              (None, 14)                3598      \n",
      "=================================================================\n",
      "Total params: 265,998\n",
      "Trainable params: 265,998\n",
      "Non-trainable params: 0\n",
      "_________________________________________________________________\n"
     ]
    }
   ],
   "source": [
    "input_text = layers.Input(shape=(1,), dtype=tf.string)\n",
    "embedding = layers.Lambda(UniversalEmbedding, output_shape=(embed_size,))(input_text)\n",
    "dense = layers.Dense(256, activation='relu')(embedding)\n",
    "pred = layers.Dense(category_counts, activation='sigmoid')(dense)\n",
    "model = Model(inputs=[input_text], outputs=pred)\n",
    "model.compile(loss='binary_crossentropy', optimizer='adam', metrics=['accuracy'])\n",
    "model.summary()"
   ]
  },
  {
   "cell_type": "code",
   "execution_count": 11,
   "metadata": {
    "colab": {},
    "colab_type": "code",
    "id": "5Ube1DvYEJ3q"
   },
   "outputs": [],
   "source": [
    "train_text = df_train['text'].tolist()\n",
    "train_text = np.array(train_text, dtype=object)[:, np.newaxis]\n",
    "\n",
    "train_label = np.asarray(pd.get_dummies(df_train.label), dtype = np.int8)"
   ]
  },
  {
   "cell_type": "code",
   "execution_count": 12,
   "metadata": {
    "colab": {
     "base_uri": "https://localhost:8080/",
     "height": 34
    },
    "colab_type": "code",
    "id": "WX3s8yIVFWHI",
    "outputId": "ca52083b-e89b-414f-e13c-218c3626cafc"
   },
   "outputs": [
    {
     "data": {
      "text/plain": [
       "(31866, 1)"
      ]
     },
     "execution_count": 12,
     "metadata": {},
     "output_type": "execute_result"
    }
   ],
   "source": [
    "train_text.shape"
   ]
  },
  {
   "cell_type": "code",
   "execution_count": 13,
   "metadata": {
    "colab": {
     "base_uri": "https://localhost:8080/",
     "height": 34
    },
    "colab_type": "code",
    "id": "9PfsPdG8FZBI",
    "outputId": "cebbb4b4-0d8c-45b0-f0e3-58f491bbe593"
   },
   "outputs": [
    {
     "data": {
      "text/plain": [
       "(31866, 14)"
      ]
     },
     "execution_count": 13,
     "metadata": {},
     "output_type": "execute_result"
    }
   ],
   "source": [
    "train_label.shape"
   ]
  },
  {
   "cell_type": "code",
   "execution_count": 14,
   "metadata": {
    "colab": {
     "base_uri": "https://localhost:8080/",
     "height": 68
    },
    "colab_type": "code",
    "id": "gPYVmBr2Fbob",
    "outputId": "ae33f202-e1a3-4d2b-c02f-6feebdeccf75"
   },
   "outputs": [
    {
     "data": {
      "text/plain": [
       "array([[0, 0, 0, 0, 0, 0, 0, 0, 0, 0, 0, 0, 0, 1],\n",
       "       [0, 0, 0, 0, 0, 1, 0, 0, 0, 0, 0, 0, 0, 0],\n",
       "       [0, 0, 0, 0, 0, 0, 0, 0, 0, 0, 0, 0, 0, 1]], dtype=int8)"
      ]
     },
     "execution_count": 14,
     "metadata": {},
     "output_type": "execute_result"
    }
   ],
   "source": [
    "train_label[:3]"
   ]
  },
  {
   "cell_type": "code",
   "execution_count": 15,
   "metadata": {
    "colab": {},
    "colab_type": "code",
    "id": "QWAjtjdeI9P4"
   },
   "outputs": [],
   "source": [
    "test_text = df_test['text'].tolist()\n",
    "test_text = np.array(test_text, dtype=object)[:, np.newaxis]\n",
    "test_label = np.asarray(pd.get_dummies(df_test.label), dtype = np.int8)"
   ]
  },
  {
   "cell_type": "markdown",
   "metadata": {
    "colab_type": "text",
    "id": "bqcRy_JWXe0u"
   },
   "source": [
    "## Train Keras model and save weights\n",
    "This only train and save our Keras layers not the embed module' weights."
   ]
  },
  {
   "cell_type": "code",
   "execution_count": 19,
   "metadata": {
    "colab": {
     "base_uri": "https://localhost:8080/",
     "height": 374
    },
    "colab_type": "code",
    "id": "_stfC_7VFhS8",
    "outputId": "3b297de8-1c24-42bc-9272-912ac036c9c9"
   },
   "outputs": [
    {
     "name": "stdout",
     "output_type": "stream",
     "text": [
      "Train on 31866 samples, validate on 8134 samples\n",
      "Epoch 1/5\n",
      "31866/31866 [==============================] - 1605s 50ms/step - loss: 0.2069 - acc: 0.9281 - val_loss: 0.2020 - val_acc: 0.9290\n",
      "Epoch 2/5\n",
      "31866/31866 [==============================] - 1599s 50ms/step - loss: 0.1969 - acc: 0.9295 - val_loss: 0.2005 - val_acc: 0.9289\n",
      "Epoch 3/5\n",
      "31866/31866 [==============================] - 1550s 49ms/step - loss: 0.1939 - acc: 0.9301 - val_loss: 0.1996 - val_acc: 0.9294\n",
      "Epoch 4/5\n",
      "31866/31866 [==============================] - 1671s 52ms/step - loss: 0.1918 - acc: 0.9302 - val_loss: 0.1997 - val_acc: 0.9294\n",
      "Epoch 5/5\n",
      "31866/31866 [==============================] - 1648s 52ms/step - loss: 0.1898 - acc: 0.9306 - val_loss: 0.2022 - val_acc: 0.9289\n"
     ]
    }
   ],
   "source": [
    "with tf.Session() as session:\n",
    "    K.set_session(session)\n",
    "    session.run(tf.global_variables_initializer())\n",
    "    session.run(tf.tables_initializer())\n",
    "    history = model.fit(train_text, \n",
    "            train_label,\n",
    "            validation_data=(test_text, test_label),\n",
    "            epochs=5,\n",
    "            batch_size=32)\n",
    "    model.save_weights('./model.h5')"
   ]
  },
  {
   "cell_type": "code",
   "execution_count": 20,
   "metadata": {
    "colab": {
     "base_uri": "https://localhost:8080/",
     "height": 35
    },
    "colab_type": "code",
    "id": "UW1CiBhnXnxa",
    "outputId": "1c9f90b9-3757-461e-d06e-076e524bd792"
   },
   "outputs": [
    {
     "name": "stdout",
     "output_type": "stream",
     "text": [
      "-rw-r--r-- 1 chirag chirag 1.1M Aug  8 19:14 model.h5\r\n"
     ]
    }
   ],
   "source": [
    "!ls -alh | grep model.h5"
   ]
  },
  {
   "cell_type": "markdown",
   "metadata": {
    "colab_type": "text",
    "id": "nQux6qLdXabG"
   },
   "source": [
    "## Make predictions"
   ]
  },
  {
   "cell_type": "code",
   "execution_count": 39,
   "metadata": {
    "colab": {
     "base_uri": "https://localhost:8080/",
     "height": 102
    },
    "colab_type": "code",
    "id": "fSDxetlfUEiD",
    "outputId": "fd01489b-e59c-48ed-dcd4-34e815d3f3ca"
   },
   "outputs": [
    {
     "name": "stderr",
     "output_type": "stream",
     "text": [
      "Exception ignored in: <bound method BaseSession._Callable.__del__ of <tensorflow.python.client.session.BaseSession._Callable object at 0x7fa9e2d41d68>>\n",
      "Traceback (most recent call last):\n",
      "  File \"/home/chirag/venv/lib/python3.6/site-packages/tensorflow/python/client/session.py\", line 1473, in __del__\n",
      "    self._session._session, self._handle)\n",
      "tensorflow.python.framework.errors_impl.CancelledError: (None, None, 'Session has been closed.')\n"
     ]
    }
   ],
   "source": [
    "new_text = [ \"The bottle is blue in color\",\n",
    "            \"I dont like you so much\",\n",
    "            \"I had an amazing day at the stadium\",\n",
    "            \"It was super fun after playing football\",\n",
    "            \"my computer works fine\",\n",
    "            \"I was shocked when I heard the airplane got crashed\",\n",
    "            \"What the fuck!!!!!!\",\n",
    "            \"What is your name?\",\n",
    "            \"I was surprised when she got a gold medal for India.\",\n",
    "           \"this website gave me a virus when i opened it more windows kept popping up\",\n",
    "           \"the storm is here and the electricity is gone\"]\n",
    "new_text = np.array(new_text, dtype=object)[:, np.newaxis]\n",
    "with tf.Session() as session:\n",
    "    K.set_session(session)\n",
    "    session.run(tf.global_variables_initializer())\n",
    "    session.run(tf.tables_initializer())\n",
    "    model.load_weights('./model.h5')  \n",
    "    predicts = model.predict(new_text, batch_size=32)"
   ]
  },
  {
   "cell_type": "code",
   "execution_count": 40,
   "metadata": {
    "scrolled": true
   },
   "outputs": [
    {
     "data": {
      "text/plain": [
       "array([[2.94864178e-04, 3.58521938e-05, 2.74636447e-02, 1.15772486e-02,\n",
       "        3.44605148e-02, 6.07423186e-02, 1.98349357e-03, 1.18978024e-02,\n",
       "        5.62073350e-01, 2.26563811e-02, 7.03817010e-02, 1.87754631e-06,\n",
       "        2.95612514e-02, 1.01144254e-01],\n",
       "       [7.85529613e-04, 5.95867634e-04, 1.14247203e-02, 3.30045819e-03,\n",
       "        9.37765837e-03, 1.28763020e-02, 2.03016400e-02, 5.02602160e-02,\n",
       "        1.19833708e-01, 1.24943554e-02, 1.24906719e-01, 1.57952309e-06,\n",
       "        1.61271989e-02, 4.34008151e-01],\n",
       "       [1.24305487e-04, 5.24520874e-05, 2.93567777e-03, 2.45463848e-03,\n",
       "        2.52319574e-02, 6.52397335e-01, 3.24845314e-04, 1.58385813e-01,\n",
       "        4.43361998e-02, 6.10709488e-02, 1.93917453e-02, 1.43051147e-06,\n",
       "        1.64939165e-02, 1.43519640e-02],\n",
       "       [1.93327665e-04, 6.18994236e-05, 2.34410167e-03, 3.81219387e-03,\n",
       "        3.99569750e-01, 7.56339550e-01, 1.46552920e-03, 1.96136236e-02,\n",
       "        5.83135188e-02, 1.07374161e-01, 5.46321273e-03, 4.67896461e-06,\n",
       "        8.70287418e-03, 7.12415576e-03],\n",
       "       [4.60559130e-03, 1.95205212e-03, 8.62649083e-03, 7.91800022e-03,\n",
       "        1.06615126e-02, 7.67886639e-02, 1.71058178e-02, 7.75837898e-03,\n",
       "        1.23842329e-01, 3.67785692e-02, 1.57826722e-01, 2.59280205e-06,\n",
       "        1.54049695e-02, 3.06597531e-01],\n",
       "       [1.16008520e-03, 1.05869770e-03, 1.11572742e-02, 2.07006931e-03,\n",
       "        2.85121799e-03, 9.18439031e-03, 1.22936964e-02, 3.42398882e-04,\n",
       "        2.80535221e-02, 2.48993337e-02, 8.36134553e-02, 1.04308128e-06,\n",
       "        1.19020760e-01, 5.67341328e-01],\n",
       "       [2.33864784e-03, 1.28370523e-03, 1.43040299e-01, 3.04495692e-02,\n",
       "        1.97245479e-02, 1.49177313e-02, 2.55779028e-02, 6.47404790e-03,\n",
       "        2.88651586e-01, 4.99075651e-03, 9.30279791e-02, 8.58306885e-06,\n",
       "        1.52118713e-01, 2.03843713e-01],\n",
       "       [2.69711018e-04, 9.83178616e-05, 4.99825776e-02, 8.44031572e-03,\n",
       "        8.24591517e-03, 3.52716446e-03, 8.37862492e-04, 1.08999014e-03,\n",
       "        4.94898170e-01, 2.13998556e-03, 2.34027803e-02, 2.68220901e-07,\n",
       "        1.14612937e-01, 3.21981490e-01],\n",
       "       [7.58767128e-04, 1.69873238e-04, 8.96218419e-03, 2.21818388e-02,\n",
       "        1.02074444e-02, 2.83727407e-01, 3.21915746e-03, 3.40556800e-02,\n",
       "        7.36342669e-02, 7.63255060e-02, 4.52333987e-02, 1.43051147e-06,\n",
       "        4.59873676e-02, 1.61962807e-01],\n",
       "       [9.93400812e-03, 2.73492932e-03, 3.00336480e-02, 1.90821290e-02,\n",
       "        1.32316947e-02, 7.91170001e-02, 1.42869830e-01, 2.58639455e-03,\n",
       "        8.18174481e-02, 5.64628243e-02, 1.12703264e-01, 1.39176846e-05,\n",
       "        1.46696568e-01, 1.76430017e-01],\n",
       "       [1.05604529e-03, 3.85493040e-04, 1.46500170e-02, 1.97582245e-02,\n",
       "        1.98584199e-02, 4.41351235e-02, 2.12332904e-02, 2.35161185e-03,\n",
       "        2.10632801e-01, 3.84215117e-02, 8.51891339e-02, 1.90734863e-06,\n",
       "        5.43397442e-02, 1.53878421e-01]], dtype=float32)"
      ]
     },
     "execution_count": 40,
     "metadata": {},
     "output_type": "execute_result"
    }
   ],
   "source": [
    "predicts"
   ]
  },
  {
   "cell_type": "code",
   "execution_count": 41,
   "metadata": {
    "colab": {
     "base_uri": "https://localhost:8080/",
     "height": 34
    },
    "colab_type": "code",
    "id": "yyDGVtigW57f",
    "outputId": "6cdbf287-9c0b-433a-da7d-cfcc7805405e",
    "scrolled": false
   },
   "outputs": [
    {
     "data": {
      "text/plain": [
       "['neutral',\n",
       " 'worry',\n",
       " 'happiness',\n",
       " 'happiness',\n",
       " 'worry',\n",
       " 'worry',\n",
       " 'neutral',\n",
       " 'neutral',\n",
       " 'happiness',\n",
       " 'worry',\n",
       " 'neutral']"
      ]
     },
     "execution_count": 41,
     "metadata": {},
     "output_type": "execute_result"
    }
   ],
   "source": [
    "categories = df_train.label.cat.categories.tolist()\n",
    "predict_logits = predicts.argmax(axis=1)\n",
    "predict_labels = [categories[logit] for logit in predict_logits]\n",
    "predict_labels"
   ]
  },
  {
   "cell_type": "code",
   "execution_count": 42,
   "metadata": {
    "scrolled": false
   },
   "outputs": [
    {
     "name": "stdout",
     "output_type": "stream",
     "text": [
      "['The bottle is blue in color--->']\n",
      "\tneutral--->0.56207335\n",
      "\tworry--->0.101144254\n",
      "['I dont like you so much--->']\n",
      "\tneutral--->0.11983371\n",
      "\tsadness--->0.12490672\n",
      "\tworry--->0.43400815\n",
      "['I had an amazing day at the stadium--->']\n",
      "\thappiness--->0.65239733\n",
      "\tlove--->0.15838581\n",
      "['It was super fun after playing football--->']\n",
      "\tfun--->0.39956975\n",
      "\thappiness--->0.75633955\n",
      "\trelief--->0.10737416\n",
      "['my computer works fine--->']\n",
      "\tneutral--->0.12384233\n",
      "\tsadness--->0.15782672\n",
      "\tworry--->0.30659753\n",
      "['I was shocked when I heard the airplane got crashed--->']\n",
      "\tsurprise--->0.11902076\n",
      "\tworry--->0.5673413\n",
      "['What the fuck!!!!!!--->']\n",
      "\tempty--->0.1430403\n",
      "\tneutral--->0.2886516\n",
      "\tsurprise--->0.15211871\n",
      "\tworry--->0.20384371\n",
      "['What is your name?--->']\n",
      "\tneutral--->0.49489817\n",
      "\tsurprise--->0.11461294\n",
      "\tworry--->0.3219815\n",
      "['I was surprised when she got a gold medal for India.--->']\n",
      "\thappiness--->0.2837274\n",
      "\tworry--->0.1619628\n",
      "['this website gave me a virus when i opened it more windows kept popping up--->']\n",
      "\thate--->0.14286983\n",
      "\tsadness--->0.112703264\n",
      "\tsurprise--->0.14669657\n",
      "\tworry--->0.17643002\n",
      "['the storm is here and the electricity is gone--->']\n",
      "\tneutral--->0.2106328\n",
      "\tworry--->0.15387842\n"
     ]
    }
   ],
   "source": [
    "threshold = 0.1\n",
    "for i,sentence in enumerate(new_text):\n",
    "    predict = predicts[i]\n",
    "    print(sentence+'--->')\n",
    "    for j, pred in enumerate(predict):\n",
    "        if pred>threshold:\n",
    "            print('\\t'+categories[j]+'--->'+str(pred))"
   ]
  },
  {
   "cell_type": "code",
   "execution_count": 43,
   "metadata": {},
   "outputs": [
    {
     "name": "stdout",
     "output_type": "stream",
     "text": [
      "0.9342745542526245\n",
      "0.8162941038608551\n",
      "0.9975532293319702\n",
      "1.3703825771808624\n",
      "0.775869220495224\n",
      "0.8630472719669342\n",
      "0.9864477813243866\n",
      "1.029527485370636\n",
      "0.7664271295070648\n",
      "0.8737136721611023\n",
      "0.665891744196415\n"
     ]
    }
   ],
   "source": [
    "for predict in predicts:\n",
    "    sum = 0\n",
    "    for j, pred in enumerate(predict):\n",
    "        sum += pred\n",
    "    print(sum)"
   ]
  },
  {
   "cell_type": "code",
   "execution_count": null,
   "metadata": {},
   "outputs": [],
   "source": []
  }
 ],
 "metadata": {
  "accelerator": "GPU",
  "colab": {
   "collapsed_sections": [],
   "include_colab_link": true,
   "name": "Copy of Transfer Learning - Semantic Similarity with TF-Hub Universal Encoder",
   "provenance": [],
   "toc_visible": true,
   "version": "0.3.2"
  },
  "kernelspec": {
   "display_name": "Python 3",
   "language": "python",
   "name": "python3"
  },
  "language_info": {
   "codemirror_mode": {
    "name": "ipython",
    "version": 3
   },
   "file_extension": ".py",
   "mimetype": "text/x-python",
   "name": "python",
   "nbconvert_exporter": "python",
   "pygments_lexer": "ipython3",
   "version": "3.6.8"
  }
 },
 "nbformat": 4,
 "nbformat_minor": 1
}
