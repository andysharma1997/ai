{
 "cells": [
  {
   "cell_type": "code",
   "execution_count": 87,
   "metadata": {},
   "outputs": [],
   "source": [
    "import requests\n",
    "import pandas as pd\n",
    "from sklearn.preprocessing import MinMaxScaler"
   ]
  },
  {
   "cell_type": "code",
   "execution_count": 88,
   "metadata": {},
   "outputs": [
    {
     "name": "stdout",
     "output_type": "stream",
     "text": [
      "1500\n"
     ]
    }
   ],
   "source": [
    "d1 = open('/home/chirag/Downloads/Stsbenchmark/stsbenchmark/sts-dev.csv')\n",
    "data = d1.readlines()\n",
    "print(len(data))"
   ]
  },
  {
   "cell_type": "code",
   "execution_count": 89,
   "metadata": {},
   "outputs": [],
   "source": [
    "df = []\n",
    "for i in range(len(data)):\n",
    "    df.append(data[i].split('\\t'))\n",
    "score = []\n",
    "sentence1 = []\n",
    "sentence2 = []\n",
    "for j in range(len(df)):\n",
    "    score.append(df[j][4])\n",
    "    sentence1.append(df[j][5])\n",
    "    b = df[j][6]\n",
    "    sentence2.append(b.rstrip(\"\\n\"))"
   ]
  },
  {
   "cell_type": "code",
   "execution_count": 90,
   "metadata": {},
   "outputs": [],
   "source": [
    "dict = list(zip(sentence1, sentence2, score))\n",
    "df = pd.DataFrame(dict, columns = ['sentence1', 'sentence2', 'score'])"
   ]
  },
  {
   "cell_type": "code",
   "execution_count": 91,
   "metadata": {},
   "outputs": [],
   "source": [
    "scaler = MinMaxScaler()\n",
    "df['score'] = scaler.fit_transform(df['score'].values.reshape(-1,1))"
   ]
  },
  {
   "cell_type": "code",
   "execution_count": 92,
   "metadata": {},
   "outputs": [
    {
     "data": {
      "text/html": [
       "<div>\n",
       "<style scoped>\n",
       "    .dataframe tbody tr th:only-of-type {\n",
       "        vertical-align: middle;\n",
       "    }\n",
       "\n",
       "    .dataframe tbody tr th {\n",
       "        vertical-align: top;\n",
       "    }\n",
       "\n",
       "    .dataframe thead th {\n",
       "        text-align: right;\n",
       "    }\n",
       "</style>\n",
       "<table border=\"1\" class=\"dataframe\">\n",
       "  <thead>\n",
       "    <tr style=\"text-align: right;\">\n",
       "      <th></th>\n",
       "      <th>sentence1</th>\n",
       "      <th>sentence2</th>\n",
       "      <th>score</th>\n",
       "    </tr>\n",
       "  </thead>\n",
       "  <tbody>\n",
       "    <tr>\n",
       "      <th>0</th>\n",
       "      <td>A man with a hard hat is dancing.</td>\n",
       "      <td>A man wearing a hard hat is dancing.</td>\n",
       "      <td>1.00</td>\n",
       "    </tr>\n",
       "    <tr>\n",
       "      <th>1</th>\n",
       "      <td>A young child is riding a horse.</td>\n",
       "      <td>A child is riding a horse.</td>\n",
       "      <td>0.95</td>\n",
       "    </tr>\n",
       "    <tr>\n",
       "      <th>2</th>\n",
       "      <td>A man is feeding a mouse to a snake.</td>\n",
       "      <td>The man is feeding a mouse to the snake.</td>\n",
       "      <td>1.00</td>\n",
       "    </tr>\n",
       "    <tr>\n",
       "      <th>3</th>\n",
       "      <td>A woman is playing the guitar.</td>\n",
       "      <td>A man is playing guitar.</td>\n",
       "      <td>0.48</td>\n",
       "    </tr>\n",
       "    <tr>\n",
       "      <th>4</th>\n",
       "      <td>A woman is playing the flute.</td>\n",
       "      <td>A man is playing a flute.</td>\n",
       "      <td>0.55</td>\n",
       "    </tr>\n",
       "  </tbody>\n",
       "</table>\n",
       "</div>"
      ],
      "text/plain": [
       "                              sentence1  \\\n",
       "0     A man with a hard hat is dancing.   \n",
       "1      A young child is riding a horse.   \n",
       "2  A man is feeding a mouse to a snake.   \n",
       "3        A woman is playing the guitar.   \n",
       "4         A woman is playing the flute.   \n",
       "\n",
       "                                  sentence2  score  \n",
       "0      A man wearing a hard hat is dancing.   1.00  \n",
       "1                A child is riding a horse.   0.95  \n",
       "2  The man is feeding a mouse to the snake.   1.00  \n",
       "3                  A man is playing guitar.   0.48  \n",
       "4                 A man is playing a flute.   0.55  "
      ]
     },
     "execution_count": 92,
     "metadata": {},
     "output_type": "execute_result"
    }
   ],
   "source": [
    "df.head()"
   ]
  },
  {
   "cell_type": "code",
   "execution_count": 94,
   "metadata": {
    "scrolled": true
   },
   "outputs": [],
   "source": [
    "URL = 'https://salesken-analysis-249709.appspot.com/sentence_similarity_roberta'\n",
    "rs = []\n",
    "rob = []\n",
    "for i in range(len(df)):\n",
    "    data = {'sentence1': \"[\\\"\" + df.sentence1[i] + \"\\\"]\",\n",
    "        'sentence2': \"[\\\"\" + df.sentence2[i] + \"\\\"]\"}\n",
    "    r = requests.post(url = URL, data = data) \n",
    "#     print(r.json())\n",
    "    rs.append(r.json())\n",
    "    rob.append(rs[i][0][0][\"roberta_score\"])\n",
    "    print(i)"
   ]
  },
  {
   "cell_type": "code",
   "execution_count": 95,
   "metadata": {},
   "outputs": [],
   "source": [
    "df[\"roberta_app_engine\"] = rob"
   ]
  },
  {
   "cell_type": "code",
   "execution_count": 104,
   "metadata": {},
   "outputs": [],
   "source": [
    "from fairseq.models.roberta import RobertaModel\n",
    "from scipy.stats import pearsonr"
   ]
  },
  {
   "cell_type": "code",
   "execution_count": 105,
   "metadata": {},
   "outputs": [
    {
     "name": "stdout",
     "output_type": "stream",
     "text": [
      "loading archive file /home/chirag/Downloads/checkpoint/\n",
      "loading archive file /home/chirag/Downloads/checkpoint/ROBERTa-STS-B_STS-B-bin/STS-B-bin\n",
      "| [input] dictionary: 50265 types\n"
     ]
    }
   ],
   "source": [
    "roberta = RobertaModel.from_pretrained(\n",
    "    '/home/chirag/Downloads/checkpoint/',\n",
    "    checkpoint_file='checkpoint_best.pt',\n",
    "    data_name_or_path='/home/chirag/Downloads/checkpoint/ROBERTa-STS-B_STS-B-bin/STS-B-bin'\n",
    ")"
   ]
  },
  {
   "cell_type": "code",
   "execution_count": null,
   "metadata": {},
   "outputs": [],
   "source": [
    "rb = []\n",
    "for i in range(len(df)):\n",
    "    sent1 = df.sentence1[i]\n",
    "    sent2 = df.sentence2[i]\n",
    "    tokens = roberta.encode(sent1, sent2)\n",
    "    features = roberta.extract_features(tokens)\n",
    "    predictions = roberta.model.classification_heads['sentence_classification_head'](features)\n",
    "    rb.append(predictions.item())\n",
    "df[\"roberta_local\"] = r"
   ]
  },
  {
   "cell_type": "code",
   "execution_count": null,
   "metadata": {
    "scrolled": true
   },
   "outputs": [],
   "source": [
    "df.head()"
   ]
  },
  {
   "cell_type": "code",
   "execution_count": 97,
   "metadata": {},
   "outputs": [],
   "source": [
    "import numpy as np\n",
    "x=np.array(df[\"roberta_app_engine\"])\n",
    "df[\"roberta_app_engine\"] =np.asfarray(x,float)"
   ]
  },
  {
   "cell_type": "code",
   "execution_count": 98,
   "metadata": {},
   "outputs": [
    {
     "data": {
      "text/html": [
       "<div>\n",
       "<style scoped>\n",
       "    .dataframe tbody tr th:only-of-type {\n",
       "        vertical-align: middle;\n",
       "    }\n",
       "\n",
       "    .dataframe tbody tr th {\n",
       "        vertical-align: top;\n",
       "    }\n",
       "\n",
       "    .dataframe thead th {\n",
       "        text-align: right;\n",
       "    }\n",
       "</style>\n",
       "<table border=\"1\" class=\"dataframe\">\n",
       "  <thead>\n",
       "    <tr style=\"text-align: right;\">\n",
       "      <th></th>\n",
       "      <th>score</th>\n",
       "      <th>roberta_app_engine</th>\n",
       "    </tr>\n",
       "  </thead>\n",
       "  <tbody>\n",
       "    <tr>\n",
       "      <th>count</th>\n",
       "      <td>1500.000000</td>\n",
       "      <td>1500.000000</td>\n",
       "    </tr>\n",
       "    <tr>\n",
       "      <th>mean</th>\n",
       "      <td>0.472782</td>\n",
       "      <td>0.425463</td>\n",
       "    </tr>\n",
       "    <tr>\n",
       "      <th>std</th>\n",
       "      <td>0.300097</td>\n",
       "      <td>0.275280</td>\n",
       "    </tr>\n",
       "    <tr>\n",
       "      <th>min</th>\n",
       "      <td>0.000000</td>\n",
       "      <td>-0.097885</td>\n",
       "    </tr>\n",
       "    <tr>\n",
       "      <th>25%</th>\n",
       "      <td>0.200000</td>\n",
       "      <td>0.188125</td>\n",
       "    </tr>\n",
       "    <tr>\n",
       "      <th>50%</th>\n",
       "      <td>0.510000</td>\n",
       "      <td>0.391519</td>\n",
       "    </tr>\n",
       "    <tr>\n",
       "      <th>75%</th>\n",
       "      <td>0.720000</td>\n",
       "      <td>0.642949</td>\n",
       "    </tr>\n",
       "    <tr>\n",
       "      <th>max</th>\n",
       "      <td>1.000000</td>\n",
       "      <td>1.029365</td>\n",
       "    </tr>\n",
       "  </tbody>\n",
       "</table>\n",
       "</div>"
      ],
      "text/plain": [
       "             score  roberta_app_engine\n",
       "count  1500.000000         1500.000000\n",
       "mean      0.472782            0.425463\n",
       "std       0.300097            0.275280\n",
       "min       0.000000           -0.097885\n",
       "25%       0.200000            0.188125\n",
       "50%       0.510000            0.391519\n",
       "75%       0.720000            0.642949\n",
       "max       1.000000            1.029365"
      ]
     },
     "execution_count": 98,
     "metadata": {},
     "output_type": "execute_result"
    }
   ],
   "source": [
    "df.describe()"
   ]
  },
  {
   "cell_type": "code",
   "execution_count": 99,
   "metadata": {},
   "outputs": [],
   "source": [
    "scaler = MinMaxScaler()\n",
    "df['roberta_app_engine'] = scaler.fit_transform(df['roberta_app_engine'].values.reshape(-1,1))\n",
    "df.describe()"
   ]
  },
  {
   "cell_type": "code",
   "execution_count": 100,
   "metadata": {},
   "outputs": [],
   "source": [
    "# import psycopg2\n",
    "# try:\n",
    "#     connection = psycopg2.connect(user=\"postgres\",\n",
    "#                                   password=\"cx6ac54nmgGtLD1y\",\n",
    "#                                   host=\"35.200.234.61\",\n",
    "#                                   port=\"5432\",\n",
    "#                                   database=\"sales\")\n",
    "#     for i in range(len(df)):\n",
    "#         cursor = connection.cursor()\n",
    "#         postgres_insert_query = \"\"\" UPDATE public.sts_benchmark SET roberta_score = %s, source_='sts_dev' WHERE sentence1 = %s and sentence2 = %s and score=%s\"\"\"\n",
    "#         record_to_insert = (df.roberta_app_engine[i], df.sentence1[i], df.sentence2[i], df.score[i])\n",
    "#         cursor.execute(postgres_insert_query, record_to_insert)\n",
    "#         connection.commit()\n",
    "#         count = cursor.rowcount\n",
    "#         print (i, \"Record inserted successfully into mobile table\")\n",
    "# except (Exception, psycopg2.Error) as error :\n",
    "#     if(connection):\n",
    "#         print(\"Failed to insert record into mobile table\", error)\n",
    "# finally:\n",
    "#     #closing database connection.\n",
    "#     if(connection):\n",
    "#         cursor.close()\n",
    "#         connection.close()\n",
    "#         print(\"PostgreSQL connection is closed\")"
   ]
  },
  {
   "cell_type": "code",
   "execution_count": 101,
   "metadata": {},
   "outputs": [
    {
     "name": "stdout",
     "output_type": "stream",
     "text": [
      "Pearson Correlation Coefficient:  0.7953677432367878 and a P-value of: 0.0\n"
     ]
    }
   ],
   "source": [
    "from scipy.stats import pearsonr\n",
    "pearson_coef, p_value = pearsonr(df[\"score\"], df[\"roberta_app_engine\"])\n",
    "print(\"Pearson Correlation Coefficient: \", pearson_coef, \"and a P-value of:\", p_value)"
   ]
  },
  {
   "cell_type": "code",
   "execution_count": 102,
   "metadata": {},
   "outputs": [],
   "source": [
    "# y_true = [1,0,0,0,1,1]\n",
    "# y_pred = [1,1,0,1,0,1]\n",
    "# tn, fp, fn, tp = confusion_matrix(y_true, y_pred).ravel()\n"
   ]
  },
  {
   "cell_type": "code",
   "execution_count": null,
   "metadata": {},
   "outputs": [],
   "source": []
  }
 ],
 "metadata": {
  "kernelspec": {
   "display_name": "venv",
   "language": "python",
   "name": "venv"
  },
  "language_info": {
   "codemirror_mode": {
    "name": "ipython",
    "version": 3
   },
   "file_extension": ".py",
   "mimetype": "text/x-python",
   "name": "python",
   "nbconvert_exporter": "python",
   "pygments_lexer": "ipython3",
   "version": "3.6.8"
  }
 },
 "nbformat": 4,
 "nbformat_minor": 2
}
