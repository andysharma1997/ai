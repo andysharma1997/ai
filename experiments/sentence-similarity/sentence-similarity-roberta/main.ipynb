{
 "cells": [
  {
   "cell_type": "code",
   "execution_count": 9,
   "metadata": {},
   "outputs": [],
   "source": [
    "from flask import Flask\n",
    "from flask import request\n",
    "from flask import jsonify\n",
    "import json\n",
    "import os\n",
    "import time\n",
    "from fairseq.models.roberta import RobertaModel\n",
    "from google.cloud import storage\n",
    "app = Flask(__name__)\n",
    "import cloudstorage\n",
    "from google.cloud import storage\n",
    "import shutil\n",
    "import wget"
   ]
  },
  {
   "cell_type": "code",
   "execution_count": 36,
   "metadata": {},
   "outputs": [],
   "source": [
    "CLOUD_STORAGE_BUCKET = os.environ['CLOUD_STORAGE_BUCKET']"
   ]
  },
  {
   "cell_type": "code",
   "execution_count": null,
   "metadata": {},
   "outputs": [],
   "source": [
    "url1 = 'https://storage.googleapis.com/salesken-models/ROBERTa-STS-B/checkpoint_best.pt'\n",
    "filename1 = wget.download(url1)\n",
    "\n",
    "url2 = 'https://storage.googleapis.com/salesken-models/ROBERTa-STS-B/STS-B-bin.tar.gz'\n",
    "filename2 = wget.download(url2)\n",
    "shutil.unpack_archive(filename2, '/home/vmagent/app')"
   ]
  },
  {
   "cell_type": "code",
   "execution_count": 56,
   "metadata": {},
   "outputs": [],
   "source": [
    "roberta = RobertaModel.from_pretrained(\n",
    "    '/home/vmagent/app/',\n",
    "    checkpoint_file=filename1,\n",
    "    data_name_or_path='/home/vmagent/app/STS-B-bin'\n",
    ")"
   ]
  },
  {
   "cell_type": "code",
   "execution_count": 55,
   "metadata": {},
   "outputs": [],
   "source": [
    "roberta.eval()"
   ]
  },
  {
   "cell_type": "code",
   "execution_count": 6,
   "metadata": {},
   "outputs": [],
   "source": [
    "@app.route(\"/sentence_similarity_roberta\",methods=[\"POST\",\"GET\"])\n",
    "def sentence_similarity_roberta():\n",
    "    r = []\n",
    "    result = []\n",
    "    \n",
    "    list1=request.form.getlist('sentence1')\n",
    "    list2=request.form.getlist('sentence2')\n",
    "    list1 = list1[0].replace(\"\\\"\",'').replace(\"[\",'').replace(\"]\",'')\n",
    "    s1 = list1.split(\",\")\n",
    "    list2 = list2[0].replace(\"\\\"\",'').replace(\"[\",'').replace(\"]\",'')\n",
    "    s2 = list2.split(\",\")\n",
    "    \n",
    "    for i in s1:\n",
    "        for j in s2:\n",
    "            tokens = roberta.encode(i, j)\n",
    "            features = roberta.extract_features(tokens)\n",
    "            predictions = roberta.model.classification_heads['sentence_classification_head'](features)\n",
    "            r.append({\"sentence1\":i, 'sentence2':j, 'roberta_score':str(predictions.item())})\n",
    "        result.append(r)\n",
    "        r = []\n",
    "    return jsonify(result)"
   ]
  },
  {
   "cell_type": "code",
   "execution_count": null,
   "metadata": {},
   "outputs": [],
   "source": [
    "if __name__ == '__main__':\n",
    "    app.run(debug=True, threaded=True, host='0.0.0.0', port='5010')"
   ]
  }
 ],
 "metadata": {
  "kernelspec": {
   "display_name": "venv",
   "language": "python",
   "name": "venv"
  },
  "language_info": {
   "codemirror_mode": {
    "name": "ipython",
    "version": 3
   },
   "file_extension": ".py",
   "mimetype": "text/x-python",
   "name": "python",
   "nbconvert_exporter": "python",
   "pygments_lexer": "ipython3",
   "version": "3.6.8"
  }
 },
 "nbformat": 4,
 "nbformat_minor": 2
}
