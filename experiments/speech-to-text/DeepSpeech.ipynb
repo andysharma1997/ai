{
 "cells": [
  {
   "cell_type": "code",
   "execution_count": 1,
   "metadata": {},
   "outputs": [],
   "source": [
    "import argparse\n",
    "import numpy as np\n",
    "import shlex\n",
    "import subprocess\n",
    "import sys\n",
    "import wave\n"
   ]
  },
  {
   "cell_type": "code",
   "execution_count": 2,
   "metadata": {},
   "outputs": [],
   "source": [
    "from deepspeech import Model, printVersions\n",
    "from timeit import default_timer as timer"
   ]
  },
  {
   "cell_type": "code",
   "execution_count": 3,
   "metadata": {},
   "outputs": [],
   "source": [
    "try:\n",
    "    from shhlex import quote\n",
    "except ImportError:\n",
    "    from pipes import quote\n"
   ]
  },
  {
   "cell_type": "code",
   "execution_count": 4,
   "metadata": {},
   "outputs": [],
   "source": [
    "# Define the sample rate for audio\n",
    "\n",
    "SAMPLE_RATE = 16000\n",
    "# These constants control the beam search decoder\n",
    "\n",
    "# Beam width used in the CTC decoder when building candidate transcriptions\n",
    "BEAM_WIDTH = 500\n",
    "\n",
    "# The alpha hyperparameter of the CTC decoder. Language Model weight\n",
    "LM_ALPHA = 0.75\n",
    "\n",
    "# The beta hyperparameter of the CTC decoder. Word insertion bonus.\n",
    "LM_BETA = 1.85\n",
    "\n",
    "\n",
    "# These constants are tied to the shape of the graph used (changing them changes\n",
    "# the geometry of the first layer), so make sure you use the same constants that\n",
    "# were used during training\n",
    "\n",
    "# Number of MFCC features to use\n",
    "N_FEATURES = 26\n",
    "\n",
    "# Size of the context window used for producing timesteps in the input vector\n",
    "N_CONTEXT = 9\n"
   ]
  },
  {
   "cell_type": "code",
   "execution_count": 5,
   "metadata": {},
   "outputs": [],
   "source": [
    "def convert_samplerate(audio_path):\n",
    "    sox_cmd = 'sox {} --type raw --bits 16 --channels 1 --rate {} --encoding signed-integer --endian little --compression 0.0 --no-dither - '.format(quote(audio_path), SAMPLE_RATE)\n",
    "    try:\n",
    "        output = subprocess.check_output(shlex.split(sox_cmd), stderr=subprocess.PIPE)\n",
    "    except subprocess.CalledProcessError as e:\n",
    "        raise RuntimeError('SoX returned non-zero status: {}'.format(e.stderr))\n",
    "    except OSError as e:\n",
    "        raise OSError(e.errno, 'SoX not found, use {}hz files or install it: {}'.format(SAMPLE_RATE, e.strerror))\n",
    "\n",
    "    return SAMPLE_RATE, np.frombuffer(output, np.int16)\n",
    "\n",
    "\n",
    "def metadata_to_string(metadata):\n",
    "    return ''.join(item.character for item in metadata.items)\n",
    "\n",
    "\n",
    "class VersionAction(argparse.Action):\n",
    "    def __init__(self, *args, **kwargs):\n",
    "        super(VersionAction, self).__init__(nargs=0, *args, **kwargs)\n",
    "\n",
    "    def __call__(self, *args, **kwargs):\n",
    "        printVersions()\n",
    "        exit(0)\n",
    "\n"
   ]
  },
  {
   "cell_type": "code",
   "execution_count": 8,
   "metadata": {},
   "outputs": [],
   "source": [
    "alphabet = '/home/absin/Downloads/deepspeech-0.5.1-models/alphabet.txt'\n",
    "model = '/home/absin/Downloads/deepspeech-0.5.1-models/output_graph.pb'\n",
    "lm = '/home/absin/Downloads/deepspeech-0.5.1-models/lm.binary'\n",
    "trie = '/home/absin/Downloads/deepspeech-0.5.1-models/trie'"
   ]
  },
  {
   "cell_type": "code",
   "execution_count": 9,
   "metadata": {},
   "outputs": [
    {
     "name": "stderr",
     "output_type": "stream",
     "text": [
      "Loading model from file /home/absin/Downloads/deepspeech-0.5.1-models/output_graph.pb\n",
      "Loaded model in 0.0963s.\n"
     ]
    }
   ],
   "source": [
    "print('Loading model from file {}'.format(model), file=sys.stderr)\n",
    "model_load_start = timer()\n",
    "ds = Model(model, N_FEATURES, N_CONTEXT, alphabet, BEAM_WIDTH)\n",
    "model_load_end = timer() - model_load_start\n",
    "print('Loaded model in {:.3}s.'.format(model_load_end), file=sys.stderr)\n"
   ]
  },
  {
   "cell_type": "code",
   "execution_count": 10,
   "metadata": {},
   "outputs": [
    {
     "name": "stderr",
     "output_type": "stream",
     "text": [
      "Loading language model from files /home/absin/Downloads/deepspeech-0.5.1-models/lm.binary /home/absin/Downloads/deepspeech-0.5.1-models/trie\n",
      "Loaded language model in 0.159s.\n"
     ]
    }
   ],
   "source": [
    "print('Loading language model from files {} {}'.format(lm, trie), file=sys.stderr)\n",
    "lm_load_start = timer()\n",
    "ds.enableDecoderWithLM(alphabet, lm, trie, LM_ALPHA, LM_BETA)\n",
    "lm_load_end = timer() - lm_load_start\n",
    "print('Loaded language model in {:.3}s.'.format(lm_load_end), file=sys.stderr)"
   ]
  },
  {
   "cell_type": "code",
   "execution_count": 24,
   "metadata": {},
   "outputs": [
    {
     "name": "stdout",
     "output_type": "stream",
     "text": [
      "['__class__', '__del__', '__delattr__', '__dict__', '__dir__', '__doc__', '__eq__', '__format__', '__ge__', '__getattribute__', '__gt__', '__hash__', '__init__', '__init_subclass__', '__le__', '__lt__', '__module__', '__ne__', '__new__', '__reduce__', '__reduce_ex__', '__repr__', '__setattr__', '__sizeof__', '__str__', '__subclasshook__', '__weakref__', '_impl', 'enableDecoderWithLM', 'feedAudioContent', 'finishStream', 'finishStreamWithMetadata', 'intermediateDecode', 'setupStream', 'stt', 'sttWithMetadata']\n"
     ]
    }
   ],
   "source": [
    "print(dir(ds))\n",
    "import time"
   ]
  },
  {
   "cell_type": "code",
   "execution_count": 42,
   "metadata": {},
   "outputs": [],
   "source": [
    "from scipy.io import wavfile\n",
    "fs, frames = wavfile.read('/home/absin/Downloads/RE16255e9fec360777c31418c2853372dc_1.wav')"
   ]
  },
  {
   "cell_type": "code",
   "execution_count": 45,
   "metadata": {},
   "outputs": [
    {
     "data": {
      "text/plain": [
       "1518720"
      ]
     },
     "execution_count": 45,
     "metadata": {},
     "output_type": "execute_result"
    }
   ],
   "source": [
    "frames.shape[0]"
   ]
  },
  {
   "cell_type": "code",
   "execution_count": 44,
   "metadata": {},
   "outputs": [
    {
     "data": {
      "text/plain": [
       "array([8, 7, 4, ..., 3, 4, 5], dtype=int16)"
      ]
     },
     "execution_count": 44,
     "metadata": {},
     "output_type": "execute_result"
    }
   ],
   "source": [
    "frames[0:4000]"
   ]
  },
  {
   "cell_type": "code",
   "execution_count": 48,
   "metadata": {},
   "outputs": [
    {
     "name": "stdout",
     "output_type": "stream",
     "text": [
      "Done 0.25\n",
      "Done 0.5\n",
      "Done 0.75\n",
      "Done 1.0\n",
      "Done 1.25\n",
      "Done 1.5\n",
      "Done 1.75\n",
      "Done 2.0\n",
      "Done 2.25\n",
      "Done 2.5\n",
      "Done 2.75\n",
      "Done 3.0\n",
      "Done 3.25\n",
      "Done 3.5\n",
      "Done 3.75\n",
      "Done 4.0\n",
      "Done 4.25\n",
      "Done 4.5\n",
      "Done 4.75\n",
      "Done 5.0\n",
      "Done 5.25\n",
      "Done 5.5\n",
      "Done 5.75\n",
      "Done 6.0\n",
      "Done 6.25\n",
      "Done 6.5\n",
      "Done 6.75\n",
      "Done 7.0\n",
      "Done 7.25\n",
      "Done 7.5\n",
      "Done 7.75\n",
      "Done 8.0\n",
      "Done 8.25\n",
      "Done 8.5\n",
      "Done 8.75\n",
      "Done 9.0\n",
      "Done 9.25\n",
      "Done 9.5\n",
      "Done 9.75\n",
      "Done 10.0\n",
      "Done 10.25\n",
      "Done 10.5\n",
      "Done 10.75\n",
      "Done 11.0\n",
      "Done 11.25\n",
      "Done 11.5\n",
      "Done 11.75\n",
      "Done 12.0\n",
      "Done 12.25\n",
      "Done 12.5\n",
      "Done 12.75\n",
      "Done 13.0\n",
      "Done 13.25\n",
      "Done 13.5\n",
      "Done 13.75\n",
      "Done 14.0\n",
      "Done 14.25\n",
      "Done 14.5\n",
      "Done 14.75\n",
      "Done 15.0\n",
      "Done 15.25\n",
      "Done 15.5\n",
      "Done 15.75\n",
      "Done 16.0\n",
      "Done 16.25\n",
      "Done 16.5\n",
      "Done 16.75\n",
      "Done 17.0\n",
      "Done 17.25\n",
      "Done 17.5\n",
      "Done 17.75\n",
      "Done 18.0\n",
      "Done 18.25\n",
      "Done 18.5\n",
      "Done 18.75\n",
      "Done 19.0\n",
      "Done 19.25\n",
      "Done 19.5\n",
      "Done 19.75\n",
      "Done 20.0\n",
      "Done 20.25\n",
      "Done 20.5\n",
      "Done 20.75\n",
      "Done 21.0\n",
      "Done 21.25\n"
     ]
    },
    {
     "ename": "KeyboardInterrupt",
     "evalue": "",
     "output_type": "error",
     "traceback": [
      "\u001b[0;31m---------------------------------------------------------------------------\u001b[0m",
      "\u001b[0;31mKeyboardInterrupt\u001b[0m                         Traceback (most recent call last)",
      "\u001b[0;32m<ipython-input-48-420eb1ed4636>\u001b[0m in \u001b[0;36m<module>\u001b[0;34m\u001b[0m\n\u001b[1;32m      6\u001b[0m     \u001b[0mprint\u001b[0m\u001b[0;34m(\u001b[0m\u001b[0;34m'Done '\u001b[0m\u001b[0;34m+\u001b[0m\u001b[0mstr\u001b[0m\u001b[0;34m(\u001b[0m\u001b[0mstart\u001b[0m\u001b[0;34m/\u001b[0m\u001b[0;36m16000\u001b[0m\u001b[0;34m)\u001b[0m\u001b[0;34m)\u001b[0m\u001b[0;34m\u001b[0m\u001b[0;34m\u001b[0m\u001b[0m\n\u001b[1;32m      7\u001b[0m     \u001b[0mds\u001b[0m\u001b[0;34m.\u001b[0m\u001b[0mintermediateDecode\u001b[0m\u001b[0;34m(\u001b[0m\u001b[0mstream_context\u001b[0m\u001b[0;34m)\u001b[0m\u001b[0;34m\u001b[0m\u001b[0;34m\u001b[0m\u001b[0m\n\u001b[0;32m----> 8\u001b[0;31m     \u001b[0mtime\u001b[0m\u001b[0;34m.\u001b[0m\u001b[0msleep\u001b[0m\u001b[0;34m(\u001b[0m\u001b[0;36m0.25\u001b[0m\u001b[0;34m)\u001b[0m\u001b[0;34m\u001b[0m\u001b[0;34m\u001b[0m\u001b[0m\n\u001b[0m\u001b[1;32m      9\u001b[0m \u001b[0mtext\u001b[0m \u001b[0;34m=\u001b[0m \u001b[0mds\u001b[0m\u001b[0;34m.\u001b[0m\u001b[0mfinishStream\u001b[0m\u001b[0;34m(\u001b[0m\u001b[0mstream_context\u001b[0m\u001b[0;34m)\u001b[0m\u001b[0;34m\u001b[0m\u001b[0;34m\u001b[0m\u001b[0m\n\u001b[1;32m     10\u001b[0m \u001b[0mprint\u001b[0m\u001b[0;34m(\u001b[0m\u001b[0;34m\"Recognized: %s\"\u001b[0m \u001b[0;34m%\u001b[0m \u001b[0mtext\u001b[0m\u001b[0;34m)\u001b[0m\u001b[0;34m\u001b[0m\u001b[0;34m\u001b[0m\u001b[0m\n",
      "\u001b[0;31mKeyboardInterrupt\u001b[0m: "
     ]
    }
   ],
   "source": [
    "stream_context = ds.setupStream()\n",
    "start = 0\n",
    "time.time()\n",
    "while(start<frames.shape[0]):\n",
    "    ds.feedAudioContent(stream_context, np.frombuffer(frames[start:start+4000], np.int16))\n",
    "    start += 4000\n",
    "    print('Done '+str(start/16000))\n",
    "    ds.intermediateDecode(stream_context)\n",
    "    time.sleep(0.25)\n",
    "text = ds.finishStream(stream_context)\n",
    "print(\"Recognized: %s\" % text)"
   ]
  },
  {
   "cell_type": "code",
   "execution_count": null,
   "metadata": {},
   "outputs": [],
   "source": []
  }
 ],
 "metadata": {
  "kernelspec": {
   "display_name": "venv",
   "language": "python",
   "name": "venv"
  },
  "language_info": {
   "codemirror_mode": {
    "name": "ipython",
    "version": 3
   },
   "file_extension": ".py",
   "mimetype": "text/x-python",
   "name": "python",
   "nbconvert_exporter": "python",
   "pygments_lexer": "ipython3",
   "version": "3.6.8"
  }
 },
 "nbformat": 4,
 "nbformat_minor": 2
}
