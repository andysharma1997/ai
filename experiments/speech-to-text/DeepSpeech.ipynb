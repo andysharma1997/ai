{
 "cells": [
  {
   "cell_type": "code",
   "execution_count": 1,
   "metadata": {},
   "outputs": [],
   "source": [
    "import argparse\n",
    "import numpy as np\n",
    "import shlex\n",
    "import subprocess\n",
    "import sys\n",
    "import wave\n"
   ]
  },
  {
   "cell_type": "code",
   "execution_count": 2,
   "metadata": {},
   "outputs": [],
   "source": [
    "from deepspeech import Model, printVersions\n",
    "from timeit import default_timer as timer"
   ]
  },
  {
   "cell_type": "code",
   "execution_count": 3,
   "metadata": {},
   "outputs": [],
   "source": [
    "try:\n",
    "    from shhlex import quote\n",
    "except ImportError:\n",
    "    from pipes import quote\n"
   ]
  },
  {
   "cell_type": "code",
   "execution_count": 4,
   "metadata": {},
   "outputs": [],
   "source": [
    "# Define the sample rate for audio\n",
    "\n",
    "SAMPLE_RATE = 16000\n",
    "# These constants control the beam search decoder\n",
    "\n",
    "# Beam width used in the CTC decoder when building candidate transcriptions\n",
    "BEAM_WIDTH = 500\n",
    "\n",
    "# The alpha hyperparameter of the CTC decoder. Language Model weight\n",
    "LM_ALPHA = 0.75\n",
    "\n",
    "# The beta hyperparameter of the CTC decoder. Word insertion bonus.\n",
    "LM_BETA = 1.85\n",
    "\n",
    "\n",
    "# These constants are tied to the shape of the graph used (changing them changes\n",
    "# the geometry of the first layer), so make sure you use the same constants that\n",
    "# were used during training\n",
    "\n",
    "# Number of MFCC features to use\n",
    "N_FEATURES = 26\n",
    "\n",
    "# Size of the context window used for producing timesteps in the input vector\n",
    "N_CONTEXT = 9\n"
   ]
  },
  {
   "cell_type": "code",
   "execution_count": 5,
   "metadata": {},
   "outputs": [],
   "source": [
    "def convert_samplerate(audio_path):\n",
    "    sox_cmd = 'sox {} --type raw --bits 16 --channels 1 --rate {} --encoding signed-integer --endian little --compression 0.0 --no-dither - '.format(quote(audio_path), SAMPLE_RATE)\n",
    "    try:\n",
    "        output = subprocess.check_output(shlex.split(sox_cmd), stderr=subprocess.PIPE)\n",
    "    except subprocess.CalledProcessError as e:\n",
    "        raise RuntimeError('SoX returned non-zero status: {}'.format(e.stderr))\n",
    "    except OSError as e:\n",
    "        raise OSError(e.errno, 'SoX not found, use {}hz files or install it: {}'.format(SAMPLE_RATE, e.strerror))\n",
    "\n",
    "    return SAMPLE_RATE, np.frombuffer(output, np.int16)\n",
    "\n",
    "\n",
    "def metadata_to_string(metadata):\n",
    "    return ''.join(item.character for item in metadata.items)\n",
    "\n",
    "\n",
    "class VersionAction(argparse.Action):\n",
    "    def __init__(self, *args, **kwargs):\n",
    "        super(VersionAction, self).__init__(nargs=0, *args, **kwargs)\n",
    "\n",
    "    def __call__(self, *args, **kwargs):\n",
    "        printVersions()\n",
    "        exit(0)\n",
    "\n"
   ]
  },
  {
   "cell_type": "code",
   "execution_count": 8,
   "metadata": {},
   "outputs": [],
   "source": [
    "alphabet = '/home/absin/Downloads/deepspeech-0.5.1-models/alphabet.txt'\n",
    "model = '/home/absin/Downloads/deepspeech-0.5.1-models/output_graph.pb'\n",
    "lm = '/home/absin/Downloads/deepspeech-0.5.1-models/lm.binary'\n",
    "trie = '/home/absin/Downloads/deepspeech-0.5.1-models/trie'"
   ]
  },
  {
   "cell_type": "code",
   "execution_count": 9,
   "metadata": {},
   "outputs": [
    {
     "name": "stderr",
     "output_type": "stream",
     "text": [
      "Loading model from file /home/absin/Downloads/deepspeech-0.5.1-models/output_graph.pb\n",
      "Loaded model in 0.0963s.\n"
     ]
    }
   ],
   "source": [
    "print('Loading model from file {}'.format(model), file=sys.stderr)\n",
    "model_load_start = timer()\n",
    "ds = Model(model, N_FEATURES, N_CONTEXT, alphabet, BEAM_WIDTH)\n",
    "model_load_end = timer() - model_load_start\n",
    "print('Loaded model in {:.3}s.'.format(model_load_end), file=sys.stderr)\n"
   ]
  },
  {
   "cell_type": "code",
   "execution_count": 10,
   "metadata": {},
   "outputs": [
    {
     "name": "stderr",
     "output_type": "stream",
     "text": [
      "Loading language model from files /home/absin/Downloads/deepspeech-0.5.1-models/lm.binary /home/absin/Downloads/deepspeech-0.5.1-models/trie\n",
      "Loaded language model in 0.159s.\n"
     ]
    }
   ],
   "source": [
    "print('Loading language model from files {} {}'.format(lm, trie), file=sys.stderr)\n",
    "lm_load_start = timer()\n",
    "ds.enableDecoderWithLM(alphabet, lm, trie, LM_ALPHA, LM_BETA)\n",
    "lm_load_end = timer() - lm_load_start\n",
    "print('Loaded language model in {:.3}s.'.format(lm_load_end), file=sys.stderr)"
   ]
  },
  {
   "cell_type": "code",
   "execution_count": 24,
   "metadata": {},
   "outputs": [
    {
     "name": "stdout",
     "output_type": "stream",
     "text": [
      "['__class__', '__del__', '__delattr__', '__dict__', '__dir__', '__doc__', '__eq__', '__format__', '__ge__', '__getattribute__', '__gt__', '__hash__', '__init__', '__init_subclass__', '__le__', '__lt__', '__module__', '__ne__', '__new__', '__reduce__', '__reduce_ex__', '__repr__', '__setattr__', '__sizeof__', '__str__', '__subclasshook__', '__weakref__', '_impl', 'enableDecoderWithLM', 'feedAudioContent', 'finishStream', 'finishStreamWithMetadata', 'intermediateDecode', 'setupStream', 'stt', 'sttWithMetadata']\n"
     ]
    }
   ],
   "source": [
    "print(dir(ds))\n",
    "import time"
   ]
  },
  {
   "cell_type": "code",
   "execution_count": 42,
   "metadata": {},
   "outputs": [],
   "source": [
    "from scipy.io import wavfile\n",
    "fs, frames = wavfile.read('/home/absin/Downloads/RE16255e9fec360777c31418c2853372dc_1.wav')"
   ]
  },
  {
   "cell_type": "code",
   "execution_count": 45,
   "metadata": {},
   "outputs": [
    {
     "data": {
      "text/plain": [
       "1518720"
      ]
     },
     "execution_count": 45,
     "metadata": {},
     "output_type": "execute_result"
    }
   ],
   "source": [
    "frames.shape[0]"
   ]
  },
  {
   "cell_type": "code",
   "execution_count": 44,
   "metadata": {},
   "outputs": [
    {
     "data": {
      "text/plain": [
       "array([8, 7, 4, ..., 3, 4, 5], dtype=int16)"
      ]
     },
     "execution_count": 44,
     "metadata": {},
     "output_type": "execute_result"
    }
   ],
   "source": [
    "frames[0:4000]"
   ]
  },
  {
   "cell_type": "code",
   "execution_count": 56,
   "metadata": {},
   "outputs": [
    {
     "name": "stdout",
     "output_type": "stream",
     "text": [
      "Done 0.25:0.0016019344329833984\n",
      "Recognized: \n",
      "Done 0.5:0.0038461685180664062\n",
      "Recognized: \n",
      "Done 0.75:0.23262929916381836\n",
      "Recognized: \n",
      "Done 1.0:0.4796748161315918\n",
      "Recognized: \n",
      "Done 1.25:0.7293710708618164\n",
      "Recognized: \n",
      "Done 1.5:0.9899082183837891\n",
      "Recognized: \n",
      "Done 1.75:1.0131773948669434\n",
      "Recognized: \n",
      "Done 2.0:1.2566821575164795\n",
      "Recognized: \n",
      "Done 2.25:1.549316167831421\n",
      "Recognized: \n",
      "Done 2.5:1.7991218566894531\n",
      "Recognized: \n",
      "Done 2.75:1.8227970600128174\n",
      "Recognized: \n",
      "Done 3.0:2.068087339401245\n",
      "Recognized: \n",
      "Done 3.25:2.3295047283172607\n",
      "Recognized: well \n",
      "Done 3.5:2.580994129180908\n",
      "Recognized: well \n",
      "Done 3.75:2.8259217739105225\n",
      "Recognized: well \n",
      "Done 4.0:2.849881172180176\n",
      "Recognized: well \n",
      "Done 4.25:3.0999398231506348\n",
      "Recognized: well he had\n",
      "Done 4.5:3.402845621109009\n",
      "Recognized: well he had i must b\n",
      "Done 4.75:3.84712553024292\n",
      "Recognized: well he had i must be and \n",
      "Done 5.0:4.1257476806640625\n",
      "Recognized: well he had a must be a do you mon\n",
      "Done 5.25:4.179435968399048\n",
      "Recognized: well he had a must be a do you mon\n",
      "Done 5.5:4.451807260513306\n",
      "Recognized: well he had a must be a do you mon\n",
      "Done 5.75:4.693072319030762\n",
      "Recognized: well he had a must be a do you mon\n",
      "Done 6.0:4.937769651412964\n",
      "Recognized: well he had a must be a do you mon\n",
      "Done 6.25:4.961510181427002\n",
      "Recognized: well he had a must be a do you mon\n",
      "Done 6.5:5.2880003452301025\n",
      "Recognized: well he had a must be a do you mon\n",
      "Done 6.75:5.5357561111450195\n",
      "Recognized: well he had a must be a do you mon\n",
      "Done 7.0:5.8554017543792725\n",
      "Recognized: well he had a must be a do you mon\n",
      "Done 7.25:6.098828077316284\n",
      "Recognized: well he had a must be a do you mon\n",
      "Done 7.5:6.122080564498901\n",
      "Recognized: well he had a must be a do you mon\n",
      "Done 7.75:6.363027095794678\n",
      "Recognized: well he had a must be a do you mon\n",
      "Done 8.0:6.609919309616089\n",
      "Recognized: well he had a must be a do you mon\n",
      "Done 8.25:6.848902225494385\n",
      "Recognized: well he had a must be a do you mon\n",
      "Done 8.5:6.872123718261719\n",
      "Recognized: well he had a must be a do you mon\n",
      "Done 8.75:7.183078050613403\n",
      "Recognized: well he had a must be a do you mon\n",
      "Done 9.0:7.442970275878906\n",
      "Recognized: well he had a must be a do you mon\n",
      "Done 9.25:7.713358640670776\n",
      "Recognized: well he had a must be a do you mon\n",
      "Done 9.5:7.996102333068848\n",
      "Recognized: well he had a must be a do you mon\n",
      "Done 9.75:8.01842713356018\n",
      "Recognized: well he had a must be a do you mon\n",
      "Done 10.0:8.261731624603271\n",
      "Recognized: well he had a must be a do you mon\n",
      "Done 10.25:8.506181955337524\n",
      "Recognized: well he had a must be a do you mon \n",
      "Done 10.5:8.771828174591064\n",
      "Recognized: well he had a must be a do you mon ah how\n",
      "Done 10.75:8.831621408462524\n",
      "Recognized: well he had a must be a do you mon ah how\n",
      "Done 11.0:9.119964122772217\n",
      "Recognized: well he had a must be a do you mon ah how you ma\n",
      "Done 11.25:9.370863676071167\n",
      "Recognized: well he had a must be a do you mon ah how you man \n",
      "Done 11.5:9.735650300979614\n",
      "Recognized: well he had a must be a do you mon ah how you mind o my na\n",
      "Done 11.75:10.068784952163696\n",
      "Recognized: well he had a must be a do you mon ah how you mind o my name i am\n",
      "Done 12.0:10.10551404953003\n",
      "Recognized: well he had a must be a do you mon ah how you mind o my name i am\n",
      "Done 12.25:10.432919979095459\n",
      "Recognized: well he had a must be a do you mon ah how you mind o my name i am\n",
      "Done 12.5:10.68278431892395\n",
      "Recognized: well he had a must be a do you mon ah how you mind o my name i am\n",
      "Done 12.75:10.936145067214966\n",
      "Recognized: well he had a must be a do you mon ah how you mind o my name i am \n",
      "Done 13.0:11.201955795288086\n",
      "Recognized: well he had a must be a do you mon ah how you mind o my name i am and i'm \n",
      "Done 13.25:11.229336738586426\n",
      "Recognized: well he had a must be a do you mon ah how you mind o my name i am and i'm \n",
      "Done 13.5:11.494827270507812\n",
      "Recognized: well he had a must be a do you mon ah how you mind o my name i am and i'm calling you\n",
      "Done 13.75:11.853193998336792\n",
      "Recognized: well he had a must be a do you mon ah how you mind o my name i am and i'm calling you from \n"
     ]
    },
    {
     "ename": "KeyboardInterrupt",
     "evalue": "",
     "output_type": "error",
     "traceback": [
      "\u001b[0;31m---------------------------------------------------------------------------\u001b[0m",
      "\u001b[0;31mKeyboardInterrupt\u001b[0m                         Traceback (most recent call last)",
      "\u001b[0;32m<ipython-input-56-8c4f2e0d77f2>\u001b[0m in \u001b[0;36m<module>\u001b[0;34m\u001b[0m\n\u001b[1;32m      3\u001b[0m \u001b[0mstart_time\u001b[0m \u001b[0;34m=\u001b[0m \u001b[0mtime\u001b[0m\u001b[0;34m.\u001b[0m\u001b[0mtime\u001b[0m\u001b[0;34m(\u001b[0m\u001b[0;34m)\u001b[0m\u001b[0;34m\u001b[0m\u001b[0;34m\u001b[0m\u001b[0m\n\u001b[1;32m      4\u001b[0m \u001b[0;32mwhile\u001b[0m\u001b[0;34m(\u001b[0m\u001b[0mstart\u001b[0m\u001b[0;34m<\u001b[0m\u001b[0mframes\u001b[0m\u001b[0;34m.\u001b[0m\u001b[0mshape\u001b[0m\u001b[0;34m[\u001b[0m\u001b[0;36m0\u001b[0m\u001b[0;34m]\u001b[0m\u001b[0;34m)\u001b[0m\u001b[0;34m:\u001b[0m\u001b[0;34m\u001b[0m\u001b[0;34m\u001b[0m\u001b[0m\n\u001b[0;32m----> 5\u001b[0;31m     \u001b[0mds\u001b[0m\u001b[0;34m.\u001b[0m\u001b[0mfeedAudioContent\u001b[0m\u001b[0;34m(\u001b[0m\u001b[0mstream_context\u001b[0m\u001b[0;34m,\u001b[0m \u001b[0mnp\u001b[0m\u001b[0;34m.\u001b[0m\u001b[0mfrombuffer\u001b[0m\u001b[0;34m(\u001b[0m\u001b[0mframes\u001b[0m\u001b[0;34m[\u001b[0m\u001b[0mstart\u001b[0m\u001b[0;34m:\u001b[0m\u001b[0mstart\u001b[0m\u001b[0;34m+\u001b[0m\u001b[0;36m4000\u001b[0m\u001b[0;34m]\u001b[0m\u001b[0;34m,\u001b[0m \u001b[0mnp\u001b[0m\u001b[0;34m.\u001b[0m\u001b[0mint16\u001b[0m\u001b[0;34m)\u001b[0m\u001b[0;34m)\u001b[0m\u001b[0;34m\u001b[0m\u001b[0;34m\u001b[0m\u001b[0m\n\u001b[0m\u001b[1;32m      6\u001b[0m     \u001b[0mstart\u001b[0m \u001b[0;34m+=\u001b[0m \u001b[0;36m4000\u001b[0m\u001b[0;34m\u001b[0m\u001b[0;34m\u001b[0m\u001b[0m\n\u001b[1;32m      7\u001b[0m     \u001b[0mprint\u001b[0m\u001b[0;34m(\u001b[0m\u001b[0;34m'Done '\u001b[0m\u001b[0;34m+\u001b[0m\u001b[0mstr\u001b[0m\u001b[0;34m(\u001b[0m\u001b[0mstart\u001b[0m\u001b[0;34m/\u001b[0m\u001b[0;36m16000\u001b[0m\u001b[0;34m)\u001b[0m\u001b[0;34m+\u001b[0m\u001b[0;34m\":\"\u001b[0m\u001b[0;34m+\u001b[0m\u001b[0mstr\u001b[0m\u001b[0;34m(\u001b[0m\u001b[0mtime\u001b[0m\u001b[0;34m.\u001b[0m\u001b[0mtime\u001b[0m\u001b[0;34m(\u001b[0m\u001b[0;34m)\u001b[0m\u001b[0;34m-\u001b[0m\u001b[0mstart_time\u001b[0m\u001b[0;34m)\u001b[0m\u001b[0;34m)\u001b[0m\u001b[0;34m\u001b[0m\u001b[0;34m\u001b[0m\u001b[0m\n",
      "\u001b[0;32m~/git/ai/venv/lib/python3.6/site-packages/deepspeech/__init__.py\u001b[0m in \u001b[0;36mfeedAudioContent\u001b[0;34m(self, *args, **kwargs)\u001b[0m\n\u001b[1;32m     47\u001b[0m \u001b[0;34m\u001b[0m\u001b[0m\n\u001b[1;32m     48\u001b[0m     \u001b[0;32mdef\u001b[0m \u001b[0mfeedAudioContent\u001b[0m\u001b[0;34m(\u001b[0m\u001b[0mself\u001b[0m\u001b[0;34m,\u001b[0m \u001b[0;34m*\u001b[0m\u001b[0margs\u001b[0m\u001b[0;34m,\u001b[0m \u001b[0;34m**\u001b[0m\u001b[0mkwargs\u001b[0m\u001b[0;34m)\u001b[0m\u001b[0;34m:\u001b[0m\u001b[0;34m\u001b[0m\u001b[0;34m\u001b[0m\u001b[0m\n\u001b[0;32m---> 49\u001b[0;31m         \u001b[0mdeepspeech\u001b[0m\u001b[0;34m.\u001b[0m\u001b[0mimpl\u001b[0m\u001b[0;34m.\u001b[0m\u001b[0mFeedAudioContent\u001b[0m\u001b[0;34m(\u001b[0m\u001b[0;34m*\u001b[0m\u001b[0margs\u001b[0m\u001b[0;34m,\u001b[0m \u001b[0;34m**\u001b[0m\u001b[0mkwargs\u001b[0m\u001b[0;34m)\u001b[0m\u001b[0;34m\u001b[0m\u001b[0;34m\u001b[0m\u001b[0m\n\u001b[0m\u001b[1;32m     50\u001b[0m \u001b[0;34m\u001b[0m\u001b[0m\n\u001b[1;32m     51\u001b[0m     \u001b[0;32mdef\u001b[0m \u001b[0mintermediateDecode\u001b[0m\u001b[0;34m(\u001b[0m\u001b[0mself\u001b[0m\u001b[0;34m,\u001b[0m \u001b[0;34m*\u001b[0m\u001b[0margs\u001b[0m\u001b[0;34m,\u001b[0m \u001b[0;34m**\u001b[0m\u001b[0mkwargs\u001b[0m\u001b[0;34m)\u001b[0m\u001b[0;34m:\u001b[0m\u001b[0;34m\u001b[0m\u001b[0;34m\u001b[0m\u001b[0m\n",
      "\u001b[0;31mKeyboardInterrupt\u001b[0m: "
     ]
    }
   ],
   "source": [
    "stream_context = ds.setupStream()\n",
    "start = 0\n",
    "start_time = time.time()\n",
    "while(start<frames.shape[0]):\n",
    "    ds.feedAudioContent(stream_context, np.frombuffer(frames[start:start+4000], np.int16))\n",
    "    start += 4000\n",
    "    print('Done '+str(start/16000)+\":\"+str(time.time()-start_time))\n",
    "    print(\"Recognized: %s\" % ds.intermediateDecode(stream_context))\n",
    "text = ds.finishStream(stream_context)\n",
    "print(\"Recognized: %s\" % text)"
   ]
  },
  {
   "cell_type": "code",
   "execution_count": null,
   "metadata": {},
   "outputs": [],
   "source": []
  }
 ],
 "metadata": {
  "kernelspec": {
   "display_name": "venv",
   "language": "python",
   "name": "venv"
  },
  "language_info": {
   "codemirror_mode": {
    "name": "ipython",
    "version": 3
   },
   "file_extension": ".py",
   "mimetype": "text/x-python",
   "name": "python",
   "nbconvert_exporter": "python",
   "pygments_lexer": "ipython3",
   "version": "3.6.8"
  }
 },
 "nbformat": 4,
 "nbformat_minor": 2
}
