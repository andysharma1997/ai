{
 "cells": [
  {
   "cell_type": "markdown",
   "metadata": {},
   "source": [
    "Here we are going to benchmark [mozilla's deepspeech](https://github.com/mozilla/DeepSpeech). The release claims that deepspeech works on American English achieving an 8.22% word error rate on the LibriSpeech clean test corpus.\n",
    "Now, since we happen to have ~ 50 hours of american english phone conversation recordings  we can attempt to benchmark how well deepspeech works in production.\n",
    "So this is what we are going to do:\n",
    "* We will take the call recordings and remove the agent channel (we have 2 channels, one corresponds to the agent and the other to the customer)\n",
    "* We will split the recordings based on voice activity (so one continuous segment of audio will become one chunk)\n",
    "* We will transcribe these chunks using deepspeech\n",
    "* We will then manually transcribe them. In order to manually transcribe we will develop our own web browser based interface to perform manual transcription of these chunks. \n",
    "* We will then implement the WER algorithm to compute WERs across the chunks which have been manually transcribed\n",
    "* Observe the system live"
   ]
  },
  {
   "cell_type": "code",
   "execution_count": 1,
   "metadata": {},
   "outputs": [],
   "source": [
    "import sys\n",
    "from os import path\n",
    "import os\n",
    "current_folder = (os.path.abspath(''))\n",
    "root_path = path.dirname(current_folder)\n",
    "sys.path.append(root_path)\n",
    "from speech.utils import misc\n",
    "from speech.utils import vad\n",
    "from speech.transcription import deep_speech_api\n",
    "import psycopg2\n",
    "import re\n",
    "import soundfile as sf"
   ]
  },
  {
   "cell_type": "code",
   "execution_count": 2,
   "metadata": {},
   "outputs": [],
   "source": [
    "BENCH_PATH=root_path+'/benchmark/'\n",
    "CHUNK_PATH=BENCH_PATH+'chunks/'\n",
    "TASK_PATH=BENCH_PATH+'tasks/'\n",
    "CUST_PATH=BENCH_PATH+'tasks_cust/'"
   ]
  },
  {
   "cell_type": "markdown",
   "metadata": {},
   "source": [
    "### Download audio"
   ]
  },
  {
   "cell_type": "code",
   "execution_count": 3,
   "metadata": {},
   "outputs": [],
   "source": [
    "\"\"\"\n",
    "All our task recirdings are stored on a google storage bucket, using this method we will download these files\n",
    "It returns an object {\"abs_path\": \"/home/vv/dev/ai/benchmark/tasks/12654.wav\", \"success\": true}\n",
    "\"\"\"\n",
    "def downloadTaskAudio(taskId):\n",
    "    downloadResult = misc.download_file(misc.get_task_url(taskId), TASK_PATH)\n",
    "    return downloadResult"
   ]
  },
  {
   "cell_type": "markdown",
   "metadata": {},
   "source": [
    "### Remove agent channel"
   ]
  },
  {
   "cell_type": "code",
   "execution_count": 4,
   "metadata": {},
   "outputs": [],
   "source": [
    "\"\"\"\n",
    "Remove the agent  channel from the supplied dual channel audio and return the path of the customer's channel\n",
    "\"\"\"\n",
    "def removeAgentChannel(dualChannelAudioPath):\n",
    "    splits = misc.split_stereo(dualChannelAudioPath, CUST_PATH)\n",
    "    # assuming the right is customer which is _2.wav we keep that and delete the _1.wav\n",
    "    os.remove(splits[0])\n",
    "    return splits[1]"
   ]
  },
  {
   "cell_type": "markdown",
   "metadata": {},
   "source": [
    "### Perform VAD"
   ]
  },
  {
   "cell_type": "code",
   "execution_count": 5,
   "metadata": {},
   "outputs": [],
   "source": [
    "\"\"\"\n",
    "We perform VAD (Voice activity detection) on the audio and split it to many chunks here.\n",
    "The method then returns the path of these chunks as a list\n",
    "\"\"\"\n",
    "def performVAD(audioFilePath):\n",
    "    snippets = vad.perform_vad(audioFilePath, CHUNK_PATH, min_chunk_length=1, max_chunk_length=50)\n",
    "    print('For file: '+audioFilePath+', total chunks produced -->'+str(len(snippets)))\n",
    "    return snippets"
   ]
  },
  {
   "cell_type": "markdown",
   "metadata": {},
   "source": [
    "### Transcribe using DeepSpeech"
   ]
  },
  {
   "cell_type": "code",
   "execution_count": 6,
   "metadata": {},
   "outputs": [],
   "source": [
    "\"\"\"\n",
    "We use deepspeech's python API to perform transcription here\n",
    "\"\"\"\n",
    "\"\"\"\n",
    "We implement WER algorithm here\n",
    "\"\"\"\n",
    "def transcribe(audioFilePath):\n",
    "    transcript = deep_speech_api.main(True, audioFilePath)\n",
    "    return transcript"
   ]
  },
  {
   "cell_type": "markdown",
   "metadata": {},
   "source": [
    "### Compute WER"
   ]
  },
  {
   "cell_type": "code",
   "execution_count": 7,
   "metadata": {},
   "outputs": [],
   "source": [
    "\"\"\"\n",
    "We implement WER algorithm here\n",
    "\"\"\"\n",
    "def levenshtein(a,b):\n",
    "    \"Calculates the Levenshtein distance between a and b.\"\n",
    "    n, m = len(a), len(b)\n",
    "    if n > m:\n",
    "        # Make sure n <= m, to use O(min(n,m)) space\n",
    "        a,b = b,a\n",
    "        n,m = m,n\n",
    "        \n",
    "    current = range(n+1)\n",
    "    for i in range(1,m+1):\n",
    "        previous, current = current, [i]+[0]*n\n",
    "        for j in range(1,n+1):\n",
    "            add, delete = previous[j]+1, current[j-1]+1\n",
    "            change = previous[j-1]\n",
    "            if a[j-1] != b[i-1]:\n",
    "                change = change + 1\n",
    "            current[j] = min(add, delete, change)\n",
    "            \n",
    "    return current[n]\n",
    "def wer(realTranscription, deepspeechTranscription):\n",
    "    return levenshtein(realTranscription.lower(), deepspeechTranscription.lower()) "
   ]
  },
  {
   "cell_type": "code",
   "execution_count": 8,
   "metadata": {},
   "outputs": [],
   "source": [
    "def fetchTaskIds():\n",
    "    taskIds = []\n",
    "    sql = 'select * from task where \"owner\" = 198359;'\n",
    "    con = None\n",
    "    try:\n",
    "        con = psycopg2.connect(\"host='192.168.0.102' dbname='sales' user='postgres' password='root'\")\n",
    "        cur = con.cursor()\n",
    "        cur.execute(sql)\n",
    "        while True:\n",
    "            row = cur.fetchone()\n",
    "            if row == None:\n",
    "                break\n",
    "            taskIds.append(row[0])\n",
    "    except psycopg2.DatabaseError as e:\n",
    "        if con:\n",
    "            con.rollback()\n",
    "        print(e)\n",
    "        sys.exit(1)\n",
    "    finally:\n",
    "        if con:\n",
    "            con.close()\n",
    "    return taskIds"
   ]
  },
  {
   "cell_type": "code",
   "execution_count": 9,
   "metadata": {},
   "outputs": [],
   "source": [
    "\"\"\"\n",
    "In this method we will ubsample the audio at given path then replace it with the upsampled audio\n",
    "\"\"\"\n",
    "def upsampleAudio(audioPath, sr):\n",
    "    data, samplerate = sf.read(audioPath)\n",
    "    sf.write(audioPath, data, sr)\n",
    "    return audioPath"
   ]
  },
  {
   "cell_type": "code",
   "execution_count": 10,
   "metadata": {},
   "outputs": [],
   "source": [
    "def main():\n",
    "    misc.reset_folders([CHUNK_PATH, TASK_PATH, CUST_PATH])\n",
    "    con = None\n",
    "    try:\n",
    "        con = psycopg2.connect(\"host='192.168.0.102' dbname='sales' user='postgres' password='root'\")\n",
    "        cur = con.cursor()\n",
    "        sql = 'delete from benchmark_deepspeech'\n",
    "        cur.execute(sql)\n",
    "        con.commit()\n",
    "        print('Fetching tasks...')\n",
    "        taskIds = fetchTaskIds()\n",
    "        print('Fetched '+str(len(taskIds))+' tasks!')\n",
    "        for taskId in taskIds:\n",
    "            print('Started '+str(taskId))\n",
    "            try:\n",
    "                downloadResult = downloadTaskAudio(str(taskId))\n",
    "                if downloadResult[\"success\"]:\n",
    "                    customerPath = removeAgentChannel(downloadResult[\"abs_path\"])\n",
    "                    customerPath = upsampleAudio(customerPath, 16000)\n",
    "                    snippets = performVAD(customerPath)\n",
    "                    for snippet in snippets:\n",
    "                        text = transcribe(snippet.path)\n",
    "                        text = re.sub(\"'\",\"''\",text)\n",
    "                        url = 'http://192.168.0.100:5010/dschunks/'+re.sub(CHUNK_PATH,'',snippet.path)\n",
    "                        sql = \"INSERT INTO public.benchmark_deepspeech (created_at, updated_at, audio_url, \"\n",
    "                        sql += \"audio_path, is_verified, ds_transcription, real_transcription, cer, wer, task_id, from_time,\"\n",
    "                        sql += \" to_time) VALUES(now(), now(), '\"+url+\"', '\"+snippet.path+\"', false, '\"+text+\"', NULL, NULL, \"\n",
    "                        sql += \"NULL, \"+str(taskId)+\", \"+str(snippet.from_time)+\", \"+str(snippet.to_time)+\");\"\n",
    "                        print(sql)\n",
    "                        cur.execute(sql)\n",
    "                        con.commit()\n",
    "            except Exception as e:\n",
    "                print(e)\n",
    "            print('Finished '+str(taskId))\n",
    "            #break\n",
    "    except psycopg2.DatabaseError as e:\n",
    "        if con:\n",
    "            con.rollback()\n",
    "        print(e)\n",
    "        sys.exit(1)\n",
    "    finally:\n",
    "        if con:\n",
    "            con.close()"
   ]
  },
  {
   "cell_type": "markdown",
   "metadata": {},
   "source": [
    "create table\n",
    "\tpublic.benchmark_deepspeech (id serial primary key,\n",
    "\tcreated_at timestamp,\n",
    "\tupdated_at timestamp,\n",
    "\taudio_url varchar(255),\n",
    "\taudio_path varchar(255),\n",
    "\tis_verified boolean,\n",
    "\tds_transcription varchar(2000),\n",
    "\treal_transcription varchar(2000),\n",
    "\tcer float,\n",
    "\twer float,\n",
    "\ttask_id int4,\n",
    "\tfrom_time float,\n",
    "\tto_time float)"
   ]
  },
  {
   "cell_type": "code",
   "execution_count": 11,
   "metadata": {},
   "outputs": [
    {
     "name": "stdout",
     "output_type": "stream",
     "text": [
      "Deleting folder and its contents: /home/vv/dev/ai/benchmark/chunks/\n",
      "Deleting folder and its contents: /home/vv/dev/ai/benchmark/tasks/\n",
      "Deleting folder and its contents: /home/vv/dev/ai/benchmark/tasks_cust/\n",
      "Fetching tasks...\n",
      "Fetched 7463 tasks!\n",
      "Started 17872939\n",
      "Downloading file 17872939.wav ... to /home/vv/dev/ai/benchmark/tasks/\n",
      "Successfully downloaded 17872939.wav from url: https://storage.googleapis.com/istar-static/17872939.wav to folder: /home/vv/dev/ai/benchmark/tasks/\n",
      "must be str, not NoneType\n",
      "Finished 17872939\n",
      "Started 17872938\n",
      "Downloading file 17872938.wav ... to /home/vv/dev/ai/benchmark/tasks/\n",
      "Successfully downloaded 17872938.wav from url: https://storage.googleapis.com/istar-static/17872938.wav to folder: /home/vv/dev/ai/benchmark/tasks/\n",
      "must be str, not NoneType\n",
      "Finished 17872938\n",
      "Started 17872936\n",
      "Downloading file 17872936.wav ... to /home/vv/dev/ai/benchmark/tasks/\n",
      "Successfully downloaded 17872936.wav from url: https://storage.googleapis.com/istar-static/17872936.wav to folder: /home/vv/dev/ai/benchmark/tasks/\n",
      "must be str, not NoneType\n",
      "Finished 17872936\n",
      "Started 17872932\n",
      "Downloading file 17872932.wav ... to /home/vv/dev/ai/benchmark/tasks/\n",
      "Successfully downloaded 17872932.wav from url: https://storage.googleapis.com/istar-static/17872932.wav to folder: /home/vv/dev/ai/benchmark/tasks/\n",
      "must be str, not NoneType\n",
      "Finished 17872932\n",
      "Started 17872929\n",
      "Downloading file 17872929.wav ... to /home/vv/dev/ai/benchmark/tasks/\n",
      "Successfully downloaded 17872929.wav from url: https://storage.googleapis.com/istar-static/17872929.wav to folder: /home/vv/dev/ai/benchmark/tasks/\n",
      "must be str, not NoneType\n",
      "Finished 17872929\n",
      "Started 17874612\n",
      "Downloading file 17874612.wav ... to /home/vv/dev/ai/benchmark/tasks/\n",
      "Successfully downloaded 17874612.wav from url: https://storage.googleapis.com/istar-static/17874612.wav to folder: /home/vv/dev/ai/benchmark/tasks/\n",
      "must be str, not NoneType\n",
      "Finished 17874612\n",
      "Started 17872926\n",
      "Downloading file 17872926.wav ... to /home/vv/dev/ai/benchmark/tasks/\n",
      "Successfully downloaded 17872926.wav from url: https://storage.googleapis.com/istar-static/17872926.wav to folder: /home/vv/dev/ai/benchmark/tasks/\n",
      "must be str, not NoneType\n",
      "Finished 17872926\n",
      "Started 17872925\n",
      "Downloading file 17872925.wav ... to /home/vv/dev/ai/benchmark/tasks/\n",
      "Successfully downloaded 17872925.wav from url: https://storage.googleapis.com/istar-static/17872925.wav to folder: /home/vv/dev/ai/benchmark/tasks/\n",
      "must be str, not NoneType\n",
      "Finished 17872925\n",
      "Started 17873778\n",
      "Downloading file 17873778.wav ... to /home/vv/dev/ai/benchmark/tasks/\n",
      "Successfully downloaded 17873778.wav from url: https://storage.googleapis.com/istar-static/17873778.wav to folder: /home/vv/dev/ai/benchmark/tasks/\n",
      "must be str, not NoneType\n",
      "Finished 17873778\n",
      "Started 17872920\n",
      "Downloading file 17872920.wav ... to /home/vv/dev/ai/benchmark/tasks/\n",
      "Successfully downloaded 17872920.wav from url: https://storage.googleapis.com/istar-static/17872920.wav to folder: /home/vv/dev/ai/benchmark/tasks/\n",
      "must be str, not NoneType\n",
      "Finished 17872920\n",
      "Started 17873783\n",
      "Downloading file 17873783.wav ... to /home/vv/dev/ai/benchmark/tasks/\n",
      "Successfully downloaded 17873783.wav from url: https://storage.googleapis.com/istar-static/17873783.wav to folder: /home/vv/dev/ai/benchmark/tasks/\n",
      "must be str, not NoneType\n",
      "Finished 17873783\n",
      "Started 17872910\n",
      "Downloading file 17872910.wav ... to /home/vv/dev/ai/benchmark/tasks/\n",
      "Successfully downloaded 17872910.wav from url: https://storage.googleapis.com/istar-static/17872910.wav to folder: /home/vv/dev/ai/benchmark/tasks/\n",
      "must be str, not NoneType\n",
      "Finished 17872910\n",
      "Started 17873784\n",
      "Downloading file 17873784.wav ... to /home/vv/dev/ai/benchmark/tasks/\n",
      "Successfully downloaded 17873784.wav from url: https://storage.googleapis.com/istar-static/17873784.wav to folder: /home/vv/dev/ai/benchmark/tasks/\n",
      "must be str, not NoneType\n",
      "Finished 17873784\n",
      "Started 17874623\n",
      "Downloading file 17874623.wav ... to /home/vv/dev/ai/benchmark/tasks/\n",
      "Successfully downloaded 17874623.wav from url: https://storage.googleapis.com/istar-static/17874623.wav to folder: /home/vv/dev/ai/benchmark/tasks/\n",
      "must be str, not NoneType\n",
      "Finished 17874623\n",
      "Started 17874630\n",
      "Downloading file 17874630.wav ... to /home/vv/dev/ai/benchmark/tasks/\n",
      "Successfully downloaded 17874630.wav from url: https://storage.googleapis.com/istar-static/17874630.wav to folder: /home/vv/dev/ai/benchmark/tasks/\n",
      "must be str, not NoneType\n",
      "Finished 17874630\n",
      "Started 17873262\n",
      "Downloading file 17873262.wav ... to /home/vv/dev/ai/benchmark/tasks/\n",
      "Successfully downloaded 17873262.wav from url: https://storage.googleapis.com/istar-static/17873262.wav to folder: /home/vv/dev/ai/benchmark/tasks/\n",
      "must be str, not NoneType\n",
      "Finished 17873262\n",
      "Started 17872967\n",
      "Downloading file 17872967.wav ... to /home/vv/dev/ai/benchmark/tasks/\n",
      "Successfully downloaded 17872967.wav from url: https://storage.googleapis.com/istar-static/17872967.wav to folder: /home/vv/dev/ai/benchmark/tasks/\n",
      "must be str, not NoneType\n",
      "Finished 17872967\n",
      "Started 17873304\n",
      "Downloading file 17873304.wav ... to /home/vv/dev/ai/benchmark/tasks/\n",
      "Successfully downloaded 17873304.wav from url: https://storage.googleapis.com/istar-static/17873304.wav to folder: /home/vv/dev/ai/benchmark/tasks/\n",
      "must be str, not NoneType\n",
      "Finished 17873304\n",
      "Started 17873305\n",
      "Downloading file 17873305.wav ... to /home/vv/dev/ai/benchmark/tasks/\n",
      "Successfully downloaded 17873305.wav from url: https://storage.googleapis.com/istar-static/17873305.wav to folder: /home/vv/dev/ai/benchmark/tasks/\n",
      "must be str, not NoneType\n",
      "Finished 17873305\n",
      "Started 17874638\n",
      "Downloading file 17874638.wav ... to /home/vv/dev/ai/benchmark/tasks/\n",
      "Successfully downloaded 17874638.wav from url: https://storage.googleapis.com/istar-static/17874638.wav to folder: /home/vv/dev/ai/benchmark/tasks/\n",
      "must be str, not NoneType\n",
      "Finished 17874638\n",
      "Started 17873800\n",
      "Downloading file 17873800.wav ... to /home/vv/dev/ai/benchmark/tasks/\n",
      "Successfully downloaded 17873800.wav from url: https://storage.googleapis.com/istar-static/17873800.wav to folder: /home/vv/dev/ai/benchmark/tasks/\n",
      "must be str, not NoneType\n",
      "Finished 17873800\n",
      "Started 17874639\n",
      "Downloading file 17874639.wav ... to /home/vv/dev/ai/benchmark/tasks/\n",
      "Successfully downloaded 17874639.wav from url: https://storage.googleapis.com/istar-static/17874639.wav to folder: /home/vv/dev/ai/benchmark/tasks/\n",
      "must be str, not NoneType\n",
      "Finished 17874639\n",
      "Started 17873803\n",
      "Downloading file 17873803.wav ... to /home/vv/dev/ai/benchmark/tasks/\n",
      "Successfully downloaded 17873803.wav from url: https://storage.googleapis.com/istar-static/17873803.wav to folder: /home/vv/dev/ai/benchmark/tasks/\n",
      "must be str, not NoneType\n",
      "Finished 17873803\n",
      "Started 17874741\n",
      "Downloading file 17874741.wav ... to /home/vv/dev/ai/benchmark/tasks/\n",
      "Successfully downloaded 17874741.wav from url: https://storage.googleapis.com/istar-static/17874741.wav to folder: /home/vv/dev/ai/benchmark/tasks/\n",
      "must be str, not NoneType\n",
      "Finished 17874741\n",
      "Started 17873809\n",
      "Downloading file 17873809.wav ... to /home/vv/dev/ai/benchmark/tasks/\n",
      "Successfully downloaded 17873809.wav from url: https://storage.googleapis.com/istar-static/17873809.wav to folder: /home/vv/dev/ai/benchmark/tasks/\n",
      "must be str, not NoneType\n",
      "Finished 17873809\n",
      "Started 17873810\n",
      "Downloading file 17873810.wav ... to /home/vv/dev/ai/benchmark/tasks/\n",
      "Successfully downloaded 17873810.wav from url: https://storage.googleapis.com/istar-static/17873810.wav to folder: /home/vv/dev/ai/benchmark/tasks/\n",
      "must be str, not NoneType\n",
      "Finished 17873810\n",
      "Started 17874650\n",
      "Downloading file 17874650.wav ... to /home/vv/dev/ai/benchmark/tasks/\n",
      "Successfully downloaded 17874650.wav from url: https://storage.googleapis.com/istar-static/17874650.wav to folder: /home/vv/dev/ai/benchmark/tasks/\n",
      "must be str, not NoneType\n",
      "Finished 17874650\n",
      "Started 17874667\n",
      "Downloading file 17874667.wav ... to /home/vv/dev/ai/benchmark/tasks/\n",
      "Successfully downloaded 17874667.wav from url: https://storage.googleapis.com/istar-static/17874667.wav to folder: /home/vv/dev/ai/benchmark/tasks/\n",
      "must be str, not NoneType\n",
      "Finished 17874667\n",
      "Started 17873818\n",
      "Downloading file 17873818.wav ... to /home/vv/dev/ai/benchmark/tasks/\n",
      "Successfully downloaded 17873818.wav from url: https://storage.googleapis.com/istar-static/17873818.wav to folder: /home/vv/dev/ai/benchmark/tasks/\n",
      "must be str, not NoneType\n",
      "Finished 17873818\n",
      "Started 17874663\n",
      "Downloading file 17874663.wav ... to /home/vv/dev/ai/benchmark/tasks/\n"
     ]
    },
    {
     "name": "stdout",
     "output_type": "stream",
     "text": [
      " while downloading https://storage.googleapis.com/istar-static/17874663.wav, Connection refused by the server.. gonna sleep for 5 seconds and then retry ZZzzzz...\n"
     ]
    },
    {
     "ename": "KeyboardInterrupt",
     "evalue": "",
     "output_type": "error",
     "traceback": [
      "\u001b[0;31m---------------------------------------------------------------------------\u001b[0m",
      "\u001b[0;31mTypeError\u001b[0m                                 Traceback (most recent call last)",
      "\u001b[0;32m~/dev/ai/venv/lib/python3.6/site-packages/urllib3/connectionpool.py\u001b[0m in \u001b[0;36m_make_request\u001b[0;34m(self, conn, method, url, timeout, chunked, **httplib_request_kw)\u001b[0m\n\u001b[1;32m    378\u001b[0m                 \u001b[0;31m# Python 2.7, use buffering of HTTP responses\u001b[0m\u001b[0;34m\u001b[0m\u001b[0;34m\u001b[0m\u001b[0;34m\u001b[0m\u001b[0m\n\u001b[0;32m--> 379\u001b[0;31m                 \u001b[0mhttplib_response\u001b[0m \u001b[0;34m=\u001b[0m \u001b[0mconn\u001b[0m\u001b[0;34m.\u001b[0m\u001b[0mgetresponse\u001b[0m\u001b[0;34m(\u001b[0m\u001b[0mbuffering\u001b[0m\u001b[0;34m=\u001b[0m\u001b[0;32mTrue\u001b[0m\u001b[0;34m)\u001b[0m\u001b[0;34m\u001b[0m\u001b[0;34m\u001b[0m\u001b[0m\n\u001b[0m\u001b[1;32m    380\u001b[0m             \u001b[0;32mexcept\u001b[0m \u001b[0mTypeError\u001b[0m\u001b[0;34m:\u001b[0m\u001b[0;34m\u001b[0m\u001b[0;34m\u001b[0m\u001b[0m\n",
      "\u001b[0;31mTypeError\u001b[0m: getresponse() got an unexpected keyword argument 'buffering'",
      "\nDuring handling of the above exception, another exception occurred:\n",
      "\u001b[0;31mKeyboardInterrupt\u001b[0m                         Traceback (most recent call last)",
      "\u001b[0;32m~/dev/ai/speech/utils/misc.py\u001b[0m in \u001b[0;36mdownload_file\u001b[0;34m(url, folder)\u001b[0m\n\u001b[1;32m     36\u001b[0m         \u001b[0;32mtry\u001b[0m\u001b[0;34m:\u001b[0m\u001b[0;34m\u001b[0m\u001b[0;34m\u001b[0m\u001b[0m\n\u001b[0;32m---> 37\u001b[0;31m             \u001b[0;32mwith\u001b[0m \u001b[0mrequests\u001b[0m\u001b[0;34m.\u001b[0m\u001b[0mget\u001b[0m\u001b[0;34m(\u001b[0m\u001b[0murl\u001b[0m\u001b[0;34m,\u001b[0m \u001b[0mstream\u001b[0m\u001b[0;34m=\u001b[0m\u001b[0;32mTrue\u001b[0m\u001b[0;34m)\u001b[0m \u001b[0;32mas\u001b[0m \u001b[0mr\u001b[0m\u001b[0;34m:\u001b[0m\u001b[0;34m\u001b[0m\u001b[0;34m\u001b[0m\u001b[0m\n\u001b[0m\u001b[1;32m     38\u001b[0m                 \u001b[0mpage\u001b[0m \u001b[0;34m=\u001b[0m \u001b[0mr\u001b[0m\u001b[0;34m\u001b[0m\u001b[0;34m\u001b[0m\u001b[0m\n",
      "\u001b[0;32m~/dev/ai/venv/lib/python3.6/site-packages/requests/api.py\u001b[0m in \u001b[0;36mget\u001b[0;34m(url, params, **kwargs)\u001b[0m\n\u001b[1;32m     74\u001b[0m     \u001b[0mkwargs\u001b[0m\u001b[0;34m.\u001b[0m\u001b[0msetdefault\u001b[0m\u001b[0;34m(\u001b[0m\u001b[0;34m'allow_redirects'\u001b[0m\u001b[0;34m,\u001b[0m \u001b[0;32mTrue\u001b[0m\u001b[0;34m)\u001b[0m\u001b[0;34m\u001b[0m\u001b[0;34m\u001b[0m\u001b[0m\n\u001b[0;32m---> 75\u001b[0;31m     \u001b[0;32mreturn\u001b[0m \u001b[0mrequest\u001b[0m\u001b[0;34m(\u001b[0m\u001b[0;34m'get'\u001b[0m\u001b[0;34m,\u001b[0m \u001b[0murl\u001b[0m\u001b[0;34m,\u001b[0m \u001b[0mparams\u001b[0m\u001b[0;34m=\u001b[0m\u001b[0mparams\u001b[0m\u001b[0;34m,\u001b[0m \u001b[0;34m**\u001b[0m\u001b[0mkwargs\u001b[0m\u001b[0;34m)\u001b[0m\u001b[0;34m\u001b[0m\u001b[0;34m\u001b[0m\u001b[0m\n\u001b[0m\u001b[1;32m     76\u001b[0m \u001b[0;34m\u001b[0m\u001b[0m\n",
      "\u001b[0;32m~/dev/ai/venv/lib/python3.6/site-packages/requests/api.py\u001b[0m in \u001b[0;36mrequest\u001b[0;34m(method, url, **kwargs)\u001b[0m\n\u001b[1;32m     59\u001b[0m     \u001b[0;32mwith\u001b[0m \u001b[0msessions\u001b[0m\u001b[0;34m.\u001b[0m\u001b[0mSession\u001b[0m\u001b[0;34m(\u001b[0m\u001b[0;34m)\u001b[0m \u001b[0;32mas\u001b[0m \u001b[0msession\u001b[0m\u001b[0;34m:\u001b[0m\u001b[0;34m\u001b[0m\u001b[0;34m\u001b[0m\u001b[0m\n\u001b[0;32m---> 60\u001b[0;31m         \u001b[0;32mreturn\u001b[0m \u001b[0msession\u001b[0m\u001b[0;34m.\u001b[0m\u001b[0mrequest\u001b[0m\u001b[0;34m(\u001b[0m\u001b[0mmethod\u001b[0m\u001b[0;34m=\u001b[0m\u001b[0mmethod\u001b[0m\u001b[0;34m,\u001b[0m \u001b[0murl\u001b[0m\u001b[0;34m=\u001b[0m\u001b[0murl\u001b[0m\u001b[0;34m,\u001b[0m \u001b[0;34m**\u001b[0m\u001b[0mkwargs\u001b[0m\u001b[0;34m)\u001b[0m\u001b[0;34m\u001b[0m\u001b[0;34m\u001b[0m\u001b[0m\n\u001b[0m\u001b[1;32m     61\u001b[0m \u001b[0;34m\u001b[0m\u001b[0m\n",
      "\u001b[0;32m~/dev/ai/venv/lib/python3.6/site-packages/requests/sessions.py\u001b[0m in \u001b[0;36mrequest\u001b[0;34m(self, method, url, params, data, headers, cookies, files, auth, timeout, allow_redirects, proxies, hooks, stream, verify, cert, json)\u001b[0m\n\u001b[1;32m    532\u001b[0m         \u001b[0msend_kwargs\u001b[0m\u001b[0;34m.\u001b[0m\u001b[0mupdate\u001b[0m\u001b[0;34m(\u001b[0m\u001b[0msettings\u001b[0m\u001b[0;34m)\u001b[0m\u001b[0;34m\u001b[0m\u001b[0;34m\u001b[0m\u001b[0m\n\u001b[0;32m--> 533\u001b[0;31m         \u001b[0mresp\u001b[0m \u001b[0;34m=\u001b[0m \u001b[0mself\u001b[0m\u001b[0;34m.\u001b[0m\u001b[0msend\u001b[0m\u001b[0;34m(\u001b[0m\u001b[0mprep\u001b[0m\u001b[0;34m,\u001b[0m \u001b[0;34m**\u001b[0m\u001b[0msend_kwargs\u001b[0m\u001b[0;34m)\u001b[0m\u001b[0;34m\u001b[0m\u001b[0;34m\u001b[0m\u001b[0m\n\u001b[0m\u001b[1;32m    534\u001b[0m \u001b[0;34m\u001b[0m\u001b[0m\n",
      "\u001b[0;32m~/dev/ai/venv/lib/python3.6/site-packages/requests/sessions.py\u001b[0m in \u001b[0;36msend\u001b[0;34m(self, request, **kwargs)\u001b[0m\n\u001b[1;32m    645\u001b[0m         \u001b[0;31m# Send the request\u001b[0m\u001b[0;34m\u001b[0m\u001b[0;34m\u001b[0m\u001b[0;34m\u001b[0m\u001b[0m\n\u001b[0;32m--> 646\u001b[0;31m         \u001b[0mr\u001b[0m \u001b[0;34m=\u001b[0m \u001b[0madapter\u001b[0m\u001b[0;34m.\u001b[0m\u001b[0msend\u001b[0m\u001b[0;34m(\u001b[0m\u001b[0mrequest\u001b[0m\u001b[0;34m,\u001b[0m \u001b[0;34m**\u001b[0m\u001b[0mkwargs\u001b[0m\u001b[0;34m)\u001b[0m\u001b[0;34m\u001b[0m\u001b[0;34m\u001b[0m\u001b[0m\n\u001b[0m\u001b[1;32m    647\u001b[0m \u001b[0;34m\u001b[0m\u001b[0m\n",
      "\u001b[0;32m~/dev/ai/venv/lib/python3.6/site-packages/requests/adapters.py\u001b[0m in \u001b[0;36msend\u001b[0;34m(self, request, stream, timeout, verify, cert, proxies)\u001b[0m\n\u001b[1;32m    448\u001b[0m                     \u001b[0mretries\u001b[0m\u001b[0;34m=\u001b[0m\u001b[0mself\u001b[0m\u001b[0;34m.\u001b[0m\u001b[0mmax_retries\u001b[0m\u001b[0;34m,\u001b[0m\u001b[0;34m\u001b[0m\u001b[0;34m\u001b[0m\u001b[0m\n\u001b[0;32m--> 449\u001b[0;31m                     \u001b[0mtimeout\u001b[0m\u001b[0;34m=\u001b[0m\u001b[0mtimeout\u001b[0m\u001b[0;34m\u001b[0m\u001b[0;34m\u001b[0m\u001b[0m\n\u001b[0m\u001b[1;32m    450\u001b[0m                 )\n",
      "\u001b[0;32m~/dev/ai/venv/lib/python3.6/site-packages/urllib3/connectionpool.py\u001b[0m in \u001b[0;36murlopen\u001b[0;34m(self, method, url, body, headers, retries, redirect, assert_same_host, timeout, pool_timeout, release_conn, chunked, body_pos, **response_kw)\u001b[0m\n\u001b[1;32m    602\u001b[0m                                                   \u001b[0mbody\u001b[0m\u001b[0;34m=\u001b[0m\u001b[0mbody\u001b[0m\u001b[0;34m,\u001b[0m \u001b[0mheaders\u001b[0m\u001b[0;34m=\u001b[0m\u001b[0mheaders\u001b[0m\u001b[0;34m,\u001b[0m\u001b[0;34m\u001b[0m\u001b[0;34m\u001b[0m\u001b[0m\n\u001b[0;32m--> 603\u001b[0;31m                                                   chunked=chunked)\n\u001b[0m\u001b[1;32m    604\u001b[0m \u001b[0;34m\u001b[0m\u001b[0m\n",
      "\u001b[0;32m~/dev/ai/venv/lib/python3.6/site-packages/urllib3/connectionpool.py\u001b[0m in \u001b[0;36m_make_request\u001b[0;34m(self, conn, method, url, timeout, chunked, **httplib_request_kw)\u001b[0m\n\u001b[1;32m    382\u001b[0m                 \u001b[0;32mtry\u001b[0m\u001b[0;34m:\u001b[0m\u001b[0;34m\u001b[0m\u001b[0;34m\u001b[0m\u001b[0m\n\u001b[0;32m--> 383\u001b[0;31m                     \u001b[0mhttplib_response\u001b[0m \u001b[0;34m=\u001b[0m \u001b[0mconn\u001b[0m\u001b[0;34m.\u001b[0m\u001b[0mgetresponse\u001b[0m\u001b[0;34m(\u001b[0m\u001b[0;34m)\u001b[0m\u001b[0;34m\u001b[0m\u001b[0;34m\u001b[0m\u001b[0m\n\u001b[0m\u001b[1;32m    384\u001b[0m                 \u001b[0;32mexcept\u001b[0m \u001b[0mException\u001b[0m \u001b[0;32mas\u001b[0m \u001b[0me\u001b[0m\u001b[0;34m:\u001b[0m\u001b[0;34m\u001b[0m\u001b[0;34m\u001b[0m\u001b[0m\n",
      "\u001b[0;32m/usr/lib/python3.6/http/client.py\u001b[0m in \u001b[0;36mgetresponse\u001b[0;34m(self)\u001b[0m\n\u001b[1;32m   1330\u001b[0m             \u001b[0;32mtry\u001b[0m\u001b[0;34m:\u001b[0m\u001b[0;34m\u001b[0m\u001b[0;34m\u001b[0m\u001b[0m\n\u001b[0;32m-> 1331\u001b[0;31m                 \u001b[0mresponse\u001b[0m\u001b[0;34m.\u001b[0m\u001b[0mbegin\u001b[0m\u001b[0;34m(\u001b[0m\u001b[0;34m)\u001b[0m\u001b[0;34m\u001b[0m\u001b[0;34m\u001b[0m\u001b[0m\n\u001b[0m\u001b[1;32m   1332\u001b[0m             \u001b[0;32mexcept\u001b[0m \u001b[0mConnectionError\u001b[0m\u001b[0;34m:\u001b[0m\u001b[0;34m\u001b[0m\u001b[0;34m\u001b[0m\u001b[0m\n",
      "\u001b[0;32m/usr/lib/python3.6/http/client.py\u001b[0m in \u001b[0;36mbegin\u001b[0;34m(self)\u001b[0m\n\u001b[1;32m    296\u001b[0m         \u001b[0;32mwhile\u001b[0m \u001b[0;32mTrue\u001b[0m\u001b[0;34m:\u001b[0m\u001b[0;34m\u001b[0m\u001b[0;34m\u001b[0m\u001b[0m\n\u001b[0;32m--> 297\u001b[0;31m             \u001b[0mversion\u001b[0m\u001b[0;34m,\u001b[0m \u001b[0mstatus\u001b[0m\u001b[0;34m,\u001b[0m \u001b[0mreason\u001b[0m \u001b[0;34m=\u001b[0m \u001b[0mself\u001b[0m\u001b[0;34m.\u001b[0m\u001b[0m_read_status\u001b[0m\u001b[0;34m(\u001b[0m\u001b[0;34m)\u001b[0m\u001b[0;34m\u001b[0m\u001b[0;34m\u001b[0m\u001b[0m\n\u001b[0m\u001b[1;32m    298\u001b[0m             \u001b[0;32mif\u001b[0m \u001b[0mstatus\u001b[0m \u001b[0;34m!=\u001b[0m \u001b[0mCONTINUE\u001b[0m\u001b[0;34m:\u001b[0m\u001b[0;34m\u001b[0m\u001b[0;34m\u001b[0m\u001b[0m\n",
      "\u001b[0;32m/usr/lib/python3.6/http/client.py\u001b[0m in \u001b[0;36m_read_status\u001b[0;34m(self)\u001b[0m\n\u001b[1;32m    257\u001b[0m     \u001b[0;32mdef\u001b[0m \u001b[0m_read_status\u001b[0m\u001b[0;34m(\u001b[0m\u001b[0mself\u001b[0m\u001b[0;34m)\u001b[0m\u001b[0;34m:\u001b[0m\u001b[0;34m\u001b[0m\u001b[0;34m\u001b[0m\u001b[0m\n\u001b[0;32m--> 258\u001b[0;31m         \u001b[0mline\u001b[0m \u001b[0;34m=\u001b[0m \u001b[0mstr\u001b[0m\u001b[0;34m(\u001b[0m\u001b[0mself\u001b[0m\u001b[0;34m.\u001b[0m\u001b[0mfp\u001b[0m\u001b[0;34m.\u001b[0m\u001b[0mreadline\u001b[0m\u001b[0;34m(\u001b[0m\u001b[0m_MAXLINE\u001b[0m \u001b[0;34m+\u001b[0m \u001b[0;36m1\u001b[0m\u001b[0;34m)\u001b[0m\u001b[0;34m,\u001b[0m \u001b[0;34m\"iso-8859-1\"\u001b[0m\u001b[0;34m)\u001b[0m\u001b[0;34m\u001b[0m\u001b[0;34m\u001b[0m\u001b[0m\n\u001b[0m\u001b[1;32m    259\u001b[0m         \u001b[0;32mif\u001b[0m \u001b[0mlen\u001b[0m\u001b[0;34m(\u001b[0m\u001b[0mline\u001b[0m\u001b[0;34m)\u001b[0m \u001b[0;34m>\u001b[0m \u001b[0m_MAXLINE\u001b[0m\u001b[0;34m:\u001b[0m\u001b[0;34m\u001b[0m\u001b[0;34m\u001b[0m\u001b[0m\n",
      "\u001b[0;32m/usr/lib/python3.6/socket.py\u001b[0m in \u001b[0;36mreadinto\u001b[0;34m(self, b)\u001b[0m\n\u001b[1;32m    585\u001b[0m             \u001b[0;32mtry\u001b[0m\u001b[0;34m:\u001b[0m\u001b[0;34m\u001b[0m\u001b[0;34m\u001b[0m\u001b[0m\n\u001b[0;32m--> 586\u001b[0;31m                 \u001b[0;32mreturn\u001b[0m \u001b[0mself\u001b[0m\u001b[0;34m.\u001b[0m\u001b[0m_sock\u001b[0m\u001b[0;34m.\u001b[0m\u001b[0mrecv_into\u001b[0m\u001b[0;34m(\u001b[0m\u001b[0mb\u001b[0m\u001b[0;34m)\u001b[0m\u001b[0;34m\u001b[0m\u001b[0;34m\u001b[0m\u001b[0m\n\u001b[0m\u001b[1;32m    587\u001b[0m             \u001b[0;32mexcept\u001b[0m \u001b[0mtimeout\u001b[0m\u001b[0;34m:\u001b[0m\u001b[0;34m\u001b[0m\u001b[0;34m\u001b[0m\u001b[0m\n",
      "\u001b[0;32m/usr/lib/python3.6/ssl.py\u001b[0m in \u001b[0;36mrecv_into\u001b[0;34m(self, buffer, nbytes, flags)\u001b[0m\n\u001b[1;32m   1011\u001b[0m                   self.__class__)\n\u001b[0;32m-> 1012\u001b[0;31m             \u001b[0;32mreturn\u001b[0m \u001b[0mself\u001b[0m\u001b[0;34m.\u001b[0m\u001b[0mread\u001b[0m\u001b[0;34m(\u001b[0m\u001b[0mnbytes\u001b[0m\u001b[0;34m,\u001b[0m \u001b[0mbuffer\u001b[0m\u001b[0;34m)\u001b[0m\u001b[0;34m\u001b[0m\u001b[0;34m\u001b[0m\u001b[0m\n\u001b[0m\u001b[1;32m   1013\u001b[0m         \u001b[0;32melse\u001b[0m\u001b[0;34m:\u001b[0m\u001b[0;34m\u001b[0m\u001b[0;34m\u001b[0m\u001b[0m\n",
      "\u001b[0;32m/usr/lib/python3.6/ssl.py\u001b[0m in \u001b[0;36mread\u001b[0;34m(self, len, buffer)\u001b[0m\n\u001b[1;32m    873\u001b[0m         \u001b[0;32mtry\u001b[0m\u001b[0;34m:\u001b[0m\u001b[0;34m\u001b[0m\u001b[0;34m\u001b[0m\u001b[0m\n\u001b[0;32m--> 874\u001b[0;31m             \u001b[0;32mreturn\u001b[0m \u001b[0mself\u001b[0m\u001b[0;34m.\u001b[0m\u001b[0m_sslobj\u001b[0m\u001b[0;34m.\u001b[0m\u001b[0mread\u001b[0m\u001b[0;34m(\u001b[0m\u001b[0mlen\u001b[0m\u001b[0;34m,\u001b[0m \u001b[0mbuffer\u001b[0m\u001b[0;34m)\u001b[0m\u001b[0;34m\u001b[0m\u001b[0;34m\u001b[0m\u001b[0m\n\u001b[0m\u001b[1;32m    875\u001b[0m         \u001b[0;32mexcept\u001b[0m \u001b[0mSSLError\u001b[0m \u001b[0;32mas\u001b[0m \u001b[0mx\u001b[0m\u001b[0;34m:\u001b[0m\u001b[0;34m\u001b[0m\u001b[0;34m\u001b[0m\u001b[0m\n",
      "\u001b[0;32m/usr/lib/python3.6/ssl.py\u001b[0m in \u001b[0;36mread\u001b[0;34m(self, len, buffer)\u001b[0m\n\u001b[1;32m    630\u001b[0m         \u001b[0;32mif\u001b[0m \u001b[0mbuffer\u001b[0m \u001b[0;32mis\u001b[0m \u001b[0;32mnot\u001b[0m \u001b[0;32mNone\u001b[0m\u001b[0;34m:\u001b[0m\u001b[0;34m\u001b[0m\u001b[0;34m\u001b[0m\u001b[0m\n\u001b[0;32m--> 631\u001b[0;31m             \u001b[0mv\u001b[0m \u001b[0;34m=\u001b[0m \u001b[0mself\u001b[0m\u001b[0;34m.\u001b[0m\u001b[0m_sslobj\u001b[0m\u001b[0;34m.\u001b[0m\u001b[0mread\u001b[0m\u001b[0;34m(\u001b[0m\u001b[0mlen\u001b[0m\u001b[0;34m,\u001b[0m \u001b[0mbuffer\u001b[0m\u001b[0;34m)\u001b[0m\u001b[0;34m\u001b[0m\u001b[0;34m\u001b[0m\u001b[0m\n\u001b[0m\u001b[1;32m    632\u001b[0m         \u001b[0;32melse\u001b[0m\u001b[0;34m:\u001b[0m\u001b[0;34m\u001b[0m\u001b[0;34m\u001b[0m\u001b[0m\n",
      "\u001b[0;31mKeyboardInterrupt\u001b[0m: ",
      "\nDuring handling of the above exception, another exception occurred:\n",
      "\u001b[0;31mKeyboardInterrupt\u001b[0m                         Traceback (most recent call last)",
      "\u001b[0;32m<ipython-input-11-263240bbee7e>\u001b[0m in \u001b[0;36m<module>\u001b[0;34m\u001b[0m\n\u001b[0;32m----> 1\u001b[0;31m \u001b[0mmain\u001b[0m\u001b[0;34m(\u001b[0m\u001b[0;34m)\u001b[0m\u001b[0;34m\u001b[0m\u001b[0;34m\u001b[0m\u001b[0m\n\u001b[0m",
      "\u001b[0;32m<ipython-input-10-48285533614e>\u001b[0m in \u001b[0;36mmain\u001b[0;34m()\u001b[0m\n\u001b[1;32m     14\u001b[0m             \u001b[0mprint\u001b[0m\u001b[0;34m(\u001b[0m\u001b[0;34m'Started '\u001b[0m\u001b[0;34m+\u001b[0m\u001b[0mstr\u001b[0m\u001b[0;34m(\u001b[0m\u001b[0mtaskId\u001b[0m\u001b[0;34m)\u001b[0m\u001b[0;34m)\u001b[0m\u001b[0;34m\u001b[0m\u001b[0;34m\u001b[0m\u001b[0m\n\u001b[1;32m     15\u001b[0m             \u001b[0;32mtry\u001b[0m\u001b[0;34m:\u001b[0m\u001b[0;34m\u001b[0m\u001b[0;34m\u001b[0m\u001b[0m\n\u001b[0;32m---> 16\u001b[0;31m                 \u001b[0mdownloadResult\u001b[0m \u001b[0;34m=\u001b[0m \u001b[0mdownloadTaskAudio\u001b[0m\u001b[0;34m(\u001b[0m\u001b[0mstr\u001b[0m\u001b[0;34m(\u001b[0m\u001b[0mtaskId\u001b[0m\u001b[0;34m)\u001b[0m\u001b[0;34m)\u001b[0m\u001b[0;34m\u001b[0m\u001b[0;34m\u001b[0m\u001b[0m\n\u001b[0m\u001b[1;32m     17\u001b[0m                 \u001b[0;32mif\u001b[0m \u001b[0mdownloadResult\u001b[0m\u001b[0;34m[\u001b[0m\u001b[0;34m\"success\"\u001b[0m\u001b[0;34m]\u001b[0m\u001b[0;34m:\u001b[0m\u001b[0;34m\u001b[0m\u001b[0;34m\u001b[0m\u001b[0m\n\u001b[1;32m     18\u001b[0m                     \u001b[0mcustomerPath\u001b[0m \u001b[0;34m=\u001b[0m \u001b[0mremoveAgentChannel\u001b[0m\u001b[0;34m(\u001b[0m\u001b[0mdownloadResult\u001b[0m\u001b[0;34m[\u001b[0m\u001b[0;34m\"abs_path\"\u001b[0m\u001b[0;34m]\u001b[0m\u001b[0;34m)\u001b[0m\u001b[0;34m\u001b[0m\u001b[0;34m\u001b[0m\u001b[0m\n",
      "\u001b[0;32m<ipython-input-3-9c86b5efaadb>\u001b[0m in \u001b[0;36mdownloadTaskAudio\u001b[0;34m(taskId)\u001b[0m\n\u001b[1;32m      4\u001b[0m \"\"\"\n\u001b[1;32m      5\u001b[0m \u001b[0;32mdef\u001b[0m \u001b[0mdownloadTaskAudio\u001b[0m\u001b[0;34m(\u001b[0m\u001b[0mtaskId\u001b[0m\u001b[0;34m)\u001b[0m\u001b[0;34m:\u001b[0m\u001b[0;34m\u001b[0m\u001b[0;34m\u001b[0m\u001b[0m\n\u001b[0;32m----> 6\u001b[0;31m     \u001b[0mdownloadResult\u001b[0m \u001b[0;34m=\u001b[0m \u001b[0mmisc\u001b[0m\u001b[0;34m.\u001b[0m\u001b[0mdownload_file\u001b[0m\u001b[0;34m(\u001b[0m\u001b[0mmisc\u001b[0m\u001b[0;34m.\u001b[0m\u001b[0mget_task_url\u001b[0m\u001b[0;34m(\u001b[0m\u001b[0mtaskId\u001b[0m\u001b[0;34m)\u001b[0m\u001b[0;34m,\u001b[0m \u001b[0mTASK_PATH\u001b[0m\u001b[0;34m)\u001b[0m\u001b[0;34m\u001b[0m\u001b[0;34m\u001b[0m\u001b[0m\n\u001b[0m\u001b[1;32m      7\u001b[0m     \u001b[0;32mreturn\u001b[0m \u001b[0mdownloadResult\u001b[0m\u001b[0;34m\u001b[0m\u001b[0;34m\u001b[0m\u001b[0m\n",
      "\u001b[0;32m~/dev/ai/speech/utils/misc.py\u001b[0m in \u001b[0;36mdownload_file\u001b[0;34m(url, folder)\u001b[0m\n\u001b[1;32m     47\u001b[0m         \u001b[0;32mexcept\u001b[0m\u001b[0;34m:\u001b[0m\u001b[0;34m\u001b[0m\u001b[0;34m\u001b[0m\u001b[0m\n\u001b[1;32m     48\u001b[0m             \u001b[0mprint\u001b[0m\u001b[0;34m(\u001b[0m\u001b[0;34m\" while downloading \"\u001b[0m\u001b[0;34m+\u001b[0m\u001b[0murl\u001b[0m\u001b[0;34m+\u001b[0m\u001b[0;34m\", Connection refused by the server.. gonna sleep for 5 seconds and then retry ZZzzzz...\"\u001b[0m\u001b[0;34m)\u001b[0m\u001b[0;34m\u001b[0m\u001b[0;34m\u001b[0m\u001b[0m\n\u001b[0;32m---> 49\u001b[0;31m             \u001b[0mtime\u001b[0m\u001b[0;34m.\u001b[0m\u001b[0msleep\u001b[0m\u001b[0;34m(\u001b[0m\u001b[0;36m5\u001b[0m\u001b[0;34m)\u001b[0m\u001b[0;34m\u001b[0m\u001b[0;34m\u001b[0m\u001b[0m\n\u001b[0m\u001b[1;32m     50\u001b[0m             \u001b[0;32mcontinue\u001b[0m\u001b[0;34m\u001b[0m\u001b[0;34m\u001b[0m\u001b[0m\n\u001b[1;32m     51\u001b[0m     \u001b[0;32mif\u001b[0m \u001b[0mos\u001b[0m\u001b[0;34m.\u001b[0m\u001b[0mpath\u001b[0m\u001b[0;34m.\u001b[0m\u001b[0mexists\u001b[0m\u001b[0;34m(\u001b[0m\u001b[0mfolder\u001b[0m \u001b[0;34m+\u001b[0m \u001b[0mlocal_filename\u001b[0m\u001b[0;34m)\u001b[0m\u001b[0;34m:\u001b[0m\u001b[0;34m\u001b[0m\u001b[0;34m\u001b[0m\u001b[0m\n",
      "\u001b[0;31mKeyboardInterrupt\u001b[0m: "
     ]
    }
   ],
   "source": [
    "main()"
   ]
  },
  {
   "cell_type": "code",
   "execution_count": 75,
   "metadata": {},
   "outputs": [
    {
     "data": {
      "text/plain": [
       "'/home/vv/dev/ai/benchmark/chunks/'"
      ]
     },
     "execution_count": 75,
     "metadata": {},
     "output_type": "execute_result"
    }
   ],
   "source": [
    "CHUNK_PATH"
   ]
  },
  {
   "cell_type": "code",
   "execution_count": null,
   "metadata": {},
   "outputs": [],
   "source": []
  }
 ],
 "metadata": {
  "kernelspec": {
   "display_name": "venv",
   "language": "python",
   "name": "venv"
  },
  "language_info": {
   "codemirror_mode": {
    "name": "ipython",
    "version": 3
   },
   "file_extension": ".py",
   "mimetype": "text/x-python",
   "name": "python",
   "nbconvert_exporter": "python",
   "pygments_lexer": "ipython3",
   "version": "3.6.8"
  }
 },
 "nbformat": 4,
 "nbformat_minor": 2
}
