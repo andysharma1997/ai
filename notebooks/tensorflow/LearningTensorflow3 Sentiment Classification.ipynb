{
 "cells": [
  {
   "cell_type": "code",
   "execution_count": 1,
   "metadata": {},
   "outputs": [
    {
     "name": "stdout",
     "output_type": "stream",
     "text": [
      "1.13.1\n"
     ]
    }
   ],
   "source": [
    "from __future__ import absolute_import, division, print_function\n",
    "import tensorflow as tf\n",
    "from tensorflow import keras\n",
    "import numpy as np \n",
    "print(tf.__version__)"
   ]
  },
  {
   "cell_type": "code",
   "execution_count": 2,
   "metadata": {},
   "outputs": [],
   "source": [
    "imdb = keras.datasets.imdb\n",
    "(train_data, train_labels), (test_data, test_labels) = imdb.load_data(num_words = 10000)"
   ]
  },
  {
   "cell_type": "code",
   "execution_count": 3,
   "metadata": {},
   "outputs": [
    {
     "name": "stdout",
     "output_type": "stream",
     "text": [
      "Training data: 25000, labels: 25000\n"
     ]
    }
   ],
   "source": [
    "print('Training data: {}, labels: {}'.format(len(train_data), len(train_labels)))\n",
    "# The size of the training dataset"
   ]
  },
  {
   "cell_type": "code",
   "execution_count": 4,
   "metadata": {},
   "outputs": [
    {
     "name": "stdout",
     "output_type": "stream",
     "text": [
      "[1, 14, 22, 16, 43, 530, 973, 1622, 1385, 65, 458, 4468, 66, 3941, 4, 173, 36, 256, 5, 25, 100, 43, 838, 112, 50, 670, 2, 9, 35, 480, 284, 5, 150, 4, 172, 112, 167, 2, 336, 385, 39, 4, 172, 4536, 1111, 17, 546, 38, 13, 447, 4, 192, 50, 16, 6, 147, 2025, 19, 14, 22, 4, 1920, 4613, 469, 4, 22, 71, 87, 12, 16, 43, 530, 38, 76, 15, 13, 1247, 4, 22, 17, 515, 17, 12, 16, 626, 18, 2, 5, 62, 386, 12, 8, 316, 8, 106, 5, 4, 2223, 5244, 16, 480, 66, 3785, 33, 4, 130, 12, 16, 38, 619, 5, 25, 124, 51, 36, 135, 48, 25, 1415, 33, 6, 22, 12, 215, 28, 77, 52, 5, 14, 407, 16, 82, 2, 8, 4, 107, 117, 5952, 15, 256, 4, 2, 7, 3766, 5, 723, 36, 71, 43, 530, 476, 26, 400, 317, 46, 7, 4, 2, 1029, 13, 104, 88, 4, 381, 15, 297, 98, 32, 2071, 56, 26, 141, 6, 194, 7486, 18, 4, 226, 22, 21, 134, 476, 26, 480, 5, 144, 30, 5535, 18, 51, 36, 28, 224, 92, 25, 104, 4, 226, 65, 16, 38, 1334, 88, 12, 16, 283, 5, 16, 4472, 113, 103, 32, 15, 16, 5345, 19, 178, 32]\n"
     ]
    }
   ],
   "source": [
    "# Let's see what's there in the train_data\n",
    "print(train_data[0])\n",
    "# These are the index of the words which form this particular entry"
   ]
  },
  {
   "cell_type": "code",
   "execution_count": 5,
   "metadata": {},
   "outputs": [],
   "source": [
    "word_index = imdb.get_word_index()"
   ]
  },
  {
   "cell_type": "code",
   "execution_count": 6,
   "metadata": {},
   "outputs": [
    {
     "data": {
      "text/plain": [
       "34701"
      ]
     },
     "execution_count": 6,
     "metadata": {},
     "output_type": "execute_result"
    }
   ],
   "source": [
    "word_index['fawn']"
   ]
  },
  {
   "cell_type": "code",
   "execution_count": 7,
   "metadata": {},
   "outputs": [
    {
     "data": {
      "text/plain": [
       "88584"
      ]
     },
     "execution_count": 7,
     "metadata": {},
     "output_type": "execute_result"
    }
   ],
   "source": [
    "len(word_index)"
   ]
  },
  {
   "cell_type": "code",
   "execution_count": 8,
   "metadata": {},
   "outputs": [
    {
     "data": {
      "text/plain": [
       "88588"
      ]
     },
     "execution_count": 8,
     "metadata": {},
     "output_type": "execute_result"
    }
   ],
   "source": [
    "word_index = { k:(v+3) for k,v in word_index.items()}\n",
    "word_index[\"<PAD>\"] = 0\n",
    "word_index[\"<START>\"] = 1\n",
    "word_index[\"<UNK>\"] = 2\n",
    "word_index[\"<UNUSED>\"] = 3\n",
    "reverse_word_index = dict([(value, key) for (key, value) in word_index.items()])\n",
    "len(reverse_word_index)"
   ]
  },
  {
   "cell_type": "code",
   "execution_count": 9,
   "metadata": {},
   "outputs": [],
   "source": [
    "def decode_review(text):\n",
    "    return ' '.join([reverse_word_index.get(i, '?') for i in text])"
   ]
  },
  {
   "cell_type": "code",
   "execution_count": 10,
   "metadata": {},
   "outputs": [
    {
     "name": "stdout",
     "output_type": "stream",
     "text": [
      "<START> this film was just brilliant casting location scenery story direction everyone's really suited the part they played and you could just imagine being there robert <UNK> is an amazing actor and now the same being director <UNK> father came from the same scottish island as myself so i loved the fact there was a real connection with this film the witty remarks throughout the film were great it was just brilliant so much that i bought the film as soon as it was released for <UNK> and would recommend it to everyone to watch and the fly fishing was amazing really cried at the end it was so sad and you know what they say if you cry at a film it must have been good and this definitely was also <UNK> to the two little boy's that played the <UNK> of norman and paul they were just brilliant children are often left out of the <UNK> list i think because the stars that play them all grown up are such a big profile for the whole film but these children are amazing and should be praised for what they have done don't you think the whole story was so lovely because it was true and was someone's life after all that was shared with us all\n"
     ]
    }
   ],
   "source": [
    "print(decode_review(train_data[0]))"
   ]
  },
  {
   "cell_type": "code",
   "execution_count": 11,
   "metadata": {},
   "outputs": [],
   "source": [
    "train_data = keras.preprocessing.sequence.pad_sequences(train_data, value = word_index[\"<PAD>\"], padding = 'post', maxlen = 256)\n",
    "test_data = keras.preprocessing.sequence.pad_sequences(test_data, value = word_index[\"<PAD>\"], padding = 'post', maxlen = 256)"
   ]
  },
  {
   "cell_type": "code",
   "execution_count": 12,
   "metadata": {},
   "outputs": [
    {
     "name": "stdout",
     "output_type": "stream",
     "text": [
      "<START> this film was just brilliant casting location scenery story direction everyone's really suited the part they played and you could just imagine being there robert <UNK> is an amazing actor and now the same being director <UNK> father came from the same scottish island as myself so i loved the fact there was a real connection with this film the witty remarks throughout the film were great it was just brilliant so much that i bought the film as soon as it was released for <UNK> and would recommend it to everyone to watch and the fly fishing was amazing really cried at the end it was so sad and you know what they say if you cry at a film it must have been good and this definitely was also <UNK> to the two little boy's that played the <UNK> of norman and paul they were just brilliant children are often left out of the <UNK> list i think because the stars that play them all grown up are such a big profile for the whole film but these children are amazing and should be praised for what they have done don't you think the whole story was so lovely because it was true and was someone's life after all that was shared with us all <PAD> <PAD> <PAD> <PAD> <PAD> <PAD> <PAD> <PAD> <PAD> <PAD> <PAD> <PAD> <PAD> <PAD> <PAD> <PAD> <PAD> <PAD> <PAD> <PAD> <PAD> <PAD> <PAD> <PAD> <PAD> <PAD> <PAD> <PAD> <PAD> <PAD> <PAD> <PAD> <PAD> <PAD> <PAD> <PAD> <PAD> <PAD>\n"
     ]
    }
   ],
   "source": [
    "print(decode_review(train_data[0]))"
   ]
  },
  {
   "cell_type": "code",
   "execution_count": 13,
   "metadata": {},
   "outputs": [
    {
     "name": "stdout",
     "output_type": "stream",
     "text": [
      "WARNING:tensorflow:From /home/absin/Documents/dev/sentenceSimilarity/venv/lib/python3.6/site-packages/tensorflow/python/ops/resource_variable_ops.py:435: colocate_with (from tensorflow.python.framework.ops) is deprecated and will be removed in a future version.\n",
      "Instructions for updating:\n",
      "Colocations handled automatically by placer.\n",
      "_________________________________________________________________\n",
      "Layer (type)                 Output Shape              Param #   \n",
      "=================================================================\n",
      "embedding (Embedding)        (None, None, 16)          160000    \n",
      "_________________________________________________________________\n",
      "global_average_pooling1d (Gl (None, 16)                0         \n",
      "_________________________________________________________________\n",
      "dense (Dense)                (None, 16)                272       \n",
      "_________________________________________________________________\n",
      "dense_1 (Dense)              (None, 1)                 17        \n",
      "=================================================================\n",
      "Total params: 160,289\n",
      "Trainable params: 160,289\n",
      "Non-trainable params: 0\n",
      "_________________________________________________________________\n"
     ]
    }
   ],
   "source": [
    "vocab_size = 10000\n",
    "model = keras.Sequential()\n",
    "model.add(keras.layers.Embedding(vocab_size, 16))\n",
    "model.add(keras.layers.GlobalAveragePooling1D())\n",
    "model.add(keras.layers.Dense(16, activation = tf.nn.relu))\n",
    "model.add(keras.layers.Dense(1, activation = tf.nn.sigmoid))\n",
    "model.summary()"
   ]
  },
  {
   "cell_type": "code",
   "execution_count": 14,
   "metadata": {},
   "outputs": [],
   "source": [
    "model.compile(optimizer = 'adam', loss = 'binary_crossentropy', metrics = ['acc'])"
   ]
  },
  {
   "cell_type": "code",
   "execution_count": 15,
   "metadata": {},
   "outputs": [],
   "source": [
    "x_val = train_data[:10000]\n",
    "partial_x_train = train_data[10000:]\n",
    "\n",
    "y_val = train_labels[:10000]\n",
    "partial_y_train = train_labels[10000:]"
   ]
  },
  {
   "cell_type": "code",
   "execution_count": 16,
   "metadata": {},
   "outputs": [
    {
     "name": "stdout",
     "output_type": "stream",
     "text": [
      "Train on 15000 samples, validate on 10000 samples\n",
      "WARNING:tensorflow:From /home/absin/Documents/dev/sentenceSimilarity/venv/lib/python3.6/site-packages/tensorflow/python/ops/math_ops.py:3066: to_int32 (from tensorflow.python.ops.math_ops) is deprecated and will be removed in a future version.\n",
      "Instructions for updating:\n",
      "Use tf.cast instead.\n",
      "Epoch 1/40\n",
      "15000/15000 [==============================] - 1s 60us/sample - loss: 0.6920 - acc: 0.5316 - val_loss: 0.6902 - val_acc: 0.5625\n",
      "Epoch 2/40\n",
      "15000/15000 [==============================] - 1s 34us/sample - loss: 0.6868 - acc: 0.6682 - val_loss: 0.6833 - val_acc: 0.7063\n",
      "Epoch 3/40\n",
      "15000/15000 [==============================] - 1s 34us/sample - loss: 0.6759 - acc: 0.7353 - val_loss: 0.6694 - val_acc: 0.7558\n",
      "Epoch 4/40\n",
      "15000/15000 [==============================] - 1s 36us/sample - loss: 0.6560 - acc: 0.7491 - val_loss: 0.6462 - val_acc: 0.7610\n",
      "Epoch 5/40\n",
      "15000/15000 [==============================] - 1s 39us/sample - loss: 0.6255 - acc: 0.7857 - val_loss: 0.6137 - val_acc: 0.7810\n",
      "Epoch 6/40\n",
      "15000/15000 [==============================] - 1s 35us/sample - loss: 0.5856 - acc: 0.8079 - val_loss: 0.5747 - val_acc: 0.7953\n",
      "Epoch 7/40\n",
      "15000/15000 [==============================] - 1s 37us/sample - loss: 0.5397 - acc: 0.8211 - val_loss: 0.5312 - val_acc: 0.8150\n",
      "Epoch 8/40\n",
      "15000/15000 [==============================] - 1s 34us/sample - loss: 0.4928 - acc: 0.8404 - val_loss: 0.4901 - val_acc: 0.8284\n",
      "Epoch 9/40\n",
      "15000/15000 [==============================] - 1s 34us/sample - loss: 0.4484 - acc: 0.8555 - val_loss: 0.4522 - val_acc: 0.8400\n",
      "Epoch 10/40\n",
      "15000/15000 [==============================] - 1s 34us/sample - loss: 0.4085 - acc: 0.8691 - val_loss: 0.4205 - val_acc: 0.8473\n",
      "Epoch 11/40\n",
      "15000/15000 [==============================] - 1s 34us/sample - loss: 0.3745 - acc: 0.8780 - val_loss: 0.3941 - val_acc: 0.8559\n",
      "Epoch 12/40\n",
      "15000/15000 [==============================] - 1s 34us/sample - loss: 0.3458 - acc: 0.8869 - val_loss: 0.3739 - val_acc: 0.8596\n",
      "Epoch 13/40\n",
      "15000/15000 [==============================] - 1s 36us/sample - loss: 0.3223 - acc: 0.8926 - val_loss: 0.3557 - val_acc: 0.8658\n",
      "Epoch 14/40\n",
      "15000/15000 [==============================] - 1s 41us/sample - loss: 0.3013 - acc: 0.8979 - val_loss: 0.3426 - val_acc: 0.8694\n",
      "Epoch 15/40\n",
      "15000/15000 [==============================] - 1s 35us/sample - loss: 0.2838 - acc: 0.9028 - val_loss: 0.3315 - val_acc: 0.8720\n",
      "Epoch 16/40\n",
      "15000/15000 [==============================] - 1s 38us/sample - loss: 0.2681 - acc: 0.9081 - val_loss: 0.3225 - val_acc: 0.8744\n",
      "Epoch 17/40\n",
      "15000/15000 [==============================] - 1s 37us/sample - loss: 0.2538 - acc: 0.9127 - val_loss: 0.3149 - val_acc: 0.8762\n",
      "Epoch 18/40\n",
      "15000/15000 [==============================] - 1s 37us/sample - loss: 0.2411 - acc: 0.9177 - val_loss: 0.3083 - val_acc: 0.8794\n",
      "Epoch 19/40\n",
      "15000/15000 [==============================] - 1s 38us/sample - loss: 0.2296 - acc: 0.9201 - val_loss: 0.3029 - val_acc: 0.8803\n",
      "Epoch 20/40\n",
      "15000/15000 [==============================] - 1s 35us/sample - loss: 0.2193 - acc: 0.9239 - val_loss: 0.2991 - val_acc: 0.8805\n",
      "Epoch 21/40\n",
      "15000/15000 [==============================] - 1s 38us/sample - loss: 0.2090 - acc: 0.9286 - val_loss: 0.2958 - val_acc: 0.8818\n",
      "Epoch 22/40\n",
      "15000/15000 [==============================] - 1s 38us/sample - loss: 0.2002 - acc: 0.9306 - val_loss: 0.2926 - val_acc: 0.8836\n",
      "Epoch 23/40\n",
      "15000/15000 [==============================] - 1s 38us/sample - loss: 0.1914 - acc: 0.9352 - val_loss: 0.2912 - val_acc: 0.8833\n",
      "Epoch 24/40\n",
      "15000/15000 [==============================] - 1s 38us/sample - loss: 0.1837 - acc: 0.9391 - val_loss: 0.2893 - val_acc: 0.8841\n",
      "Epoch 25/40\n",
      "15000/15000 [==============================] - 1s 37us/sample - loss: 0.1759 - acc: 0.9434 - val_loss: 0.2873 - val_acc: 0.8844\n",
      "Epoch 26/40\n",
      "15000/15000 [==============================] - 1s 37us/sample - loss: 0.1690 - acc: 0.9456 - val_loss: 0.2875 - val_acc: 0.8836\n",
      "Epoch 27/40\n",
      "15000/15000 [==============================] - 1s 34us/sample - loss: 0.1623 - acc: 0.9481 - val_loss: 0.2866 - val_acc: 0.8838\n",
      "Epoch 28/40\n",
      "15000/15000 [==============================] - 1s 34us/sample - loss: 0.1560 - acc: 0.9509 - val_loss: 0.2868 - val_acc: 0.8853\n",
      "Epoch 29/40\n",
      "15000/15000 [==============================] - 1s 35us/sample - loss: 0.1505 - acc: 0.9541 - val_loss: 0.2879 - val_acc: 0.8839\n",
      "Epoch 30/40\n",
      "15000/15000 [==============================] - 1s 35us/sample - loss: 0.1447 - acc: 0.9551 - val_loss: 0.2870 - val_acc: 0.8860\n",
      "Epoch 31/40\n",
      "15000/15000 [==============================] - 1s 34us/sample - loss: 0.1388 - acc: 0.9589 - val_loss: 0.2877 - val_acc: 0.8863\n",
      "Epoch 32/40\n",
      "15000/15000 [==============================] - 1s 35us/sample - loss: 0.1335 - acc: 0.9612 - val_loss: 0.2888 - val_acc: 0.8862\n",
      "Epoch 33/40\n",
      "15000/15000 [==============================] - 1s 35us/sample - loss: 0.1284 - acc: 0.9623 - val_loss: 0.2907 - val_acc: 0.8857\n",
      "Epoch 34/40\n",
      "15000/15000 [==============================] - 1s 35us/sample - loss: 0.1239 - acc: 0.9645 - val_loss: 0.2925 - val_acc: 0.8855\n",
      "Epoch 35/40\n",
      "15000/15000 [==============================] - 1s 35us/sample - loss: 0.1197 - acc: 0.9643 - val_loss: 0.2944 - val_acc: 0.8856\n",
      "Epoch 36/40\n",
      "15000/15000 [==============================] - 1s 35us/sample - loss: 0.1151 - acc: 0.9678 - val_loss: 0.2960 - val_acc: 0.8855\n",
      "Epoch 37/40\n",
      "15000/15000 [==============================] - 1s 34us/sample - loss: 0.1107 - acc: 0.9686 - val_loss: 0.2983 - val_acc: 0.8849\n",
      "Epoch 38/40\n",
      "15000/15000 [==============================] - 1s 35us/sample - loss: 0.1066 - acc: 0.9709 - val_loss: 0.3015 - val_acc: 0.8830\n",
      "Epoch 39/40\n",
      "15000/15000 [==============================] - 1s 34us/sample - loss: 0.1034 - acc: 0.9711 - val_loss: 0.3046 - val_acc: 0.8829\n",
      "Epoch 40/40\n",
      "15000/15000 [==============================] - 1s 35us/sample - loss: 0.0992 - acc: 0.9736 - val_loss: 0.3071 - val_acc: 0.8835\n"
     ]
    }
   ],
   "source": [
    "history = model.fit(partial_x_train, partial_y_train, epochs = 40, batch_size = 512, validation_data = (x_val, y_val), verbose = 1)"
   ]
  },
  {
   "cell_type": "code",
   "execution_count": 17,
   "metadata": {},
   "outputs": [
    {
     "name": "stdout",
     "output_type": "stream",
     "text": [
      "25000/25000 [==============================] - 0s 17us/sample - loss: 0.3270 - acc: 0.8720\n"
     ]
    }
   ],
   "source": [
    "results = model.evaluate(test_data, test_labels)"
   ]
  }
 ],
 "metadata": {
  "kernelspec": {
   "display_name": "venv",
   "language": "python",
   "name": "venv"
  },
  "language_info": {
   "codemirror_mode": {
    "name": "ipython",
    "version": 3
   },
   "file_extension": ".py",
   "mimetype": "text/x-python",
   "name": "python",
   "nbconvert_exporter": "python",
   "pygments_lexer": "ipython3",
   "version": "3.6.7"
  }
 },
 "nbformat": 4,
 "nbformat_minor": 2
}
