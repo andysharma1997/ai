{
 "cells": [
  {
   "cell_type": "code",
   "execution_count": 3,
   "metadata": {},
   "outputs": [],
   "source": [
    "import psycopg2\n",
    "import time"
   ]
  },
  {
   "cell_type": "code",
   "execution_count": 4,
   "metadata": {},
   "outputs": [
    {
     "name": "stdout",
     "output_type": "stream",
     "text": [
      "Connected toi database successfulkly in 0.005742788314819336\n"
     ]
    }
   ],
   "source": [
    "start  = time.time()\n",
    "try:\n",
    "    conn = psycopg2.connect(\"dbname='postgres' user='postgres' host='192.168.0.102' password='root'\")\n",
    "    print(\"Connected toi database successfulkly in {}\".format((time.time()-start)))\n",
    "except:\n",
    "    print(\"I am unable to connect to the database\")\n"
   ]
  },
  {
   "cell_type": "code",
   "execution_count": 6,
   "metadata": {},
   "outputs": [],
   "source": [
    "file_name = 'erfdfde.wav'"
   ]
  },
  {
   "cell_type": "code",
   "execution_count": 7,
   "metadata": {},
   "outputs": [
    {
     "name": "stdout",
     "output_type": "stream",
     "text": [
      " INSERT INTO public.chunks\n",
      "(file_name, abs_path, transcription, url, created_at, updated_at, file_size, is_verified, source_type, source_url, is_seen, \"source\")\n",
      "VALUES('erfdfde.wav', '/home/user/Downlods', 'Bye', NULL, now(), now(), 198145, false, 'YOUTUBE', 'https://www.youtube.com/watch?v=WYwRFywI8g8&list=RDWYwRFywI8g8&start_radio=1', false, 'Jal The Band - Woh Lamhey (Jalaholic)');\n"
     ]
    }
   ],
   "source": [
    "sql = \"\"\" INSERT INTO public.chunks\n",
    "(file_name, abs_path, transcription, url, created_at, updated_at, file_size, is_verified, source_type, source_url, is_seen, \"source\")\n",
    "VALUES('\"\"\"+file_name+\"\"\"', '/home/user/Downlods', 'Bye', NULL, now(), now(), 198145, false, 'YOUTUBE', 'https://www.youtube.com/watch?v=WYwRFywI8g8&list=RDWYwRFywI8g8&start_radio=1', false, 'Jal The Band - Woh Lamhey (Jalaholic)');\"\"\"\n",
    "print(sql)\n",
    "cur = conn.cursor()\n",
    "cur.execute(sql)"
   ]
  },
  {
   "cell_type": "code",
   "execution_count": 8,
   "metadata": {},
   "outputs": [],
   "source": [
    "conn.commit()"
   ]
  },
  {
   "cell_type": "code",
   "execution_count": 9,
   "metadata": {},
   "outputs": [],
   "source": [
    "conn.close()"
   ]
  },
  {
   "cell_type": "code",
   "execution_count": null,
   "metadata": {},
   "outputs": [],
   "source": []
  }
 ],
 "metadata": {
  "kernelspec": {
   "display_name": "venv",
   "language": "python",
   "name": "venv"
  },
  "language_info": {
   "codemirror_mode": {
    "name": "ipython",
    "version": 3
   },
   "file_extension": ".py",
   "mimetype": "text/x-python",
   "name": "python",
   "nbconvert_exporter": "python",
   "pygments_lexer": "ipython3",
   "version": "3.6.7"
  }
 },
 "nbformat": 4,
 "nbformat_minor": 2
}
