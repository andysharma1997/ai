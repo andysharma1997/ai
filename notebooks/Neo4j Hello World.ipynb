{
 "cells": [
  {
   "cell_type": "code",
   "execution_count": 1,
   "metadata": {},
   "outputs": [],
   "source": [
    "import neo4j\n",
    "from neo4j import GraphDatabase"
   ]
  },
  {
   "cell_type": "code",
   "execution_count": 2,
   "metadata": {},
   "outputs": [],
   "source": [
    "class HelloWorld(object):\n",
    "    \n",
    "    def __init__(self, uri, user, password):\n",
    "        self._driver = GraphDatabase.driver(uri, auth = (user,password))\n",
    "        \n",
    "    def close(self):\n",
    "        self._driver.close()\n",
    "\n",
    "    def run_query(self, query):\n",
    "        with self._driver.session() as session:\n",
    "            greeting = session.write_transaction(self._run_query, query)\n",
    "            print(greeting)\n",
    "            return greeting\n",
    "\n",
    "    @staticmethod\n",
    "    def _run_query(tx, query):\n",
    "        result = tx.run(query)\n",
    "        return result"
   ]
  },
  {
   "cell_type": "code",
   "execution_count": 3,
   "metadata": {},
   "outputs": [],
   "source": [
    "neo = HelloWorld('bolt://localhost:7687', 'neo4j', 'test123')"
   ]
  },
  {
   "cell_type": "code",
   "execution_count": 4,
   "metadata": {},
   "outputs": [
    {
     "name": "stdout",
     "output_type": "stream",
     "text": [
      "<neo4j.BoltStatementResult object at 0x7f939d63a1d0>\n"
     ]
    }
   ],
   "source": [
    "result = neo.run_query('MATCH (n) MATCH ()-[r]->() RETURN n')"
   ]
  },
  {
   "cell_type": "code",
   "execution_count": 5,
   "metadata": {},
   "outputs": [],
   "source": [
    "result.peek()"
   ]
  },
  {
   "cell_type": "code",
   "execution_count": 6,
   "metadata": {},
   "outputs": [],
   "source": [
    "import psycopg2\n",
    "import time"
   ]
  },
  {
   "cell_type": "code",
   "execution_count": 7,
   "metadata": {},
   "outputs": [
    {
     "name": "stdout",
     "output_type": "stream",
     "text": [
      "Database Connection established successsfully after: 0.20848822593688965\n",
      "Fetched 1 tasks after: 0.41449975967407227\n"
     ]
    }
   ],
   "source": [
    "host = 'db.talentify.in'\n",
    "password = 'cx6ac54nmgGtLD1y'\n",
    "start = time.time()\n",
    "sql = 'select analytics from task where id = 17949830'\n",
    "try:\n",
    "    conn = psycopg2.connect(\"dbname='sales' user='postgres' host='\"+host+\"' password='\"+password+\"'\")\n",
    "    print(\"Database Connection established successsfully after: \"+str(time.time()-start))\n",
    "except:\n",
    "    print('Establishing connection with db failed')\n",
    "    raise\n",
    "cur = conn.cursor()\n",
    "try:\n",
    "    cur.execute(sql)\n",
    "except:\n",
    "    print(\"Query fetch failed\")\n",
    "    raise\n",
    "rows = cur.fetchall()\n",
    "print(\"Fetched \"+str(len(rows))+\" tasks after: \"+str(time.time()-start))"
   ]
  },
  {
   "cell_type": "code",
   "execution_count": 9,
   "metadata": {},
   "outputs": [],
   "source": [
    "import json\n",
    "ana = json.loads(rows[0][0])"
   ]
  },
  {
   "cell_type": "code",
   "execution_count": 14,
   "metadata": {},
   "outputs": [
    {
     "name": "stdout",
     "output_type": "stream",
     "text": [
      "0-->Agent-------->>>>>>Hi, I am I speaking to mr. Praveen Matthew.\n",
      "1-->Customer-------->>>>>>Yeah, this is Praveen . Whos calling?\n",
      "2-->Agent-------->>>>>>Hello, mr. Praveen. Yeah, good morning. My name is Paul and I''m a learning consultant with eazylearn.\n",
      "You had you had inquired last week on a website about a digital marketing associate course, and I''m calling.\n",
      "3-->Agent-------->>>>>>You had you had inquired last week on a website about a digital marketing associate course, and I''m calling.\n",
      "4-->Customer-------->>>>>>Yeah, yeah.\n",
      "5-->Agent-------->>>>>>Yeah, I''m calling in connection with that. Is it a good time to talk to you right now?\n",
      "6-->Customer-------->>>>>>Yeah, yeah. Yeah, please continue. Like I wanted I had inquired about that course.\n",
      "I want to know about that. Yeah.\n",
      "7-->Customer-------->>>>>>I want to know about that. Yeah.\n",
      "8-->Agent-------->>>>>>Sure, before I start with the course details. I just wanted a little bit about our background about yourself. Where are you based at the moment&amp;amp;amp;amp;amp;amp;nbsp;\n",
      "9-->Customer-------->>>>>>I'm I''m I''m in Bangalore right now.\n",
      "10-->Agent-------->>>>>>You're in Bangalore. Okay, that''s great. \n",
      "beautiful weather right now in Bangalore, its only 28 degree i believe \n",
      "11-->Agent-------->>>>>>beautiful weather right now in Bangalore, its only 28 degree i believe \n",
      "12-->Customer-------->>>>>>Haha, yeah, but you know still because of all this global warming. It''s getting hotter like day by day.\n",
      "13-->Agent-------->>>>>>and you would have been really excited that our RCB won against CSK Yesterday by just wondering \n",
      "14-->Customer-------->>>>>>Yeah, II finally they won again.\n",
      "15-->Agent-------->>>>>>Great. Are you a student or are you working?\n",
      "16-->Customer-------->>>>>>I''m working right now.\n",
      "17-->Agent-------->>>>>>You''re working. Is it great? Which company do you work with?\n",
      "18-->Customer-------->>>>>>It''s a company called tonic. I think you must have you might have heard about it.\n",
      "They are into the Cosmetic space and all that, you know, like they sell cosmetic products and all that. Yeah.\n",
      "19-->Customer-------->>>>>>They are into the Cosmetic space and all that, you know, like they sell cosmetic products and all that. Yeah.\n",
      "20-->Agent-------->>>>>>Of course. Yes tonic cosmetics. And how long have you been with them? \n",
      "21-->Customer-------->>>>>>I don't no, its be like 3 years now. I''ve finished my masters and I joined in there.\n",
      "Both I've been working there for almost three years now.\n",
      "22-->Customer-------->>>>>>Both I've been working there for almost three years now.\n",
      "23-->Agent-------->>>>>>Great three years with on and what is your role over there?  \n",
      "24-->Customer-------->>>>>>I''m actually a marketing executive.\n",
      "25-->Agent-------->>>>>>It and just curious why you looking for a course like this. \n",
      "26-->Customer-------->>>>>>see actually like I'm not happy with the way my career is growing right now, you know like a couple of My.\n",
      "People who joined in after me with juniors. In fact, they got promoted with better scale and of pay scale and all that, you know, like that''s because\n",
      "They know a lot about all this digital marketing and all that.\n",
      "So that''s why they got promoted.\n",
      "So I thought like okay, it''s time for me to upgrade my skill also take an eye opener.\n",
      "I said okay fine. Let me update my skills and I was like, okay digital marketing and all that so I thought\n",
      "I figured out that I was just taking out the website and eazylearn date come up.\n",
      "So that's what I want to think but I want to join this course that''s why .\n",
      "27-->Customer-------->>>>>>People who joined in after me with juniors. In fact, they got promoted with better scale and of pay scale and all that, you know, like that''s because\n",
      "28-->Customer-------->>>>>>They know a lot about all this digital marketing and all that.\n",
      "29-->Customer-------->>>>>>So that''s why they got promoted.\n",
      "30-->Customer-------->>>>>>So I thought like okay, it''s time for me to upgrade my skill also take an eye opener.\n",
      "31-->Customer-------->>>>>>I said okay fine. Let me update my skills and I was like, okay digital marketing and all that so I thought\n",
      "32-->Customer-------->>>>>>I figured out that I was just taking out the website and eazylearn date come up.\n",
      "33-->Customer-------->>>>>>So that's what I want to think but I want to join this course that''s why .\n",
      "34-->Agent-------->>>>>>Okay, I''m sorry to hear about that how I actually think you''re doing the right thing now because you''re taking this course up. This is actually the\n",
      "well that goes to get you that promotion that you\n",
      "and\n",
      "I think the course is exactly what \n",
      "You need because it''s designed for working professionals. Can I take you through it?\n",
      "35-->Agent-------->>>>>>well that goes to get you that promotion that you\n",
      "36-->Agent-------->>>>>>and\n",
      "37-->Agent-------->>>>>>I think the course is exactly what \n",
      "38-->Agent-------->>>>>>You need because it''s designed for working professionals. Can I take you through it?\n",
      "39-->Customer-------->>>>>>Yeah, yeah. Yeah. So what is the curriculum? What is the price curriculum and all that?\n",
      "40-->Agent-------->>>>>>Sure. Let me just run you through the\n",
      "Particular made the moment the what we cover in this is pretty elaborate. So we do search engine optimization social media marketing web analytics Google analytics search advertising display advertising using ads video advertising using YouTube. So it''s pretty elaborate and it''s a hundred our course and it''s completely online.\n",
      "So you don''t have to worry about?\n",
      "41-->Agent-------->>>>>>Particular made the moment the what we cover in this is pretty elaborate. So we do search engine optimization social media marketing web analytics Google analytics search advertising display advertising using ads video advertising using YouTube. So it''s pretty elaborate and it''s a hundred our course and it''s completely online.\n",
      "42-->Agent-------->>>>>>So you don''t have to worry about?\n",
      "43-->Customer-------->>>>>>Online goes like that wont workout&amp;amp;amp;amp;amp;amp;nbsp;see&amp;amp;amp;amp;amp;amp;nbsp; like we could see I checked out online courses.\n",
      "I didnt like it, you know.\n",
      "all course and all that.\n",
      "Can we do you have any regular contact program something like that?\n",
      "44-->Customer-------->>>>>>I didnt like it, you know.\n",
      "45-->Customer-------->>>>>>all course and all that.\n",
      "46-->Customer-------->>>>>>Can we do you have any regular contact program something like that?\n",
      "47-->Agent-------->>>>>>oh, no, don't worry about the fact that it''s online, especially in Bangalore that''s the trend right now considering the traffic in Bangalore and plus the fact that you''re working once you come back you might be tired in the evening so in \n",
      "The online course that we use we have a platform which is called the next platform and it''s a pretty interactive system. So you have a live instructor on the other end and it''s a it''s a live session and it''s an interactive session you can ask the\n",
      "chats which you can have with your other other people in the group are colleagues and plus a classes are recorded So, it's awesome that you can just play it anytime anywhere in case you miss out on those classes. So that''s a really \n",
      "awesome feature that we have\n",
      "48-->Agent-------->>>>>>The online course that we use we have a platform which is called the next platform and it''s a pretty interactive system. So you have a live instructor on the other end and it''s a it''s a live session and it''s an interactive session you can ask the\n",
      "49-->Agent-------->>>>>>chats which you can have with your other other people in the group are colleagues and plus a classes are recorded So, it's awesome that you can just play it anytime anywhere in case you miss out on those classes. So that''s a really \n",
      "50-->Agent-------->>>>>>awesome feature that we have\n",
      "51-->Customer-------->>>>>>Oh, so okay. That sounds fine. But so what is the prices and other what is the price?\n",
      "52-->Agent-------->>>>>>The price of the course including GST is 1 lakh.\n",
      "24000 787\n",
      "53-->Agent-------->>>>>>24000 787\n",
      "54-->Customer-------->>>>>>1 lakh 24,000. Come on, man.\n",
      "Simplifast and on it''s only how much it''s only like 75 80 thousand, but this is very expensive.\n",
      "55-->Customer-------->>>>>>Simplifast and on it''s only how much it''s only like 75 80 thousand, but this is very expensive.\n",
      "56-->Agent-------->>>>>>See simplifast the content is pretty average. That''s it''s not a live session. It''s only sand content which is loaded onto a tablet in giving across to you over here. You actually have a live instructor.\n",
      "Who''s training you on this course and also the one which you can interact with them and you can also interact with your other colleagues and plus it''s recorded as well. So in case you miss out on sessions, you can always come back and listen to it.\n",
      "Do you have the best of both worlds right?\n",
      "57-->Agent-------->>>>>>Who''s training you on this course and also the one which you can interact with them and you can also interact with your other colleagues and plus it''s recorded as well. So in case you miss out on sessions, you can always come back and listen to it.\n",
      "58-->Agent-------->>>>>>Do you have the best of both worlds right?\n",
      "59-->Customer-------->>>>>>Okay, so it''s going to be an online instructor close so see right now.\n",
      "Okay, I understand all this but it''s still very expensive. Do you have any?\n",
      "Installment in the something like that.\n",
      "60-->Customer-------->>>>>>Okay, I understand all this but it''s still very expensive. Do you have any?\n",
      "61-->Customer-------->>>>>>Installment in the something like that.\n",
      "62-->Agent-------->>>>>>Yes, we do. So upfront. You only have to pay us 24,000 787 and the rest put in installments of 25,000. You can pay and plus. \n",
      "We have tied up with banks. So you will get interest-free loans available from these Banks and you should be eligible because you are.\n",
      "Working professional you should be eligible for those.\n",
      "63-->Agent-------->>>>>>We have tied up with banks. So you will get interest-free loans available from these Banks and you should be eligible because you are.\n",
      "64-->Agent-------->>>>>>Working professional you should be eligible for those.\n",
      "65-->Customer-------->>>>>>Okay, sounds great. So see right now I'm working but I would want to know what is the placement opportunities and all that\n",
      "Do you have any placement? or type up or something like that?\n",
      "66-->Customer-------->>>>>>Do you have any placement? or type up or something like that?\n",
      "67-->Agent-------->>>>>>Yes, actually we have what is your current CTC\n",
      "68-->Customer-------->>>>>>It's 4 lakh per annum, but I know.\n",
      "69-->Agent-------->>>>>>Okay, you''ll be glad to know that actually our placement over the last couple of batches has been about 85% of the batch and the average salary is that these graduates are who finished these courses are getting from this particular course is about 6 to 8 lakhs and considering that you have about three years of work experience.\n",
      "I estimate that you should be able to get about 8 lakhs in this that basically means.\n",
      "That you will be able to pay off.\n",
      "Now this price of this course within a couple of months itself. And another good thing about this is that we have tied up with Google.\n",
      "And this is a Google Certified digital marketing course and because because of that we have the top companies which are coming in to recruit from us companies like Amazon Flipkart. Myntra jabong swiggy HDFC, you name it? All these companies actually come in and recruit from us.\n",
      "So we have like this is recognized by them as well as one of the best courses that we have.\n",
      "because it''s Google Certified as\n",
      "70-->Agent-------->>>>>>I estimate that you should be able to get about 8 lakhs in this that basically means.\n",
      "71-->Agent-------->>>>>>That you will be able to pay off.\n",
      "72-->Agent-------->>>>>>Now this price of this course within a couple of months itself. And another good thing about this is that we have tied up with Google.\n",
      "73-->Agent-------->>>>>>And this is a Google Certified digital marketing course and because because of that we have the top companies which are coming in to recruit from us companies like Amazon Flipkart. Myntra jabong swiggy HDFC, you name it? All these companies actually come in and recruit from us.\n",
      "74-->Agent-------->>>>>>So we have like this is recognized by them as well as one of the best courses that we have.\n",
      "75-->Agent-------->>>>>>because it''s Google Certified as\n",
      "76-->Customer-------->>>>>>Okay. Okay. Yeah, that sounds interesting.\n",
      "77-->Agent-------->>>>>>Can I go ahead and go do for this course?\n",
      "78-->Customer-------->>>>>>Yeah, but not today.\n",
      "79-->Agent-------->>>>>>Would you like me to call you back and get you?\n",
      "80-->Customer-------->>>>>>Okay, how about tomorrow? Yeah. Yeah tomorrow will be fine.\n",
      "81-->Agent-------->>>>>>What time would you like a call back tomorrow?\n",
      "82-->Customer-------->>>>>>say at\n",
      "I say it's around 6:60&amp;amp;amp;amp;amp;nbsp; 7?\n",
      "83-->Customer-------->>>>>>I say it's around 6:60&amp;amp;amp;amp;amp;nbsp; 7?\n",
      "84-->Agent-------->>>>>>sure, let me let me go back to \n",
      "This I will I will send you a brochure as well.\n",
      "Okay, and we can we can get I''ll get back to you by around six o''clock tomorrow.\n",
      "85-->Agent-------->>>>>>This I will I will send you a brochure as well.\n",
      "86-->Agent-------->>>>>>Okay, and we can we can get I''ll get back to you by around six o''clock tomorrow.\n",
      "87-->Customer-------->>>>>>Yeah, yeah, sure. Sure.\n",
      "88-->Agent-------->>>>>>Email the brochure cost you thank you very much for your time. It was really nice talking to you today.\n",
      "89-->Customer-------->>>>>>Yeah, yeah. Thank you.\n"
     ]
    }
   ],
   "source": [
    "for index, conv in enumerate(ana['conversation']):\n",
    "    print(str(index)+'-->'+conv['speaker']+'-------->>>>>>'+conv['text']) "
   ]
  },
  {
   "cell_type": "code",
   "execution_count": 11,
   "metadata": {},
   "outputs": [],
   "source": [
    "def clean_analysis(ana):\n",
    "    \"\"\"We can have repeating blocks by agents/cusdtomer, should merge them into one\"\"\"\n",
    "    convs = []\n",
    "    curr_speaker = None\n",
    "    for conv in ana['conversation']:\n",
    "        if curr_speaker == None:\n",
    "            curr_speaker = conv['speaker']\n",
    "            convs.append(conv)\n",
    "        else:\n",
    "            if conv['speaker'] != curr_speaker:\n",
    "                #print(convs)\n",
    "                convs.append(conv)\n",
    "            else:\n",
    "                #print(convs)\n",
    "                prev_conv = convs[-1]\n",
    "                prev_conv['text'] = prev_conv['text'] + '\\n' + conv['text']\n",
    "                convs[-1] = prev_conv\n",
    "            curr_speaker = conv['speaker']\n",
    "    return convs"
   ]
  },
  {
   "cell_type": "code",
   "execution_count": 12,
   "metadata": {},
   "outputs": [],
   "source": [
    "convss = clean_analysis(ana)"
   ]
  },
  {
   "cell_type": "code",
   "execution_count": 13,
   "metadata": {},
   "outputs": [
    {
     "name": "stdout",
     "output_type": "stream",
     "text": [
      "0-->Agent-------->>>>>>Hi, I am I speaking to mr. Praveen Matthew.\n",
      "1-->Customer-------->>>>>>Yeah, this is Praveen . Whos calling?\n",
      "2-->Agent-------->>>>>>Hello, mr. Praveen. Yeah, good morning. My name is Paul and I''m a learning consultant with eazylearn.\n",
      "You had you had inquired last week on a website about a digital marketing associate course, and I''m calling.\n",
      "3-->Customer-------->>>>>>Yeah, yeah.\n",
      "4-->Agent-------->>>>>>Yeah, I''m calling in connection with that. Is it a good time to talk to you right now?\n",
      "5-->Customer-------->>>>>>Yeah, yeah. Yeah, please continue. Like I wanted I had inquired about that course.\n",
      "I want to know about that. Yeah.\n",
      "6-->Agent-------->>>>>>Sure, before I start with the course details. I just wanted a little bit about our background about yourself. Where are you based at the moment&amp;amp;amp;amp;amp;amp;nbsp;\n",
      "7-->Customer-------->>>>>>I'm I''m I''m in Bangalore right now.\n",
      "8-->Agent-------->>>>>>You're in Bangalore. Okay, that''s great. \n",
      "beautiful weather right now in Bangalore, its only 28 degree i believe \n",
      "9-->Customer-------->>>>>>Haha, yeah, but you know still because of all this global warming. It''s getting hotter like day by day.\n",
      "10-->Agent-------->>>>>>and you would have been really excited that our RCB won against CSK Yesterday by just wondering \n",
      "11-->Customer-------->>>>>>Yeah, II finally they won again.\n",
      "12-->Agent-------->>>>>>Great. Are you a student or are you working?\n",
      "13-->Customer-------->>>>>>I''m working right now.\n",
      "14-->Agent-------->>>>>>You''re working. Is it great? Which company do you work with?\n",
      "15-->Customer-------->>>>>>It''s a company called tonic. I think you must have you might have heard about it.\n",
      "They are into the Cosmetic space and all that, you know, like they sell cosmetic products and all that. Yeah.\n",
      "16-->Agent-------->>>>>>Of course. Yes tonic cosmetics. And how long have you been with them? \n",
      "17-->Customer-------->>>>>>I don't no, its be like 3 years now. I''ve finished my masters and I joined in there.\n",
      "Both I've been working there for almost three years now.\n",
      "18-->Agent-------->>>>>>Great three years with on and what is your role over there?  \n",
      "19-->Customer-------->>>>>>I''m actually a marketing executive.\n",
      "20-->Agent-------->>>>>>It and just curious why you looking for a course like this. \n",
      "21-->Customer-------->>>>>>see actually like I'm not happy with the way my career is growing right now, you know like a couple of My.\n",
      "People who joined in after me with juniors. In fact, they got promoted with better scale and of pay scale and all that, you know, like that''s because\n",
      "They know a lot about all this digital marketing and all that.\n",
      "So that''s why they got promoted.\n",
      "So I thought like okay, it''s time for me to upgrade my skill also take an eye opener.\n",
      "I said okay fine. Let me update my skills and I was like, okay digital marketing and all that so I thought\n",
      "I figured out that I was just taking out the website and eazylearn date come up.\n",
      "So that's what I want to think but I want to join this course that''s why .\n",
      "22-->Agent-------->>>>>>Okay, I''m sorry to hear about that how I actually think you''re doing the right thing now because you''re taking this course up. This is actually the\n",
      "well that goes to get you that promotion that you\n",
      "and\n",
      "I think the course is exactly what \n",
      "You need because it''s designed for working professionals. Can I take you through it?\n",
      "23-->Customer-------->>>>>>Yeah, yeah. Yeah. So what is the curriculum? What is the price curriculum and all that?\n",
      "24-->Agent-------->>>>>>Sure. Let me just run you through the\n",
      "Particular made the moment the what we cover in this is pretty elaborate. So we do search engine optimization social media marketing web analytics Google analytics search advertising display advertising using ads video advertising using YouTube. So it''s pretty elaborate and it''s a hundred our course and it''s completely online.\n",
      "So you don''t have to worry about?\n",
      "25-->Customer-------->>>>>>Online goes like that wont workout&amp;amp;amp;amp;amp;amp;nbsp;see&amp;amp;amp;amp;amp;amp;nbsp; like we could see I checked out online courses.\n",
      "I didnt like it, you know.\n",
      "all course and all that.\n",
      "Can we do you have any regular contact program something like that?\n",
      "26-->Agent-------->>>>>>oh, no, don't worry about the fact that it''s online, especially in Bangalore that''s the trend right now considering the traffic in Bangalore and plus the fact that you''re working once you come back you might be tired in the evening so in \n",
      "The online course that we use we have a platform which is called the next platform and it''s a pretty interactive system. So you have a live instructor on the other end and it''s a it''s a live session and it''s an interactive session you can ask the\n",
      "chats which you can have with your other other people in the group are colleagues and plus a classes are recorded So, it's awesome that you can just play it anytime anywhere in case you miss out on those classes. So that''s a really \n",
      "awesome feature that we have\n",
      "27-->Customer-------->>>>>>Oh, so okay. That sounds fine. But so what is the prices and other what is the price?\n",
      "28-->Agent-------->>>>>>The price of the course including GST is 1 lakh.\n",
      "24000 787\n",
      "29-->Customer-------->>>>>>1 lakh 24,000. Come on, man.\n",
      "Simplifast and on it''s only how much it''s only like 75 80 thousand, but this is very expensive.\n",
      "30-->Agent-------->>>>>>See simplifast the content is pretty average. That''s it''s not a live session. It''s only sand content which is loaded onto a tablet in giving across to you over here. You actually have a live instructor.\n",
      "Who''s training you on this course and also the one which you can interact with them and you can also interact with your other colleagues and plus it''s recorded as well. So in case you miss out on sessions, you can always come back and listen to it.\n",
      "Do you have the best of both worlds right?\n",
      "31-->Customer-------->>>>>>Okay, so it''s going to be an online instructor close so see right now.\n",
      "Okay, I understand all this but it''s still very expensive. Do you have any?\n",
      "Installment in the something like that.\n",
      "32-->Agent-------->>>>>>Yes, we do. So upfront. You only have to pay us 24,000 787 and the rest put in installments of 25,000. You can pay and plus. \n",
      "We have tied up with banks. So you will get interest-free loans available from these Banks and you should be eligible because you are.\n",
      "Working professional you should be eligible for those.\n",
      "33-->Customer-------->>>>>>Okay, sounds great. So see right now I'm working but I would want to know what is the placement opportunities and all that\n",
      "Do you have any placement? or type up or something like that?\n",
      "34-->Agent-------->>>>>>Yes, actually we have what is your current CTC\n",
      "35-->Customer-------->>>>>>It's 4 lakh per annum, but I know.\n",
      "36-->Agent-------->>>>>>Okay, you''ll be glad to know that actually our placement over the last couple of batches has been about 85% of the batch and the average salary is that these graduates are who finished these courses are getting from this particular course is about 6 to 8 lakhs and considering that you have about three years of work experience.\n",
      "I estimate that you should be able to get about 8 lakhs in this that basically means.\n",
      "That you will be able to pay off.\n",
      "Now this price of this course within a couple of months itself. And another good thing about this is that we have tied up with Google.\n",
      "And this is a Google Certified digital marketing course and because because of that we have the top companies which are coming in to recruit from us companies like Amazon Flipkart. Myntra jabong swiggy HDFC, you name it? All these companies actually come in and recruit from us.\n",
      "So we have like this is recognized by them as well as one of the best courses that we have.\n",
      "because it''s Google Certified as\n",
      "37-->Customer-------->>>>>>Okay. Okay. Yeah, that sounds interesting.\n",
      "38-->Agent-------->>>>>>Can I go ahead and go do for this course?\n",
      "39-->Customer-------->>>>>>Yeah, but not today.\n",
      "40-->Agent-------->>>>>>Would you like me to call you back and get you?\n",
      "41-->Customer-------->>>>>>Okay, how about tomorrow? Yeah. Yeah tomorrow will be fine.\n",
      "42-->Agent-------->>>>>>What time would you like a call back tomorrow?\n",
      "43-->Customer-------->>>>>>say at\n",
      "I say it's around 6:60&amp;amp;amp;amp;amp;nbsp; 7?\n",
      "44-->Agent-------->>>>>>sure, let me let me go back to \n",
      "This I will I will send you a brochure as well.\n",
      "Okay, and we can we can get I''ll get back to you by around six o''clock tomorrow.\n",
      "45-->Customer-------->>>>>>Yeah, yeah, sure. Sure.\n",
      "46-->Agent-------->>>>>>Email the brochure cost you thank you very much for your time. It was really nice talking to you today.\n",
      "47-->Customer-------->>>>>>Yeah, yeah. Thank you.\n"
     ]
    }
   ],
   "source": [
    "for index, conv in enumerate(convss):\n",
    "    print(str(index)+'-->'+conv['speaker']+'-------->>>>>>'+conv['text']) "
   ]
  },
  {
   "cell_type": "code",
   "execution_count": 15,
   "metadata": {},
   "outputs": [],
   "source": [
    "ana['conversation_clean'] = convss"
   ]
  },
  {
   "cell_type": "code",
   "execution_count": 16,
   "metadata": {},
   "outputs": [],
   "source": [
    "def find_previous_agent(index, convs):\n",
    "    prev = None\n",
    "    for i, conv in enumerate(convs):\n",
    "        if i == index:\n",
    "            break\n",
    "        prev = conv\n",
    "    return prev\n",
    "\n",
    "def find_next_agent(index, convs):\n",
    "    found = False\n",
    "    next_block = None\n",
    "    for i, conv in enumerate(convs):\n",
    "        next_block = conv\n",
    "        if found: \n",
    "            break\n",
    "        if i == index:\n",
    "            found = True\n",
    "    return next_block"
   ]
  },
  {
   "cell_type": "code",
   "execution_count": 63,
   "metadata": {},
   "outputs": [],
   "source": [
    "import re\n",
    "def clean_text_cypher(text):\n",
    "    p = re.compile(\"[^a-zA-Z\\\\s]\")\n",
    "    text= p.sub('', text)\n",
    "    text = text.replace('\\n', ' ').replace(\" \",\"_\")\n",
    "    text = text[:100]\n",
    "    return text"
   ]
  },
  {
   "cell_type": "code",
   "execution_count": 64,
   "metadata": {},
   "outputs": [
    {
     "name": "stdout",
     "output_type": "stream",
     "text": [
      "Some_randinm_text_but_very_long_and_heavy___so_ther_eneeds_sto_be_\n"
     ]
    }
   ],
   "source": [
    "print(clean_text_cypher('Some randinm}&554 text but very long and heavy \\n so ther eneeds sto be '))"
   ]
  },
  {
   "cell_type": "code",
   "execution_count": 73,
   "metadata": {},
   "outputs": [],
   "source": [
    "cypher = ''\n",
    "for indd, conv in enumerate(ana['conversation_clean']):\n",
    "    if conv['speaker'] == 'Agent':\n",
    "        cypher += 'create (n'+str(indd)+':agent{message:\"'+clean_text_cypher(conv[\"text\"])+'\"})'\n",
    "for indq, conv in enumerate(ana['conversation_clean']):\n",
    "    if conv['speaker'] == 'Customer':\n",
    "        cypher += 'create(n'+str(indq-1)+')-[r'+str(indq)+':'+clean_text_cypher(conv[\"text\"])+']->(n'+str(indq+1)+')'+' '\n",
    "        #cypher += 'create (n'+str(prev['index'])+':agent{message:\"'+conv[\"text\"].replace(' ','_')+'\"})'"
   ]
  },
  {
   "cell_type": "code",
   "execution_count": 74,
   "metadata": {},
   "outputs": [
    {
     "name": "stdout",
     "output_type": "stream",
     "text": [
      "<neo4j.BoltStatementResult object at 0x7f938cb847f0>\n"
     ]
    },
    {
     "data": {
      "text/plain": [
       "<neo4j.BoltStatementResult at 0x7f938cb847f0>"
      ]
     },
     "execution_count": 74,
     "metadata": {},
     "output_type": "execute_result"
    }
   ],
   "source": [
    "neo.run_query(cypher)"
   ]
  },
  {
   "cell_type": "code",
   "execution_count": 69,
   "metadata": {},
   "outputs": [
    {
     "data": {
      "text/plain": [
       "'create (n0:agent{message:\"Hi_I_am_I_speaking_to_mr_Praveen_Matthew\"})create (n2:agent{message:\"Hello_mr_Praveen_Yeah_good_morning_My_name_is_Paul_and_Im_a_learning_consultant_with_eazylearn_You_h\"})create (n4:agent{message:\"Yeah_Im_calling_in_connection_with_that_Is_it_a_good_time_to_talk_to_you_right_now\"})create (n6:agent{message:\"Sure_before_I_start_with_the_course_details_I_just_wanted_a_little_bit_about_our_background_about_yo\"})create (n8:agent{message:\"Youre_in_Bangalore_Okay_thats_great__beautiful_weather_right_now_in_Bangalore_its_only__degree_i_bel\"})create (n10:agent{message:\"and_you_would_have_been_really_excited_that_our_RCB_won_against_CSK_Yesterday_by_just_wondering_\"})create (n12:agent{message:\"Great_Are_you_a_student_or_are_you_working\"})create (n14:agent{message:\"Youre_working_Is_it_great_Which_company_do_you_work_with\"})create (n16:agent{message:\"Of_course_Yes_tonic_cosmetics_And_how_long_have_you_been_with_them_\"})create (n18:agent{message:\"Great_three_years_with_on_and_what_is_your_role_over_there__\"})create (n20:agent{message:\"It_and_just_curious_why_you_looking_for_a_course_like_this_\"})create (n22:agent{message:\"Okay_Im_sorry_to_hear_about_that_how_I_actually_think_youre_doing_the_right_thing_now_because_youre_\"})create (n24:agent{message:\"Sure_Let_me_just_run_you_through_the_Particular_made_the_moment_the_what_we_cover_in_this_is_pretty_\"})create (n26:agent{message:\"oh_no_dont_worry_about_the_fact_that_its_online_especially_in_Bangalore_thats_the_trend_right_now_co\"})create (n28:agent{message:\"The_price_of_the_course_including_GST_is__lakh__\"})create (n30:agent{message:\"See_simplifast_the_content_is_pretty_average_Thats_its_not_a_live_session_Its_only_sand_content_whic\"})create (n32:agent{message:\"Yes_we_do_So_upfront_You_only_have_to_pay_us___and_the_rest_put_in_installments_of__You_can_pay_and_\"})create (n34:agent{message:\"Yes_actually_we_have_what_is_your_current_CTC\"})create (n36:agent{message:\"Okay_youll_be_glad_to_know_that_actually_our_placement_over_the_last_couple_of_batches_has_been_abou\"})create (n38:agent{message:\"Can_I_go_ahead_and_go_do_for_this_course\"})create (n40:agent{message:\"Would_you_like_me_to_call_you_back_and_get_you\"})create (n42:agent{message:\"What_time_would_you_like_a_call_back_tomorrow\"})create (n44:agent{message:\"sure_let_me_let_me_go_back_to__This_I_will_I_will_send_you_a_brochure_as_well_Okay_and_we_can_we_can\"})create (n46:agent{message:\"Email_the_brochure_cost_you_thank_you_very_much_for_your_time_It_was_really_nice_talking_to_you_toda\"})create(n0)-[r1:Yeah_this_is_Praveen__Whos_calling]->(n2) create(n3)-[r4:Yeah_yeah]->(n5) create(n5)-[r6:Yeah_yeah_Yeah_please_continue_Like_I_wanted_I_had_inquired_about_that_course_I_want_to_know_about_t]->(n7) create(n6)-[r7:I_want_to_know_about_that_Yeah]->(n8) create(n8)-[r9:Im_Im_Im_in_Bangalore_right_now]->(n10) create(n11)-[r12:Haha_yeah_but_you_know_still_because_of_all_this_global_warming_Its_getting_hotter_like_day_by_day]->(n13) create(n13)-[r14:Yeah_II_finally_they_won_again]->(n15) create(n15)-[r16:Im_working_right_now]->(n17) create(n17)-[r18:Its_a_company_called_tonic_I_think_you_must_have_you_might_have_heard_about_it_They_are_into_the_Cos]->(n19) create(n18)-[r19:They_are_into_the_Cosmetic_space_and_all_that_you_know_like_they_sell_cosmetic_products_and_all_that]->(n20) create(n20)-[r21:I_dont_no_its_be_like__years_now_Ive_finished_my_masters_and_I_joined_in_there_Both_Ive_been_working]->(n22) create(n21)-[r22:Both_Ive_been_working_there_for_almost_three_years_now]->(n23) create(n23)-[r24:Im_actually_a_marketing_executive]->(n25) create(n25)-[r26:see_actually_like_Im_not_happy_with_the_way_my_career_is_growing_right_now_you_know_like_a_couple_of]->(n27) create(n26)-[r27:People_who_joined_in_after_me_with_juniors_In_fact_they_got_promoted_with_better_scale_and_of_pay_sc]->(n28) create(n27)-[r28:They_know_a_lot_about_all_this_digital_marketing_and_all_that]->(n29) create(n28)-[r29:So_thats_why_they_got_promoted]->(n30) create(n29)-[r30:So_I_thought_like_okay_its_time_for_me_to_upgrade_my_skill_also_take_an_eye_opener]->(n31) create(n30)-[r31:I_said_okay_fine_Let_me_update_my_skills_and_I_was_like_okay_digital_marketing_and_all_that_so_I_tho]->(n32) create(n31)-[r32:I_figured_out_that_I_was_just_taking_out_the_website_and_eazylearn_date_come_up]->(n33) create(n32)-[r33:So_thats_what_I_want_to_think_but_I_want_to_join_this_course_thats_why_]->(n34) create(n38)-[r39:Yeah_yeah_Yeah_So_what_is_the_curriculum_What_is_the_price_curriculum_and_all_that]->(n40) create(n42)-[r43:Online_goes_like_that_wont_workoutampampampampampampnbspseeampampampampampampnbsp_like_we_could_see_]->(n44) create(n43)-[r44:I_didnt_like_it_you_know]->(n45) create(n44)-[r45:all_course_and_all_that]->(n46) create(n45)-[r46:Can_we_do_you_have_any_regular_contact_program_something_like_that]->(n47) create(n50)-[r51:Oh_so_okay_That_sounds_fine_But_so_what_is_the_prices_and_other_what_is_the_price]->(n52) create(n53)-[r54:_lakh__Come_on_man_Simplifast_and_on_its_only_how_much_its_only_like___thousand_but_this_is_very_exp]->(n55) create(n54)-[r55:Simplifast_and_on_its_only_how_much_its_only_like___thousand_but_this_is_very_expensive]->(n56) create(n58)-[r59:Okay_so_its_going_to_be_an_online_instructor_close_so_see_right_now_Okay_I_understand_all_this_but_i]->(n60) create(n59)-[r60:Okay_I_understand_all_this_but_its_still_very_expensive_Do_you_have_any]->(n61) create(n60)-[r61:Installment_in_the_something_like_that]->(n62) create(n64)-[r65:Okay_sounds_great_So_see_right_now_Im_working_but_I_would_want_to_know_what_is_the_placement_opportu]->(n66) create(n65)-[r66:Do_you_have_any_placement_or_type_up_or_something_like_that]->(n67) create(n67)-[r68:Its__lakh_per_annum_but_I_know]->(n69) create(n75)-[r76:Okay_Okay_Yeah_that_sounds_interesting]->(n77) create(n77)-[r78:Yeah_but_not_today]->(n79) create(n79)-[r80:Okay_how_about_tomorrow_Yeah_Yeah_tomorrow_will_be_fine]->(n81) create(n81)-[r82:say_at_I_say_its_around_ampampampampampnbsp_]->(n83) create(n82)-[r83:I_say_its_around_ampampampampampnbsp_]->(n84) create(n86)-[r87:Yeah_yeah_sure_Sure]->(n88) create(n88)-[r89:Yeah_yeah_Thank_you]->(n90) '"
      ]
     },
     "execution_count": 69,
     "metadata": {},
     "output_type": "execute_result"
    }
   ],
   "source": [
    "cypher"
   ]
  },
  {
   "cell_type": "code",
   "execution_count": 71,
   "metadata": {},
   "outputs": [
    {
     "name": "stdout",
     "output_type": "stream",
     "text": [
      "0-->Agent-------->>>>>>Hi, I am I speaking to mr. Praveen Matthew.\n",
      "1-->Customer-------->>>>>>Yeah, this is Praveen . Whos calling?\n",
      "2-->Agent-------->>>>>>Hello, mr. Praveen. Yeah, good morning. My name is Paul and I''m a learning consultant with eazylearn.\n",
      "You had you had inquired last week on a website about a digital marketing associate course, and I''m calling.\n",
      "3-->Customer-------->>>>>>Yeah, yeah.\n",
      "4-->Agent-------->>>>>>Yeah, I''m calling in connection with that. Is it a good time to talk to you right now?\n",
      "5-->Customer-------->>>>>>Yeah, yeah. Yeah, please continue. Like I wanted I had inquired about that course.\n",
      "I want to know about that. Yeah.\n",
      "6-->Agent-------->>>>>>Sure, before I start with the course details. I just wanted a little bit about our background about yourself. Where are you based at the moment&amp;amp;amp;amp;amp;amp;nbsp;\n",
      "7-->Customer-------->>>>>>I'm I''m I''m in Bangalore right now.\n",
      "8-->Agent-------->>>>>>You're in Bangalore. Okay, that''s great. \n",
      "beautiful weather right now in Bangalore, its only 28 degree i believe \n",
      "9-->Customer-------->>>>>>Haha, yeah, but you know still because of all this global warming. It''s getting hotter like day by day.\n",
      "10-->Agent-------->>>>>>and you would have been really excited that our RCB won against CSK Yesterday by just wondering \n",
      "11-->Customer-------->>>>>>Yeah, II finally they won again.\n",
      "12-->Agent-------->>>>>>Great. Are you a student or are you working?\n",
      "13-->Customer-------->>>>>>I''m working right now.\n",
      "14-->Agent-------->>>>>>You''re working. Is it great? Which company do you work with?\n",
      "15-->Customer-------->>>>>>It''s a company called tonic. I think you must have you might have heard about it.\n",
      "They are into the Cosmetic space and all that, you know, like they sell cosmetic products and all that. Yeah.\n",
      "16-->Agent-------->>>>>>Of course. Yes tonic cosmetics. And how long have you been with them? \n",
      "17-->Customer-------->>>>>>I don't no, its be like 3 years now. I''ve finished my masters and I joined in there.\n",
      "Both I've been working there for almost three years now.\n",
      "18-->Agent-------->>>>>>Great three years with on and what is your role over there?  \n",
      "19-->Customer-------->>>>>>I''m actually a marketing executive.\n",
      "20-->Agent-------->>>>>>It and just curious why you looking for a course like this. \n",
      "21-->Customer-------->>>>>>see actually like I'm not happy with the way my career is growing right now, you know like a couple of My.\n",
      "People who joined in after me with juniors. In fact, they got promoted with better scale and of pay scale and all that, you know, like that''s because\n",
      "They know a lot about all this digital marketing and all that.\n",
      "So that''s why they got promoted.\n",
      "So I thought like okay, it''s time for me to upgrade my skill also take an eye opener.\n",
      "I said okay fine. Let me update my skills and I was like, okay digital marketing and all that so I thought\n",
      "I figured out that I was just taking out the website and eazylearn date come up.\n",
      "So that's what I want to think but I want to join this course that''s why .\n",
      "22-->Agent-------->>>>>>Okay, I''m sorry to hear about that how I actually think you''re doing the right thing now because you''re taking this course up. This is actually the\n",
      "well that goes to get you that promotion that you\n",
      "and\n",
      "I think the course is exactly what \n",
      "You need because it''s designed for working professionals. Can I take you through it?\n",
      "23-->Customer-------->>>>>>Yeah, yeah. Yeah. So what is the curriculum? What is the price curriculum and all that?\n",
      "24-->Agent-------->>>>>>Sure. Let me just run you through the\n",
      "Particular made the moment the what we cover in this is pretty elaborate. So we do search engine optimization social media marketing web analytics Google analytics search advertising display advertising using ads video advertising using YouTube. So it''s pretty elaborate and it''s a hundred our course and it''s completely online.\n",
      "So you don''t have to worry about?\n",
      "25-->Customer-------->>>>>>Online goes like that wont workout&amp;amp;amp;amp;amp;amp;nbsp;see&amp;amp;amp;amp;amp;amp;nbsp; like we could see I checked out online courses.\n",
      "I didnt like it, you know.\n",
      "all course and all that.\n",
      "Can we do you have any regular contact program something like that?\n",
      "26-->Agent-------->>>>>>oh, no, don't worry about the fact that it''s online, especially in Bangalore that''s the trend right now considering the traffic in Bangalore and plus the fact that you''re working once you come back you might be tired in the evening so in \n",
      "The online course that we use we have a platform which is called the next platform and it''s a pretty interactive system. So you have a live instructor on the other end and it''s a it''s a live session and it''s an interactive session you can ask the\n",
      "chats which you can have with your other other people in the group are colleagues and plus a classes are recorded So, it's awesome that you can just play it anytime anywhere in case you miss out on those classes. So that''s a really \n",
      "awesome feature that we have\n",
      "27-->Customer-------->>>>>>Oh, so okay. That sounds fine. But so what is the prices and other what is the price?\n",
      "28-->Agent-------->>>>>>The price of the course including GST is 1 lakh.\n",
      "24000 787\n",
      "29-->Customer-------->>>>>>1 lakh 24,000. Come on, man.\n",
      "Simplifast and on it''s only how much it''s only like 75 80 thousand, but this is very expensive.\n",
      "30-->Agent-------->>>>>>See simplifast the content is pretty average. That''s it''s not a live session. It''s only sand content which is loaded onto a tablet in giving across to you over here. You actually have a live instructor.\n",
      "Who''s training you on this course and also the one which you can interact with them and you can also interact with your other colleagues and plus it''s recorded as well. So in case you miss out on sessions, you can always come back and listen to it.\n",
      "Do you have the best of both worlds right?\n",
      "31-->Customer-------->>>>>>Okay, so it''s going to be an online instructor close so see right now.\n",
      "Okay, I understand all this but it''s still very expensive. Do you have any?\n",
      "Installment in the something like that.\n",
      "32-->Agent-------->>>>>>Yes, we do. So upfront. You only have to pay us 24,000 787 and the rest put in installments of 25,000. You can pay and plus. \n",
      "We have tied up with banks. So you will get interest-free loans available from these Banks and you should be eligible because you are.\n",
      "Working professional you should be eligible for those.\n",
      "33-->Customer-------->>>>>>Okay, sounds great. So see right now I'm working but I would want to know what is the placement opportunities and all that\n",
      "Do you have any placement? or type up or something like that?\n",
      "34-->Agent-------->>>>>>Yes, actually we have what is your current CTC\n",
      "35-->Customer-------->>>>>>It's 4 lakh per annum, but I know.\n",
      "36-->Agent-------->>>>>>Okay, you''ll be glad to know that actually our placement over the last couple of batches has been about 85% of the batch and the average salary is that these graduates are who finished these courses are getting from this particular course is about 6 to 8 lakhs and considering that you have about three years of work experience.\n",
      "I estimate that you should be able to get about 8 lakhs in this that basically means.\n",
      "That you will be able to pay off.\n",
      "Now this price of this course within a couple of months itself. And another good thing about this is that we have tied up with Google.\n",
      "And this is a Google Certified digital marketing course and because because of that we have the top companies which are coming in to recruit from us companies like Amazon Flipkart. Myntra jabong swiggy HDFC, you name it? All these companies actually come in and recruit from us.\n",
      "So we have like this is recognized by them as well as one of the best courses that we have.\n",
      "because it''s Google Certified as\n",
      "37-->Customer-------->>>>>>Okay. Okay. Yeah, that sounds interesting.\n",
      "38-->Agent-------->>>>>>Can I go ahead and go do for this course?\n",
      "39-->Customer-------->>>>>>Yeah, but not today.\n",
      "40-->Agent-------->>>>>>Would you like me to call you back and get you?\n",
      "41-->Customer-------->>>>>>Okay, how about tomorrow? Yeah. Yeah tomorrow will be fine.\n",
      "42-->Agent-------->>>>>>What time would you like a call back tomorrow?\n",
      "43-->Customer-------->>>>>>say at\n",
      "I say it's around 6:60&amp;amp;amp;amp;amp;nbsp; 7?\n",
      "44-->Agent-------->>>>>>sure, let me let me go back to \n",
      "This I will I will send you a brochure as well.\n",
      "Okay, and we can we can get I''ll get back to you by around six o''clock tomorrow.\n",
      "45-->Customer-------->>>>>>Yeah, yeah, sure. Sure.\n",
      "46-->Agent-------->>>>>>Email the brochure cost you thank you very much for your time. It was really nice talking to you today.\n",
      "47-->Customer-------->>>>>>Yeah, yeah. Thank you.\n"
     ]
    }
   ],
   "source": [
    "for indd, conv in enumerate(ana['conversation_clean']):\n",
    "    print(str(indd)+'-->'+conv['speaker']+'-------->>>>>>'+conv['text']) "
   ]
  },
  {
   "cell_type": "code",
   "execution_count": 52,
   "metadata": {},
   "outputs": [
    {
     "ename": "CypherSyntaxError",
     "evalue": "Invalid input 'I': expected whitespace, comment, '|', a length specification, a property map or ']' (line 4, column 1 (offset: 182))\n\"I_want_to_know_about_t]->(n7)\"\n ^",
     "output_type": "error",
     "traceback": [
      "\u001b[0;31m---------------------------------------------------------------------------\u001b[0m",
      "\u001b[0;31mCypherSyntaxError\u001b[0m                         Traceback (most recent call last)",
      "\u001b[0;32m<ipython-input-52-158a1acc4813>\u001b[0m in \u001b[0;36m<module>\u001b[0;34m\u001b[0m\n\u001b[0;32m----> 1\u001b[0;31m \u001b[0mneo\u001b[0m\u001b[0;34m.\u001b[0m\u001b[0mrun_query\u001b[0m\u001b[0;34m(\u001b[0m\u001b[0mcypher\u001b[0m\u001b[0;34m)\u001b[0m\u001b[0;34m\u001b[0m\u001b[0;34m\u001b[0m\u001b[0m\n\u001b[0m",
      "\u001b[0;32m<ipython-input-2-f3cab87671c4>\u001b[0m in \u001b[0;36mrun_query\u001b[0;34m(self, query)\u001b[0m\n\u001b[1;32m      9\u001b[0m     \u001b[0;32mdef\u001b[0m \u001b[0mrun_query\u001b[0m\u001b[0;34m(\u001b[0m\u001b[0mself\u001b[0m\u001b[0;34m,\u001b[0m \u001b[0mquery\u001b[0m\u001b[0;34m)\u001b[0m\u001b[0;34m:\u001b[0m\u001b[0;34m\u001b[0m\u001b[0;34m\u001b[0m\u001b[0m\n\u001b[1;32m     10\u001b[0m         \u001b[0;32mwith\u001b[0m \u001b[0mself\u001b[0m\u001b[0;34m.\u001b[0m\u001b[0m_driver\u001b[0m\u001b[0;34m.\u001b[0m\u001b[0msession\u001b[0m\u001b[0;34m(\u001b[0m\u001b[0;34m)\u001b[0m \u001b[0;32mas\u001b[0m \u001b[0msession\u001b[0m\u001b[0;34m:\u001b[0m\u001b[0;34m\u001b[0m\u001b[0;34m\u001b[0m\u001b[0m\n\u001b[0;32m---> 11\u001b[0;31m             \u001b[0mgreeting\u001b[0m \u001b[0;34m=\u001b[0m \u001b[0msession\u001b[0m\u001b[0;34m.\u001b[0m\u001b[0mwrite_transaction\u001b[0m\u001b[0;34m(\u001b[0m\u001b[0mself\u001b[0m\u001b[0;34m.\u001b[0m\u001b[0m_run_query\u001b[0m\u001b[0;34m,\u001b[0m \u001b[0mquery\u001b[0m\u001b[0;34m)\u001b[0m\u001b[0;34m\u001b[0m\u001b[0;34m\u001b[0m\u001b[0m\n\u001b[0m\u001b[1;32m     12\u001b[0m             \u001b[0mprint\u001b[0m\u001b[0;34m(\u001b[0m\u001b[0mgreeting\u001b[0m\u001b[0;34m)\u001b[0m\u001b[0;34m\u001b[0m\u001b[0;34m\u001b[0m\u001b[0m\n\u001b[1;32m     13\u001b[0m             \u001b[0;32mreturn\u001b[0m \u001b[0mgreeting\u001b[0m\u001b[0;34m\u001b[0m\u001b[0;34m\u001b[0m\u001b[0m\n",
      "\u001b[0;32m~/Documents/dev/sentenceSimilarity/venv/lib/python3.6/site-packages/neo4j/__init__.py\u001b[0m in \u001b[0;36mwrite_transaction\u001b[0;34m(self, unit_of_work, *args, **kwargs)\u001b[0m\n\u001b[1;32m    712\u001b[0m     \u001b[0;32mdef\u001b[0m \u001b[0mwrite_transaction\u001b[0m\u001b[0;34m(\u001b[0m\u001b[0mself\u001b[0m\u001b[0;34m,\u001b[0m \u001b[0munit_of_work\u001b[0m\u001b[0;34m,\u001b[0m \u001b[0;34m*\u001b[0m\u001b[0margs\u001b[0m\u001b[0;34m,\u001b[0m \u001b[0;34m**\u001b[0m\u001b[0mkwargs\u001b[0m\u001b[0;34m)\u001b[0m\u001b[0;34m:\u001b[0m\u001b[0;34m\u001b[0m\u001b[0;34m\u001b[0m\u001b[0m\n\u001b[1;32m    713\u001b[0m         \u001b[0mself\u001b[0m\u001b[0;34m.\u001b[0m\u001b[0m_assert_open\u001b[0m\u001b[0;34m(\u001b[0m\u001b[0;34m)\u001b[0m\u001b[0;34m\u001b[0m\u001b[0;34m\u001b[0m\u001b[0m\n\u001b[0;32m--> 714\u001b[0;31m         \u001b[0;32mreturn\u001b[0m \u001b[0mself\u001b[0m\u001b[0;34m.\u001b[0m\u001b[0m_run_transaction\u001b[0m\u001b[0;34m(\u001b[0m\u001b[0mWRITE_ACCESS\u001b[0m\u001b[0;34m,\u001b[0m \u001b[0munit_of_work\u001b[0m\u001b[0;34m,\u001b[0m \u001b[0;34m*\u001b[0m\u001b[0margs\u001b[0m\u001b[0;34m,\u001b[0m \u001b[0;34m**\u001b[0m\u001b[0mkwargs\u001b[0m\u001b[0;34m)\u001b[0m\u001b[0;34m\u001b[0m\u001b[0;34m\u001b[0m\u001b[0m\n\u001b[0m\u001b[1;32m    715\u001b[0m \u001b[0;34m\u001b[0m\u001b[0m\n\u001b[1;32m    716\u001b[0m     \u001b[0;32mdef\u001b[0m \u001b[0m_assert_open\u001b[0m\u001b[0;34m(\u001b[0m\u001b[0mself\u001b[0m\u001b[0;34m)\u001b[0m\u001b[0;34m:\u001b[0m\u001b[0;34m\u001b[0m\u001b[0;34m\u001b[0m\u001b[0m\n",
      "\u001b[0;32m~/Documents/dev/sentenceSimilarity/venv/lib/python3.6/site-packages/neo4j/__init__.py\u001b[0m in \u001b[0;36m_run_transaction\u001b[0;34m(self, access_mode, unit_of_work, *args, **kwargs)\u001b[0m\n\u001b[1;32m    684\u001b[0m                         \u001b[0mtx\u001b[0m\u001b[0;34m.\u001b[0m\u001b[0msuccess\u001b[0m \u001b[0;34m=\u001b[0m \u001b[0;32mTrue\u001b[0m\u001b[0;34m\u001b[0m\u001b[0;34m\u001b[0m\u001b[0m\n\u001b[1;32m    685\u001b[0m                 \u001b[0;32mfinally\u001b[0m\u001b[0;34m:\u001b[0m\u001b[0;34m\u001b[0m\u001b[0;34m\u001b[0m\u001b[0m\n\u001b[0;32m--> 686\u001b[0;31m                     \u001b[0mtx\u001b[0m\u001b[0;34m.\u001b[0m\u001b[0mclose\u001b[0m\u001b[0;34m(\u001b[0m\u001b[0;34m)\u001b[0m\u001b[0;34m\u001b[0m\u001b[0;34m\u001b[0m\u001b[0m\n\u001b[0m\u001b[1;32m    687\u001b[0m             \u001b[0;32mexcept\u001b[0m \u001b[0;34m(\u001b[0m\u001b[0mServiceUnavailable\u001b[0m\u001b[0;34m,\u001b[0m \u001b[0mSessionExpired\u001b[0m\u001b[0;34m,\u001b[0m \u001b[0mConnectionExpired\u001b[0m\u001b[0;34m)\u001b[0m \u001b[0;32mas\u001b[0m \u001b[0merror\u001b[0m\u001b[0;34m:\u001b[0m\u001b[0;34m\u001b[0m\u001b[0;34m\u001b[0m\u001b[0m\n\u001b[1;32m    688\u001b[0m                 \u001b[0merrors\u001b[0m\u001b[0;34m.\u001b[0m\u001b[0mappend\u001b[0m\u001b[0;34m(\u001b[0m\u001b[0merror\u001b[0m\u001b[0;34m)\u001b[0m\u001b[0;34m\u001b[0m\u001b[0;34m\u001b[0m\u001b[0m\n",
      "\u001b[0;32m~/Documents/dev/sentenceSimilarity/venv/lib/python3.6/site-packages/neo4j/__init__.py\u001b[0m in \u001b[0;36mclose\u001b[0;34m(self)\u001b[0m\n\u001b[1;32m    826\u001b[0m         \u001b[0mself\u001b[0m\u001b[0;34m.\u001b[0m\u001b[0m_assert_open\u001b[0m\u001b[0;34m(\u001b[0m\u001b[0;34m)\u001b[0m\u001b[0;34m\u001b[0m\u001b[0;34m\u001b[0m\u001b[0m\n\u001b[1;32m    827\u001b[0m         \u001b[0;32mtry\u001b[0m\u001b[0;34m:\u001b[0m\u001b[0;34m\u001b[0m\u001b[0;34m\u001b[0m\u001b[0m\n\u001b[0;32m--> 828\u001b[0;31m             \u001b[0mself\u001b[0m\u001b[0;34m.\u001b[0m\u001b[0msync\u001b[0m\u001b[0;34m(\u001b[0m\u001b[0;34m)\u001b[0m\u001b[0;34m\u001b[0m\u001b[0;34m\u001b[0m\u001b[0m\n\u001b[0m\u001b[1;32m    829\u001b[0m         \u001b[0;32mexcept\u001b[0m \u001b[0mCypherError\u001b[0m\u001b[0;34m:\u001b[0m\u001b[0;34m\u001b[0m\u001b[0;34m\u001b[0m\u001b[0m\n\u001b[1;32m    830\u001b[0m             \u001b[0mself\u001b[0m\u001b[0;34m.\u001b[0m\u001b[0msuccess\u001b[0m \u001b[0;34m=\u001b[0m \u001b[0;32mFalse\u001b[0m\u001b[0;34m\u001b[0m\u001b[0;34m\u001b[0m\u001b[0m\n",
      "\u001b[0;32m~/Documents/dev/sentenceSimilarity/venv/lib/python3.6/site-packages/neo4j/__init__.py\u001b[0m in \u001b[0;36msync\u001b[0;34m(self)\u001b[0m\n\u001b[1;32m    791\u001b[0m         \"\"\"\n\u001b[1;32m    792\u001b[0m         \u001b[0mself\u001b[0m\u001b[0;34m.\u001b[0m\u001b[0m_assert_open\u001b[0m\u001b[0;34m(\u001b[0m\u001b[0;34m)\u001b[0m\u001b[0;34m\u001b[0m\u001b[0;34m\u001b[0m\u001b[0m\n\u001b[0;32m--> 793\u001b[0;31m         \u001b[0mself\u001b[0m\u001b[0;34m.\u001b[0m\u001b[0msession\u001b[0m\u001b[0;34m.\u001b[0m\u001b[0msync\u001b[0m\u001b[0;34m(\u001b[0m\u001b[0;34m)\u001b[0m\u001b[0;34m\u001b[0m\u001b[0;34m\u001b[0m\u001b[0m\n\u001b[0m\u001b[1;32m    794\u001b[0m \u001b[0;34m\u001b[0m\u001b[0m\n\u001b[1;32m    795\u001b[0m     \u001b[0;32mdef\u001b[0m \u001b[0mcommit\u001b[0m\u001b[0;34m(\u001b[0m\u001b[0mself\u001b[0m\u001b[0;34m)\u001b[0m\u001b[0;34m:\u001b[0m\u001b[0;34m\u001b[0m\u001b[0;34m\u001b[0m\u001b[0m\n",
      "\u001b[0;32m~/Documents/dev/sentenceSimilarity/venv/lib/python3.6/site-packages/neo4j/__init__.py\u001b[0m in \u001b[0;36msync\u001b[0;34m(self)\u001b[0m\n\u001b[1;32m    536\u001b[0m         \u001b[0;32mif\u001b[0m \u001b[0mself\u001b[0m\u001b[0;34m.\u001b[0m\u001b[0m_connection\u001b[0m\u001b[0;34m:\u001b[0m\u001b[0;34m\u001b[0m\u001b[0;34m\u001b[0m\u001b[0m\n\u001b[1;32m    537\u001b[0m             \u001b[0;32mtry\u001b[0m\u001b[0;34m:\u001b[0m\u001b[0;34m\u001b[0m\u001b[0;34m\u001b[0m\u001b[0m\n\u001b[0;32m--> 538\u001b[0;31m                 \u001b[0mdetail_count\u001b[0m\u001b[0;34m,\u001b[0m \u001b[0m_\u001b[0m \u001b[0;34m=\u001b[0m \u001b[0mself\u001b[0m\u001b[0;34m.\u001b[0m\u001b[0m_connection\u001b[0m\u001b[0;34m.\u001b[0m\u001b[0msync\u001b[0m\u001b[0;34m(\u001b[0m\u001b[0;34m)\u001b[0m\u001b[0;34m\u001b[0m\u001b[0;34m\u001b[0m\u001b[0m\n\u001b[0m\u001b[1;32m    539\u001b[0m             \u001b[0;32mexcept\u001b[0m \u001b[0mConnectionExpired\u001b[0m \u001b[0;32mas\u001b[0m \u001b[0merror\u001b[0m\u001b[0;34m:\u001b[0m\u001b[0;34m\u001b[0m\u001b[0;34m\u001b[0m\u001b[0m\n\u001b[1;32m    540\u001b[0m                 \u001b[0;32mraise\u001b[0m \u001b[0mSessionExpired\u001b[0m\u001b[0;34m(\u001b[0m\u001b[0;34m*\u001b[0m\u001b[0merror\u001b[0m\u001b[0;34m.\u001b[0m\u001b[0margs\u001b[0m\u001b[0;34m)\u001b[0m\u001b[0;34m\u001b[0m\u001b[0;34m\u001b[0m\u001b[0m\n",
      "\u001b[0;32m~/Documents/dev/sentenceSimilarity/venv/lib/python3.6/site-packages/neobolt/direct.py\u001b[0m in \u001b[0;36msync\u001b[0;34m(self)\u001b[0m\n\u001b[1;32m    529\u001b[0m             \u001b[0mresponse\u001b[0m \u001b[0;34m=\u001b[0m \u001b[0mself\u001b[0m\u001b[0;34m.\u001b[0m\u001b[0mresponses\u001b[0m\u001b[0;34m[\u001b[0m\u001b[0;36m0\u001b[0m\u001b[0;34m]\u001b[0m\u001b[0;34m\u001b[0m\u001b[0;34m\u001b[0m\u001b[0m\n\u001b[1;32m    530\u001b[0m             \u001b[0;32mwhile\u001b[0m \u001b[0;32mnot\u001b[0m \u001b[0mresponse\u001b[0m\u001b[0;34m.\u001b[0m\u001b[0mcomplete\u001b[0m\u001b[0;34m:\u001b[0m\u001b[0;34m\u001b[0m\u001b[0;34m\u001b[0m\u001b[0m\n\u001b[0;32m--> 531\u001b[0;31m                 \u001b[0mdetail_delta\u001b[0m\u001b[0;34m,\u001b[0m \u001b[0msummary_delta\u001b[0m \u001b[0;34m=\u001b[0m \u001b[0mself\u001b[0m\u001b[0;34m.\u001b[0m\u001b[0mfetch\u001b[0m\u001b[0;34m(\u001b[0m\u001b[0;34m)\u001b[0m\u001b[0;34m\u001b[0m\u001b[0;34m\u001b[0m\u001b[0m\n\u001b[0m\u001b[1;32m    532\u001b[0m                 \u001b[0mdetail_count\u001b[0m \u001b[0;34m+=\u001b[0m \u001b[0mdetail_delta\u001b[0m\u001b[0;34m\u001b[0m\u001b[0;34m\u001b[0m\u001b[0m\n\u001b[1;32m    533\u001b[0m                 \u001b[0msummary_count\u001b[0m \u001b[0;34m+=\u001b[0m \u001b[0msummary_delta\u001b[0m\u001b[0;34m\u001b[0m\u001b[0;34m\u001b[0m\u001b[0m\n",
      "\u001b[0;32m~/Documents/dev/sentenceSimilarity/venv/lib/python3.6/site-packages/neobolt/direct.py\u001b[0m in \u001b[0;36mfetch\u001b[0;34m(self)\u001b[0m\n\u001b[1;32m    420\u001b[0m     \u001b[0;32mdef\u001b[0m \u001b[0mfetch\u001b[0m\u001b[0;34m(\u001b[0m\u001b[0mself\u001b[0m\u001b[0;34m)\u001b[0m\u001b[0;34m:\u001b[0m\u001b[0;34m\u001b[0m\u001b[0;34m\u001b[0m\u001b[0m\n\u001b[1;32m    421\u001b[0m         \u001b[0;32mtry\u001b[0m\u001b[0;34m:\u001b[0m\u001b[0;34m\u001b[0m\u001b[0;34m\u001b[0m\u001b[0m\n\u001b[0;32m--> 422\u001b[0;31m             \u001b[0;32mreturn\u001b[0m \u001b[0mself\u001b[0m\u001b[0;34m.\u001b[0m\u001b[0m_fetch\u001b[0m\u001b[0;34m(\u001b[0m\u001b[0;34m)\u001b[0m\u001b[0;34m\u001b[0m\u001b[0;34m\u001b[0m\u001b[0m\n\u001b[0m\u001b[1;32m    423\u001b[0m         \u001b[0;32mexcept\u001b[0m \u001b[0mself\u001b[0m\u001b[0;34m.\u001b[0m\u001b[0merror_handler\u001b[0m\u001b[0;34m.\u001b[0m\u001b[0mknown_errors\u001b[0m \u001b[0;32mas\u001b[0m \u001b[0merror\u001b[0m\u001b[0;34m:\u001b[0m\u001b[0;34m\u001b[0m\u001b[0;34m\u001b[0m\u001b[0m\n\u001b[1;32m    424\u001b[0m             \u001b[0mself\u001b[0m\u001b[0;34m.\u001b[0m\u001b[0merror_handler\u001b[0m\u001b[0;34m.\u001b[0m\u001b[0mhandle\u001b[0m\u001b[0;34m(\u001b[0m\u001b[0merror\u001b[0m\u001b[0;34m,\u001b[0m \u001b[0mself\u001b[0m\u001b[0;34m.\u001b[0m\u001b[0munresolved_address\u001b[0m\u001b[0;34m)\u001b[0m\u001b[0;34m\u001b[0m\u001b[0;34m\u001b[0m\u001b[0m\n",
      "\u001b[0;32m~/Documents/dev/sentenceSimilarity/venv/lib/python3.6/site-packages/neobolt/direct.py\u001b[0m in \u001b[0;36m_fetch\u001b[0;34m(self)\u001b[0m\n\u001b[1;32m    462\u001b[0m         \u001b[0;32melif\u001b[0m \u001b[0msummary_signature\u001b[0m \u001b[0;34m==\u001b[0m \u001b[0;34mb\"\\x7F\"\u001b[0m\u001b[0;34m:\u001b[0m\u001b[0;34m\u001b[0m\u001b[0;34m\u001b[0m\u001b[0m\n\u001b[1;32m    463\u001b[0m             \u001b[0mlog_debug\u001b[0m\u001b[0;34m(\u001b[0m\u001b[0;34m\"[#%04X]  S: FAILURE %r\"\u001b[0m\u001b[0;34m,\u001b[0m \u001b[0mself\u001b[0m\u001b[0;34m.\u001b[0m\u001b[0mlocal_port\u001b[0m\u001b[0;34m,\u001b[0m \u001b[0msummary_metadata\u001b[0m\u001b[0;34m)\u001b[0m\u001b[0;34m\u001b[0m\u001b[0;34m\u001b[0m\u001b[0m\n\u001b[0;32m--> 464\u001b[0;31m             \u001b[0mresponse\u001b[0m\u001b[0;34m.\u001b[0m\u001b[0mon_failure\u001b[0m\u001b[0;34m(\u001b[0m\u001b[0msummary_metadata\u001b[0m \u001b[0;32mor\u001b[0m \u001b[0;34m{\u001b[0m\u001b[0;34m}\u001b[0m\u001b[0;34m)\u001b[0m\u001b[0;34m\u001b[0m\u001b[0;34m\u001b[0m\u001b[0m\n\u001b[0m\u001b[1;32m    465\u001b[0m         \u001b[0;32melse\u001b[0m\u001b[0;34m:\u001b[0m\u001b[0;34m\u001b[0m\u001b[0;34m\u001b[0m\u001b[0m\n\u001b[1;32m    466\u001b[0m             \u001b[0;32mraise\u001b[0m \u001b[0mProtocolError\u001b[0m\u001b[0;34m(\u001b[0m\u001b[0;34m\"Unexpected response message with signature %02X\"\u001b[0m \u001b[0;34m%\u001b[0m \u001b[0msummary_signature\u001b[0m\u001b[0;34m)\u001b[0m\u001b[0;34m\u001b[0m\u001b[0;34m\u001b[0m\u001b[0m\n",
      "\u001b[0;32m~/Documents/dev/sentenceSimilarity/venv/lib/python3.6/site-packages/neobolt/direct.py\u001b[0m in \u001b[0;36mon_failure\u001b[0;34m(self, metadata)\u001b[0m\n\u001b[1;32m    757\u001b[0m         \u001b[0;32mif\u001b[0m \u001b[0mcallable\u001b[0m\u001b[0;34m(\u001b[0m\u001b[0mhandler\u001b[0m\u001b[0;34m)\u001b[0m\u001b[0;34m:\u001b[0m\u001b[0;34m\u001b[0m\u001b[0;34m\u001b[0m\u001b[0m\n\u001b[1;32m    758\u001b[0m             \u001b[0mhandler\u001b[0m\u001b[0;34m(\u001b[0m\u001b[0;34m)\u001b[0m\u001b[0;34m\u001b[0m\u001b[0;34m\u001b[0m\u001b[0m\n\u001b[0;32m--> 759\u001b[0;31m         \u001b[0;32mraise\u001b[0m \u001b[0mCypherError\u001b[0m\u001b[0;34m.\u001b[0m\u001b[0mhydrate\u001b[0m\u001b[0;34m(\u001b[0m\u001b[0;34m**\u001b[0m\u001b[0mmetadata\u001b[0m\u001b[0;34m)\u001b[0m\u001b[0;34m\u001b[0m\u001b[0;34m\u001b[0m\u001b[0m\n\u001b[0m\u001b[1;32m    760\u001b[0m \u001b[0;34m\u001b[0m\u001b[0m\n\u001b[1;32m    761\u001b[0m     \u001b[0;32mdef\u001b[0m \u001b[0mon_ignored\u001b[0m\u001b[0;34m(\u001b[0m\u001b[0mself\u001b[0m\u001b[0;34m,\u001b[0m \u001b[0mmetadata\u001b[0m\u001b[0;34m=\u001b[0m\u001b[0;32mNone\u001b[0m\u001b[0;34m)\u001b[0m\u001b[0;34m:\u001b[0m\u001b[0;34m\u001b[0m\u001b[0;34m\u001b[0m\u001b[0m\n",
      "\u001b[0;31mCypherSyntaxError\u001b[0m: Invalid input 'I': expected whitespace, comment, '|', a length specification, a property map or ']' (line 4, column 1 (offset: 182))\n\"I_want_to_know_about_t]->(n7)\"\n ^"
     ]
    }
   ],
   "source": [
    "neo.run_query(cypher)"
   ]
  },
  {
   "cell_type": "code",
   "execution_count": 53,
   "metadata": {
    "scrolled": true
   },
   "outputs": [
    {
     "data": {
      "text/plain": [
       "'create(n0)-[r1:Yeah_this_is_Praveen__Whos_calling]->(n2)\\ncreate(n3)-[r4:Yeah_yeah]->(n5)\\ncreate(n5)-[r6:Yeah_yeah_Yeah_please_continue_Like_I_wanted_I_had_inquired_about_that_course\\nI_want_to_know_about_t]->(n7)\\ncreate(n6)-[r7:I_want_to_know_about_that_Yeah]->(n8)\\ncreate(n8)-[r9:Im_Im_Im_in_Bangalore_right_now]->(n10)\\ncreate(n11)-[r12:Haha_yeah_but_you_know_still_because_of_all_this_global_warming_Its_getting_hotter_like_day_by_day]->(n13)\\ncreate(n13)-[r14:Yeah_II_finally_they_won_again]->(n15)\\ncreate(n15)-[r16:Im_working_right_now]->(n17)\\ncreate(n17)-[r18:Its_a_company_called_tonic_I_think_you_must_have_you_might_have_heard_about_it\\nThey_are_into_the_Cos]->(n19)\\ncreate(n18)-[r19:They_are_into_the_Cosmetic_space_and_all_that_you_know_like_they_sell_cosmetic_products_and_all_that]->(n20)\\ncreate(n20)-[r21:I_dont_no_its_be_like__years_now_Ive_finished_my_masters_and_I_joined_in_there\\nBoth_Ive_been_working]->(n22)\\ncreate(n21)-[r22:Both_Ive_been_working_there_for_almost_three_years_now]->(n23)\\ncreate(n23)-[r24:Im_actually_a_marketing_executive]->(n25)\\ncreate(n25)-[r26:see_actually_like_Im_not_happy_with_the_way_my_career_is_growing_right_now_you_know_like_a_couple_of]->(n27)\\ncreate(n26)-[r27:People_who_joined_in_after_me_with_juniors_In_fact_they_got_promoted_with_better_scale_and_of_pay_sc]->(n28)\\ncreate(n27)-[r28:They_know_a_lot_about_all_this_digital_marketing_and_all_that]->(n29)\\ncreate(n28)-[r29:So_thats_why_they_got_promoted]->(n30)\\ncreate(n29)-[r30:So_I_thought_like_okay_its_time_for_me_to_upgrade_my_skill_also_take_an_eye_opener]->(n31)\\ncreate(n30)-[r31:I_said_okay_fine_Let_me_update_my_skills_and_I_was_like_okay_digital_marketing_and_all_that_so_I_tho]->(n32)\\ncreate(n31)-[r32:I_figured_out_that_I_was_just_taking_out_the_website_and_eazylearn_date_come_up]->(n33)\\ncreate(n32)-[r33:So_thats_what_I_want_to_think_but_I_want_to_join_this_course_thats_why_]->(n34)\\ncreate(n38)-[r39:Yeah_yeah_Yeah_So_what_is_the_curriculum_What_is_the_price_curriculum_and_all_that]->(n40)\\ncreate(n42)-[r43:Online_goes_like_that_wont_workoutampampampampampampnbspseeampampampampampampnbsp_like_we_could_see_]->(n44)\\ncreate(n43)-[r44:I_didnt_like_it_you_know]->(n45)\\ncreate(n44)-[r45:all_course_and_all_that]->(n46)\\ncreate(n45)-[r46:Can_we_do_you_have_any_regular_contact_program_something_like_that]->(n47)\\ncreate(n50)-[r51:Oh_so_okay_That_sounds_fine_But_so_what_is_the_prices_and_other_what_is_the_price]->(n52)\\ncreate(n53)-[r54:_lakh__Come_on_man\\nSimplifast_and_on_its_only_how_much_its_only_like___thousand_but_this_is_very_exp]->(n55)\\ncreate(n54)-[r55:Simplifast_and_on_its_only_how_much_its_only_like___thousand_but_this_is_very_expensive]->(n56)\\ncreate(n58)-[r59:Okay_so_its_going_to_be_an_online_instructor_close_so_see_right_now\\nOkay_I_understand_all_this_but_i]->(n60)\\ncreate(n59)-[r60:Okay_I_understand_all_this_but_its_still_very_expensive_Do_you_have_any]->(n61)\\ncreate(n60)-[r61:Installment_in_the_something_like_that]->(n62)\\ncreate(n64)-[r65:Okay_sounds_great_So_see_right_now_Im_working_but_I_would_want_to_know_what_is_the_placement_opportu]->(n66)\\ncreate(n65)-[r66:Do_you_have_any_placement_or_type_up_or_something_like_that]->(n67)\\ncreate(n67)-[r68:Its__lakh_per_annum_but_I_know]->(n69)\\ncreate(n75)-[r76:Okay_Okay_Yeah_that_sounds_interesting]->(n77)\\ncreate(n77)-[r78:Yeah_but_not_today]->(n79)\\ncreate(n79)-[r80:Okay_how_about_tomorrow_Yeah_Yeah_tomorrow_will_be_fine]->(n81)\\ncreate(n81)-[r82:say_at\\nI_say_its_around_ampampampampampnbsp_]->(n83)\\ncreate(n82)-[r83:I_say_its_around_ampampampampampnbsp_]->(n84)\\ncreate(n86)-[r87:Yeah_yeah_sure_Sure]->(n88)\\ncreate(n88)-[r89:Yeah_yeah_Thank_you]->(n90)\\n'"
      ]
     },
     "execution_count": 53,
     "metadata": {},
     "output_type": "execute_result"
    }
   ],
   "source": [
    "cypher"
   ]
  },
  {
   "cell_type": "code",
   "execution_count": null,
   "metadata": {},
   "outputs": [],
   "source": []
  }
 ],
 "metadata": {
  "kernelspec": {
   "display_name": "venv",
   "language": "python",
   "name": "venv"
  },
  "language_info": {
   "codemirror_mode": {
    "name": "ipython",
    "version": 3
   },
   "file_extension": ".py",
   "mimetype": "text/x-python",
   "name": "python",
   "nbconvert_exporter": "python",
   "pygments_lexer": "ipython3",
   "version": "3.6.7"
  }
 },
 "nbformat": 4,
 "nbformat_minor": 2
}
