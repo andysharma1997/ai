{
 "cells": [
  {
   "cell_type": "markdown",
   "metadata": {
    "colab_type": "text",
    "id": "view-in-github"
   },
   "source": [
    "<a href=\"https://colab.research.google.com/gist/absin1/b90f9eba8c0dec5d0e2391253df768ee/copy-of-transfer-learning-semantic-similarity-with-tf-hub-universal-encoder.ipynb\" target=\"_parent\"><img src=\"https://colab.research.google.com/assets/colab-badge.svg\" alt=\"Open In Colab\"/></a>"
   ]
  },
  {
   "cell_type": "markdown",
   "metadata": {
    "colab_type": "text",
    "id": "co7MV6sX7Xto"
   },
   "source": [
    "# [Keras + Universal Sentence Encoder = Transfer Learning for text data](https://www.dlology.com/blog/keras-meets-universal-sentence-encoder-transfer-learning-for-text-data/) Tutorial\n",
    "## Universal Sentence Encoder"
   ]
  },
  {
   "cell_type": "markdown",
   "metadata": {
    "colab_type": "text",
    "id": "eAVQGidpL8v5"
   },
   "source": [
    "This notebook illustrates how to access the Universal Sentence Encoder and use it for sentence similarity and sentence classification tasks.\n",
    "\n",
    "The Universal Sentence Encoder makes getting sentence level embeddings as easy as it has historically been to lookup the embeddings for individual words. The sentence embeddings can then be trivially used to compute sentence level meaning similarity as well as to enable better performance on downstream classification tasks using less supervised training data.\n"
   ]
  },
  {
   "cell_type": "markdown",
   "metadata": {
    "colab_type": "text",
    "id": "pOTzp8O36CyQ"
   },
   "source": [
    "# Getting Started\n",
    "\n",
    "This section sets up the environment for access to the Universal Sentence Encoder on TF Hub and provides examples of applying the encoder to words, sentences, and paragraphs."
   ]
  },
  {
   "cell_type": "code",
   "execution_count": 1,
   "metadata": {
    "colab": {
     "base_uri": "https://localhost:8080/",
     "height": 221
    },
    "colab_type": "code",
    "id": "lVjNK8shFKOC",
    "outputId": "68ee523a-0710-4180-e9f2-9551c3644fce"
   },
   "outputs": [],
   "source": [
    "# # Install the latest Tensorflow version.\n",
    "# !pip3 install --quiet \"tensorflow>=1.7\"\n",
    "# # Install TF-Hub.\n",
    "# !pip3 install --quiet tensorflow-hub\n",
    "# !pip3 install seaborn"
   ]
  },
  {
   "cell_type": "markdown",
   "metadata": {
    "colab_type": "text",
    "id": "63Pd3nJnTl-i"
   },
   "source": [
    "More detailed information about installing Tensorflow can be found at [https://www.tensorflow.org/install/](https://www.tensorflow.org/install/)."
   ]
  },
  {
   "cell_type": "code",
   "execution_count": 2,
   "metadata": {
    "colab": {
     "base_uri": "https://localhost:8080/",
     "height": 34
    },
    "colab_type": "code",
    "id": "MSeY-MUQo2Ha",
    "outputId": "22061b32-6fab-4286-fd44-467ec32c0ea8"
   },
   "outputs": [
    {
     "name": "stderr",
     "output_type": "stream",
     "text": [
      "/home/chirag/venv/lib/python3.6/site-packages/tensorflow/python/framework/dtypes.py:516: FutureWarning: Passing (type, 1) or '1type' as a synonym of type is deprecated; in a future version of numpy, it will be understood as (type, (1,)) / '(1,)type'.\n",
      "  _np_qint8 = np.dtype([(\"qint8\", np.int8, 1)])\n",
      "/home/chirag/venv/lib/python3.6/site-packages/tensorflow/python/framework/dtypes.py:517: FutureWarning: Passing (type, 1) or '1type' as a synonym of type is deprecated; in a future version of numpy, it will be understood as (type, (1,)) / '(1,)type'.\n",
      "  _np_quint8 = np.dtype([(\"quint8\", np.uint8, 1)])\n",
      "/home/chirag/venv/lib/python3.6/site-packages/tensorflow/python/framework/dtypes.py:518: FutureWarning: Passing (type, 1) or '1type' as a synonym of type is deprecated; in a future version of numpy, it will be understood as (type, (1,)) / '(1,)type'.\n",
      "  _np_qint16 = np.dtype([(\"qint16\", np.int16, 1)])\n",
      "/home/chirag/venv/lib/python3.6/site-packages/tensorflow/python/framework/dtypes.py:519: FutureWarning: Passing (type, 1) or '1type' as a synonym of type is deprecated; in a future version of numpy, it will be understood as (type, (1,)) / '(1,)type'.\n",
      "  _np_quint16 = np.dtype([(\"quint16\", np.uint16, 1)])\n",
      "/home/chirag/venv/lib/python3.6/site-packages/tensorflow/python/framework/dtypes.py:520: FutureWarning: Passing (type, 1) or '1type' as a synonym of type is deprecated; in a future version of numpy, it will be understood as (type, (1,)) / '(1,)type'.\n",
      "  _np_qint32 = np.dtype([(\"qint32\", np.int32, 1)])\n",
      "/home/chirag/venv/lib/python3.6/site-packages/tensorflow/python/framework/dtypes.py:525: FutureWarning: Passing (type, 1) or '1type' as a synonym of type is deprecated; in a future version of numpy, it will be understood as (type, (1,)) / '(1,)type'.\n",
      "  np_resource = np.dtype([(\"resource\", np.ubyte, 1)])\n",
      "/home/chirag/venv/lib/python3.6/site-packages/tensorboard/compat/tensorflow_stub/dtypes.py:541: FutureWarning: Passing (type, 1) or '1type' as a synonym of type is deprecated; in a future version of numpy, it will be understood as (type, (1,)) / '(1,)type'.\n",
      "  _np_qint8 = np.dtype([(\"qint8\", np.int8, 1)])\n",
      "/home/chirag/venv/lib/python3.6/site-packages/tensorboard/compat/tensorflow_stub/dtypes.py:542: FutureWarning: Passing (type, 1) or '1type' as a synonym of type is deprecated; in a future version of numpy, it will be understood as (type, (1,)) / '(1,)type'.\n",
      "  _np_quint8 = np.dtype([(\"quint8\", np.uint8, 1)])\n",
      "/home/chirag/venv/lib/python3.6/site-packages/tensorboard/compat/tensorflow_stub/dtypes.py:543: FutureWarning: Passing (type, 1) or '1type' as a synonym of type is deprecated; in a future version of numpy, it will be understood as (type, (1,)) / '(1,)type'.\n",
      "  _np_qint16 = np.dtype([(\"qint16\", np.int16, 1)])\n",
      "/home/chirag/venv/lib/python3.6/site-packages/tensorboard/compat/tensorflow_stub/dtypes.py:544: FutureWarning: Passing (type, 1) or '1type' as a synonym of type is deprecated; in a future version of numpy, it will be understood as (type, (1,)) / '(1,)type'.\n",
      "  _np_quint16 = np.dtype([(\"quint16\", np.uint16, 1)])\n",
      "/home/chirag/venv/lib/python3.6/site-packages/tensorboard/compat/tensorflow_stub/dtypes.py:545: FutureWarning: Passing (type, 1) or '1type' as a synonym of type is deprecated; in a future version of numpy, it will be understood as (type, (1,)) / '(1,)type'.\n",
      "  _np_qint32 = np.dtype([(\"qint32\", np.int32, 1)])\n",
      "/home/chirag/venv/lib/python3.6/site-packages/tensorboard/compat/tensorflow_stub/dtypes.py:550: FutureWarning: Passing (type, 1) or '1type' as a synonym of type is deprecated; in a future version of numpy, it will be understood as (type, (1,)) / '(1,)type'.\n",
      "  np_resource = np.dtype([(\"resource\", np.ubyte, 1)])\n",
      "Using TensorFlow backend.\n"
     ]
    }
   ],
   "source": [
    "import tensorflow as tf\n",
    "import tensorflow_hub as hub\n",
    "import matplotlib.pyplot as plt\n",
    "import numpy as np\n",
    "import os\n",
    "import pandas as pd\n",
    "import re\n",
    "import seaborn as sns\n",
    "import keras.layers as layers\n",
    "from keras.models import Model\n",
    "from keras import backend as K\n",
    "np.random.seed(10)\n",
    "\n",
    "from bert_serving.client import BertClient\n"
   ]
  },
  {
   "cell_type": "code",
   "execution_count": 3,
   "metadata": {
    "colab": {
     "base_uri": "https://localhost:8080/",
     "height": 258
    },
    "colab_type": "code",
    "id": "MElqkcDiDKsp",
    "outputId": "4e40f6e5-8532-4f0d-83ed-04670cb5936d"
   },
   "outputs": [
    {
     "data": {
      "text/html": [
       "<div>\n",
       "<style scoped>\n",
       "    .dataframe tbody tr th:only-of-type {\n",
       "        vertical-align: middle;\n",
       "    }\n",
       "\n",
       "    .dataframe tbody tr th {\n",
       "        vertical-align: top;\n",
       "    }\n",
       "\n",
       "    .dataframe thead th {\n",
       "        text-align: right;\n",
       "    }\n",
       "</style>\n",
       "<table border=\"1\" class=\"dataframe\">\n",
       "  <thead>\n",
       "    <tr style=\"text-align: right;\">\n",
       "      <th></th>\n",
       "      <th>label</th>\n",
       "      <th>text</th>\n",
       "    </tr>\n",
       "  </thead>\n",
       "  <tbody>\n",
       "    <tr>\n",
       "      <th>26915</th>\n",
       "      <td>worry</td>\n",
       "      <td>yup our coke blades b annnd now i only need th...</td>\n",
       "    </tr>\n",
       "    <tr>\n",
       "      <th>37746</th>\n",
       "      <td>happiness</td>\n",
       "      <td>having a cup of tea i have a cold so it's tast...</td>\n",
       "    </tr>\n",
       "    <tr>\n",
       "      <th>15211</th>\n",
       "      <td>worry</td>\n",
       "      <td>sucks about your cat... hope you guys feel better</td>\n",
       "    </tr>\n",
       "    <tr>\n",
       "      <th>8556</th>\n",
       "      <td>surprise</td>\n",
       "      <td>wow their is no pancake mix</td>\n",
       "    </tr>\n",
       "    <tr>\n",
       "      <th>28397</th>\n",
       "      <td>neutral</td>\n",
       "      <td>hey there what's up?</td>\n",
       "    </tr>\n",
       "  </tbody>\n",
       "</table>\n",
       "</div>"
      ],
      "text/plain": [
       "           label                                               text\n",
       "26915      worry  yup our coke blades b annnd now i only need th...\n",
       "37746  happiness  having a cup of tea i have a cold so it's tast...\n",
       "15211      worry  sucks about your cat... hope you guys feel better\n",
       "8556    surprise                        wow their is no pancake mix\n",
       "28397    neutral                               hey there what's up?"
      ]
     },
     "execution_count": 3,
     "metadata": {},
     "output_type": "execute_result"
    }
   ],
   "source": [
    "import psycopg2\n",
    "import pandas.io.sql as sqlio\n",
    "import numpy as np\n",
    "\n",
    "def get_dataframe_sql():\n",
    "    df = None\n",
    "    sql = \"select emotion as label, text_ as text from dataset_emotion_only\"\n",
    "    con = None\n",
    "    try:\n",
    "        con = psycopg2.connect(\"host='35.200.234.61' dbname='sales' user='postgres' password='cx6ac54nmgGtLD1y'\")\n",
    "        df = sqlio.read_sql_query(sql, con)\n",
    "    except psycopg2.DatabaseError as e:\n",
    "        if con:\n",
    "            con.rollback()\n",
    "        print(e)\n",
    "        sys.exit(1)\n",
    "    finally:\n",
    "        if con:\n",
    "            con.close()\n",
    "    df = df.sample(frac=1.0)\n",
    "    df.label = df.label.astype('category')\n",
    "    return df\n",
    "  \n",
    "df = get_dataframe_sql()\n",
    "msk = np.random.rand(len(df)) < 0.8\n",
    "df_train = df[msk]\n",
    "df_test = df[~msk]\n",
    "df_train.head()"
   ]
  },
  {
   "cell_type": "code",
   "execution_count": 4,
   "metadata": {
    "colab": {
     "base_uri": "https://localhost:8080/",
     "height": 34
    },
    "colab_type": "code",
    "id": "3HAtd4X5DayF",
    "outputId": "036ef7da-6034-4d2e-de61-88352c9d4a5f"
   },
   "outputs": [
    {
     "data": {
      "text/plain": [
       "14"
      ]
     },
     "execution_count": 4,
     "metadata": {},
     "output_type": "execute_result"
    }
   ],
   "source": [
    "category_counts = len(df_train.label.cat.categories)\n",
    "category_counts"
   ]
  },
  {
   "cell_type": "code",
   "execution_count": 5,
   "metadata": {},
   "outputs": [],
   "source": [
    "bert_module = hub.Module(\"https://tfhub.dev/google/bert_multi_cased_L-12_H-768_A-12/1\", trainable=True)\n"
   ]
  },
  {
   "cell_type": "code",
   "execution_count": 6,
   "metadata": {},
   "outputs": [
    {
     "data": {
      "text/plain": [
       "['mlm', 'tokens', 'tokenization_info']"
      ]
     },
     "execution_count": 6,
     "metadata": {},
     "output_type": "execute_result"
    }
   ],
   "source": [
    "bert_module.get_signature_names()"
   ]
  },
  {
   "cell_type": "code",
   "execution_count": 7,
   "metadata": {},
   "outputs": [
    {
     "data": {
      "text/plain": [
       "768"
      ]
     },
     "execution_count": 7,
     "metadata": {},
     "output_type": "execute_result"
    }
   ],
   "source": [
    "embed_size=bert_module.get_output_info_dict(signature=\"tokens\")['pooled_output'].get_shape()[1].value\n",
    "embed_size"
   ]
  },
  {
   "cell_type": "markdown",
   "metadata": {
    "colab_type": "text",
    "id": "Sf9A4Xl6J7c6"
   },
   "source": [
    "## Wrap embed module in a Lambda layer\n",
    "Explicitly cast the input as a string"
   ]
  },
  {
   "cell_type": "code",
   "execution_count": 8,
   "metadata": {
    "colab": {
     "base_uri": "https://localhost:8080/",
     "height": 272
    },
    "colab_type": "code",
    "id": "t3fllZkVjXKV",
    "outputId": "528eb185-4454-4ba3-91d2-bd6c5733858e"
   },
   "outputs": [
    {
     "name": "stderr",
     "output_type": "stream",
     "text": [
      "WARNING: Logging before flag parsing goes to stderr.\n",
      "W0808 15:39:07.493130 140036893017920 deprecation_wrapper.py:119] From /home/chirag/venv/lib/python3.6/site-packages/keras/backend/tensorflow_backend.py:74: The name tf.get_default_graph is deprecated. Please use tf.compat.v1.get_default_graph instead.\n",
      "\n",
      "W0808 15:39:07.494173 140036893017920 deprecation_wrapper.py:119] From /home/chirag/venv/lib/python3.6/site-packages/keras/backend/tensorflow_backend.py:517: The name tf.placeholder is deprecated. Please use tf.compat.v1.placeholder instead.\n",
      "\n",
      "W0808 15:39:07.495821 140036893017920 deprecation_wrapper.py:119] From /home/chirag/venv/lib/python3.6/site-packages/keras/backend/tensorflow_backend.py:4138: The name tf.random_uniform is deprecated. Please use tf.random.uniform instead.\n",
      "\n",
      "W0808 15:39:07.513628 140036893017920 deprecation_wrapper.py:119] From /home/chirag/venv/lib/python3.6/site-packages/keras/optimizers.py:790: The name tf.train.Optimizer is deprecated. Please use tf.compat.v1.train.Optimizer instead.\n",
      "\n",
      "W0808 15:39:07.529678 140036893017920 deprecation_wrapper.py:119] From /home/chirag/venv/lib/python3.6/site-packages/keras/backend/tensorflow_backend.py:3376: The name tf.log is deprecated. Please use tf.math.log instead.\n",
      "\n",
      "W0808 15:39:07.532669 140036893017920 deprecation.py:323] From /home/chirag/venv/lib/python3.6/site-packages/tensorflow/python/ops/nn_impl.py:180: add_dispatch_support.<locals>.wrapper (from tensorflow.python.ops.array_ops) is deprecated and will be removed in a future version.\n",
      "Instructions for updating:\n",
      "Use tf.where in 2.0, which has the same broadcast rule as np.where\n"
     ]
    },
    {
     "name": "stdout",
     "output_type": "stream",
     "text": [
      "_________________________________________________________________\n",
      "Layer (type)                 Output Shape              Param #   \n",
      "=================================================================\n",
      "input_1 (InputLayer)         (None, 768)               0         \n",
      "_________________________________________________________________\n",
      "dense_1 (Dense)              (None, 256)               196864    \n",
      "_________________________________________________________________\n",
      "dense_2 (Dense)              (None, 14)                3598      \n",
      "=================================================================\n",
      "Total params: 200,462\n",
      "Trainable params: 200,462\n",
      "Non-trainable params: 0\n",
      "_________________________________________________________________\n"
     ]
    }
   ],
   "source": [
    "embedding = layers.Input(shape=(768,), dtype='float32')\n",
    "#input_text = layers.Input(shape=(1,), dtype=tf.string)\n",
    "#embedding = layers.Lambda(UniversalEmbedding, output_shape=(embed_size,))(input_text)\n",
    "dense = layers.Dense(256, activation='relu')(embedding)\n",
    "pred = layers.Dense(category_counts, activation='sigmoid')(dense)\n",
    "model = Model(inputs=[embedding], outputs=pred)\n",
    "model.compile(loss='binary_crossentropy', optimizer='adam', metrics=['accuracy'])\n",
    "model.summary()"
   ]
  },
  {
   "cell_type": "code",
   "execution_count": 9,
   "metadata": {},
   "outputs": [],
   "source": [
    "bc = BertClient(ip='192.168.0.101', check_length=False)"
   ]
  },
  {
   "cell_type": "code",
   "execution_count": 10,
   "metadata": {},
   "outputs": [],
   "source": [
    "train_text = df_train['text'].tolist()\n",
    "train_label = np.asarray(pd.get_dummies(df_train.label), dtype = np.int8)\n",
    "train_text_enc = bc.encode(train_text)"
   ]
  },
  {
   "cell_type": "code",
   "execution_count": 12,
   "metadata": {
    "colab": {
     "base_uri": "https://localhost:8080/",
     "height": 34
    },
    "colab_type": "code",
    "id": "WX3s8yIVFWHI",
    "outputId": "ca52083b-e89b-414f-e13c-218c3626cafc"
   },
   "outputs": [
    {
     "data": {
      "text/plain": [
       "(31866, 768)"
      ]
     },
     "execution_count": 12,
     "metadata": {},
     "output_type": "execute_result"
    }
   ],
   "source": [
    "train_text_enc.shape"
   ]
  },
  {
   "cell_type": "code",
   "execution_count": 13,
   "metadata": {
    "colab": {
     "base_uri": "https://localhost:8080/",
     "height": 68
    },
    "colab_type": "code",
    "id": "gPYVmBr2Fbob",
    "outputId": "ae33f202-e1a3-4d2b-c02f-6feebdeccf75"
   },
   "outputs": [
    {
     "data": {
      "text/plain": [
       "array([[0, 0, 0, 0, 0, 0, 0, 0, 0, 0, 0, 0, 0, 1],\n",
       "       [0, 0, 0, 0, 0, 1, 0, 0, 0, 0, 0, 0, 0, 0],\n",
       "       [0, 0, 0, 0, 0, 0, 0, 0, 0, 0, 0, 0, 0, 1]], dtype=int8)"
      ]
     },
     "execution_count": 13,
     "metadata": {},
     "output_type": "execute_result"
    }
   ],
   "source": [
    "train_label[:3]"
   ]
  },
  {
   "cell_type": "code",
   "execution_count": 14,
   "metadata": {
    "colab": {},
    "colab_type": "code",
    "id": "QWAjtjdeI9P4"
   },
   "outputs": [],
   "source": [
    "test_text = df_test['text'].tolist()\n",
    "test_label = np.asarray(pd.get_dummies(df_test.label), dtype = np.int8)\n",
    "test_text_enc = bc.encode(test_text)"
   ]
  },
  {
   "cell_type": "code",
   "execution_count": 15,
   "metadata": {},
   "outputs": [
    {
     "data": {
      "text/plain": [
       "(8134, 768)"
      ]
     },
     "execution_count": 15,
     "metadata": {},
     "output_type": "execute_result"
    }
   ],
   "source": [
    "test_text_enc.shape"
   ]
  },
  {
   "cell_type": "markdown",
   "metadata": {
    "colab_type": "text",
    "id": "bqcRy_JWXe0u"
   },
   "source": [
    "## Train Keras model and save weights\n",
    "This only train and save our Keras layers not the embed module' weights."
   ]
  },
  {
   "cell_type": "code",
   "execution_count": 16,
   "metadata": {
    "colab": {
     "base_uri": "https://localhost:8080/",
     "height": 374
    },
    "colab_type": "code",
    "id": "_stfC_7VFhS8",
    "outputId": "3b297de8-1c24-42bc-9272-912ac036c9c9"
   },
   "outputs": [
    {
     "name": "stderr",
     "output_type": "stream",
     "text": [
      "W0808 15:48:46.041866 140036893017920 deprecation_wrapper.py:119] From /home/chirag/venv/lib/python3.6/site-packages/keras/backend/tensorflow_backend.py:986: The name tf.assign_add is deprecated. Please use tf.compat.v1.assign_add instead.\n",
      "\n"
     ]
    },
    {
     "name": "stdout",
     "output_type": "stream",
     "text": [
      "Train on 31866 samples, validate on 8134 samples\n",
      "Epoch 1/5\n",
      "31866/31866 [==============================] - 3s 89us/step - loss: 0.2103 - acc: 0.9277 - val_loss: 0.2067 - val_acc: 0.9286\n",
      "Epoch 2/5\n",
      "31866/31866 [==============================] - 2s 69us/step - loss: 0.2020 - acc: 0.9291 - val_loss: 0.2042 - val_acc: 0.9290\n",
      "Epoch 3/5\n",
      "31866/31866 [==============================] - 2s 71us/step - loss: 0.1989 - acc: 0.9295 - val_loss: 0.2040 - val_acc: 0.9288\n",
      "Epoch 4/5\n",
      "31866/31866 [==============================] - 2s 69us/step - loss: 0.1973 - acc: 0.9298 - val_loss: 0.2048 - val_acc: 0.9289\n",
      "Epoch 5/5\n",
      "31866/31866 [==============================] - 2s 69us/step - loss: 0.1955 - acc: 0.9301 - val_loss: 0.2055 - val_acc: 0.9283\n"
     ]
    }
   ],
   "source": [
    "with tf.Session() as session:\n",
    "    K.set_session(session)\n",
    "    session.run(tf.global_variables_initializer())\n",
    "    session.run(tf.tables_initializer())\n",
    "    history = model.fit(train_text_enc, \n",
    "            train_label,\n",
    "            validation_data=(test_text_enc, test_label),\n",
    "            epochs=5,\n",
    "            batch_size=32)\n",
    "    model.save_weights('./model.h5')"
   ]
  },
  {
   "cell_type": "code",
   "execution_count": 17,
   "metadata": {
    "colab": {
     "base_uri": "https://localhost:8080/",
     "height": 35
    },
    "colab_type": "code",
    "id": "UW1CiBhnXnxa",
    "outputId": "1c9f90b9-3757-461e-d06e-076e524bd792"
   },
   "outputs": [
    {
     "name": "stdout",
     "output_type": "stream",
     "text": [
      "-rw-r--r-- 1 chirag chirag 797K Aug  8 15:48 model.h5\r\n"
     ]
    }
   ],
   "source": [
    "!ls -alh | grep model.h5"
   ]
  },
  {
   "cell_type": "markdown",
   "metadata": {
    "colab_type": "text",
    "id": "nQux6qLdXabG"
   },
   "source": [
    "## Make predictions"
   ]
  },
  {
   "cell_type": "code",
   "execution_count": 76,
   "metadata": {
    "colab": {
     "base_uri": "https://localhost:8080/",
     "height": 102
    },
    "colab_type": "code",
    "id": "fSDxetlfUEiD",
    "outputId": "fd01489b-e59c-48ed-dcd4-34e815d3f3ca"
   },
   "outputs": [],
   "source": [
    "new_text =[\"The bottle is blue in color\", \"I hate you so much\",  \"I had an amazing day at the stadium\", \n",
    "           \"It was super fun after playing football\", \"my computer works fine\", \n",
    "           \"I was shocked when I heard the airplane got crashed\",\n",
    "           \"What the fuck!!!!!!\",\n",
    "          \"What is your name?\",\n",
    "          \"I was surprised when she got a gold medal for India.\"]\n",
    "new_text_enc = bc.encode(new_text)"
   ]
  },
  {
   "cell_type": "code",
   "execution_count": 77,
   "metadata": {},
   "outputs": [
    {
     "data": {
      "text/plain": [
       "(9, 768)"
      ]
     },
     "execution_count": 77,
     "metadata": {},
     "output_type": "execute_result"
    }
   ],
   "source": [
    "new_text_enc.shape"
   ]
  },
  {
   "cell_type": "code",
   "execution_count": 78,
   "metadata": {},
   "outputs": [
    {
     "name": "stderr",
     "output_type": "stream",
     "text": [
      "Exception ignored in: <bound method BaseSession._Callable.__del__ of <tensorflow.python.client.session.BaseSession._Callable object at 0x7f5c68965208>>\n",
      "Traceback (most recent call last):\n",
      "  File \"/home/chirag/venv/lib/python3.6/site-packages/tensorflow/python/client/session.py\", line 1473, in __del__\n",
      "    self._session._session, self._handle)\n",
      "tensorflow.python.framework.errors_impl.CancelledError: (None, None, 'Session has been closed.')\n"
     ]
    }
   ],
   "source": [
    "with tf.Session() as session:\n",
    "    K.set_session(session)\n",
    "    session.run(tf.global_variables_initializer())\n",
    "    session.run(tf.tables_initializer())\n",
    "    model.load_weights('./model.h5')  \n",
    "    predicts = model.predict(new_text_enc, batch_size=32)"
   ]
  },
  {
   "cell_type": "code",
   "execution_count": 79,
   "metadata": {},
   "outputs": [
    {
     "data": {
      "text/plain": [
       "array([[2.0350814e-03, 2.0157099e-03, 7.1240187e-02, 2.4720430e-03,\n",
       "        2.6770711e-02, 1.2044600e-01, 3.2000571e-02, 3.2670200e-02,\n",
       "        3.7681589e-01, 6.7488849e-02, 4.2224020e-02, 8.6188316e-05,\n",
       "        9.1425061e-02, 7.5395077e-02],\n",
       "       [1.3996959e-03, 9.3549490e-04, 6.8725049e-03, 1.4655590e-03,\n",
       "        3.9370656e-03, 2.0048231e-02, 2.6898789e-01, 1.8154705e-01,\n",
       "        8.0556512e-02, 1.1915535e-02, 2.5613678e-01, 0.0000000e+00,\n",
       "        2.0895064e-02, 1.3145527e-01],\n",
       "       [1.0221601e-03, 1.2023151e-03, 1.2288451e-02, 7.5846016e-03,\n",
       "        2.7428955e-02, 5.6871986e-01, 7.5955987e-03, 9.8268420e-02,\n",
       "        1.4171860e-01, 5.6668073e-02, 3.0237108e-02, 8.8721514e-05,\n",
       "        1.4097255e-01, 8.9795619e-02],\n",
       "       [6.8944693e-04, 3.6239624e-04, 5.9154034e-03, 6.1479807e-03,\n",
       "        1.5680462e-01, 6.9085258e-01, 2.9958785e-03, 1.5326336e-01,\n",
       "        7.6561719e-02, 9.0712190e-02, 1.1697590e-02, 2.3424625e-05,\n",
       "        7.8079134e-02, 3.4933239e-02],\n",
       "       [8.3343387e-03, 1.5093982e-03, 1.5888840e-02, 3.8401186e-03,\n",
       "        9.7477436e-03, 1.4424214e-01, 3.0347437e-02, 2.4084777e-02,\n",
       "        1.4992711e-01, 1.1697650e-01, 8.3314925e-02, 2.0861626e-07,\n",
       "        1.7631531e-02, 3.3242229e-01],\n",
       "       [6.7350268e-03, 2.6341379e-03, 1.5176088e-02, 2.3576319e-03,\n",
       "        2.6887059e-03, 5.6124955e-02, 1.4939934e-02, 5.9337318e-03,\n",
       "        5.1691025e-02, 3.4495950e-02, 1.3823363e-01, 4.1127205e-06,\n",
       "        2.4176374e-01, 4.9479437e-01],\n",
       "       [8.8420510e-03, 3.1588376e-03, 1.6761780e-02, 2.5899708e-03,\n",
       "        1.7464131e-02, 5.1873922e-02, 6.0201079e-02, 2.9291809e-03,\n",
       "        6.2967390e-02, 8.9128613e-03, 7.2801977e-02, 0.0000000e+00,\n",
       "        1.3577586e-01, 3.3639860e-01],\n",
       "       [1.0980368e-03, 4.6005845e-04, 2.8329492e-02, 4.0968657e-03,\n",
       "        4.3936074e-03, 1.2291163e-02, 7.3712766e-03, 1.7322034e-02,\n",
       "        6.0229588e-01, 7.3249936e-03, 1.3034612e-02, 8.1062317e-06,\n",
       "        3.6266130e-01, 1.5771630e-01],\n",
       "       [1.6587079e-03, 6.1041117e-04, 1.9915998e-02, 2.0375013e-02,\n",
       "        2.1071941e-02, 1.5419748e-01, 2.3952723e-02, 3.7456483e-02,\n",
       "        1.6434610e-01, 1.9647647e-02, 3.5427999e-02, 6.3498715e-06,\n",
       "        7.0519269e-02, 3.9462605e-01]], dtype=float32)"
      ]
     },
     "execution_count": 79,
     "metadata": {},
     "output_type": "execute_result"
    }
   ],
   "source": [
    "predicts"
   ]
  },
  {
   "cell_type": "code",
   "execution_count": 80,
   "metadata": {
    "colab": {
     "base_uri": "https://localhost:8080/",
     "height": 34
    },
    "colab_type": "code",
    "id": "yyDGVtigW57f",
    "outputId": "6cdbf287-9c0b-433a-da7d-cfcc7805405e"
   },
   "outputs": [
    {
     "data": {
      "text/plain": [
       "['neutral',\n",
       " 'hate',\n",
       " 'happiness',\n",
       " 'happiness',\n",
       " 'worry',\n",
       " 'worry',\n",
       " 'worry',\n",
       " 'neutral',\n",
       " 'worry']"
      ]
     },
     "execution_count": 80,
     "metadata": {},
     "output_type": "execute_result"
    }
   ],
   "source": [
    "categories = df_train.label.cat.categories.tolist()\n",
    "predict_logits = predicts.argmax(axis=1)\n",
    "predict_labels = [categories[logit] for logit in predict_logits]\n",
    "predict_labels"
   ]
  },
  {
   "cell_type": "code",
   "execution_count": 81,
   "metadata": {},
   "outputs": [
    {
     "name": "stdout",
     "output_type": "stream",
     "text": [
      "The bottle is blue in color--->\n",
      "\thappiness--->0.120446\n",
      "\tneutral--->0.3768159\n",
      "I hate you so much--->\n",
      "\thate--->0.2689879\n",
      "\tlove--->0.18154705\n",
      "\tsadness--->0.25613678\n",
      "\tworry--->0.13145527\n",
      "I had an amazing day at the stadium--->\n",
      "\thappiness--->0.56871986\n",
      "\tneutral--->0.1417186\n",
      "\tsurprise--->0.14097255\n",
      "It was super fun after playing football--->\n",
      "\tfun--->0.15680462\n",
      "\thappiness--->0.6908526\n",
      "\tlove--->0.15326336\n",
      "my computer works fine--->\n",
      "\thappiness--->0.14424214\n",
      "\tneutral--->0.14992711\n",
      "\trelief--->0.1169765\n",
      "\tworry--->0.3324223\n",
      "I was shocked when I heard the airplane got crashed--->\n",
      "\tsadness--->0.13823363\n",
      "\tsurprise--->0.24176374\n",
      "\tworry--->0.49479437\n",
      "What the fuck!!!!!!--->\n",
      "\tsurprise--->0.13577586\n",
      "\tworry--->0.3363986\n",
      "What is your name?--->\n",
      "\tneutral--->0.6022959\n",
      "\tsurprise--->0.3626613\n",
      "\tworry--->0.1577163\n",
      "I was surprised when she got a gold medal for India.--->\n",
      "\thappiness--->0.15419748\n",
      "\tneutral--->0.1643461\n",
      "\tworry--->0.39462605\n"
     ]
    }
   ],
   "source": [
    "threshold = 0.1\n",
    "for i,sentence in enumerate(new_text):\n",
    "    predict = predicts[i]\n",
    "    print(sentence+'--->')\n",
    "    for j, pred in enumerate(predict):\n",
    "        if pred>threshold:\n",
    "            print('\\t'+categories[j]+'--->'+str(pred))"
   ]
  },
  {
   "cell_type": "code",
   "execution_count": null,
   "metadata": {},
   "outputs": [],
   "source": []
  },
  {
   "cell_type": "code",
   "execution_count": null,
   "metadata": {},
   "outputs": [],
   "source": []
  }
 ],
 "metadata": {
  "accelerator": "GPU",
  "colab": {
   "collapsed_sections": [],
   "include_colab_link": true,
   "name": "Copy of Transfer Learning - Semantic Similarity with TF-Hub Universal Encoder",
   "provenance": [],
   "toc_visible": true,
   "version": "0.3.2"
  },
  "kernelspec": {
   "display_name": "Python 3",
   "language": "python",
   "name": "python3"
  },
  "language_info": {
   "codemirror_mode": {
    "name": "ipython",
    "version": 3
   },
   "file_extension": ".py",
   "mimetype": "text/x-python",
   "name": "python",
   "nbconvert_exporter": "python",
   "pygments_lexer": "ipython3",
   "version": "3.6.8"
  }
 },
 "nbformat": 4,
 "nbformat_minor": 1
}
